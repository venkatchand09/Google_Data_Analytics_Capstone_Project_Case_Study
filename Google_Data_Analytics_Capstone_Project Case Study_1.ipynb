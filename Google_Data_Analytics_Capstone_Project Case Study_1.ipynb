{
 "cells": [
  {
   "cell_type": "markdown",
   "metadata": {
    "id": "OIo4IeRr-9XN"
   },
   "source": [
    "## Capstone Project"
   ]
  },
  {
   "cell_type": "markdown",
   "metadata": {
    "id": "BpHLcGv9_GXX"
   },
   "source": [
    "- As a junior data analyst working in Cyclistics marking analytics team, I am tasked to understand how casual riders and annual members use Cyclistic bikes differently. I will approach this task through the Ask, Prepare, Process, Analyze, Share, and Act phases."
   ]
  },
  {
   "cell_type": "markdown",
   "metadata": {
    "id": "DKLBkus9_RlZ"
   },
   "source": [
    "### Ask"
   ]
  },
  {
   "cell_type": "markdown",
   "metadata": {
    "id": "Qfi4ORZ2_RsT"
   },
   "source": [
    "- The ask phase requires us to answer related questions that will aid the business task, which in this case is to determine the differences in behaviours between casual members and annual members so that design marketing strategies can be implemented to aid in the conversion of casual members into annual members. This is because, the marketing director and the marketing analysis team have came to the conclusion that an annual membership is much more profitable to the company in comparison to a casual membership.\n",
    "\n",
    "- The company has provided the data they collected for the past 12 months to help with this business task. I will be using the language R to prepare, process, and analyse this data. I will then use Tableau to share the results to the stakeholders."
   ]
  },
  {
   "cell_type": "markdown",
   "metadata": {
    "id": "YLrRa0T3_Rvt"
   },
   "source": [
    "### Prepare"
   ]
  },
  {
   "cell_type": "markdown",
   "metadata": {
    "id": "JBOZmom7_RzV"
   },
   "source": [
    "- In the prepare phase, we have to first determine if the data is usable by checking its credibility. I did this by going through the \"ROCCC\" check (Reliable, Original, Comprehensive, Current, and Cited). After verifying that the 12 months of data provided by Motivate International Inc is credible, I then move on to setting up my studio to process the data. As mentioned before, I will be using R for this phase.\n",
    "\n",
    "- I observed that the data is stored in a \".csv\" format (comma seperated values) and that each data set has 13 variables."
   ]
  },
  {
   "cell_type": "markdown",
   "metadata": {
    "id": "DGZhTNYp_R3N"
   },
   "source": [
    "### Process"
   ]
  },
  {
   "cell_type": "markdown",
   "metadata": {
    "id": "aSpqsha2_R7W"
   },
   "source": [
    "- In this phase, I clean the data by removing all null values, renaming or recoding variables to get more useful data, and format variables to have symmetrical and readable data types."
   ]
  },
  {
   "cell_type": "code",
   "execution_count": null,
   "metadata": {
    "id": "OZAQYjxy_FVa"
   },
   "outputs": [],
   "source": [
    "# Loading packages\n",
    "library(\"dplyr\")\n",
    "library(\"tidyverse\")\n",
    "library(\"lubridate\")\n",
    "library(\"readxl\")\n",
    "library(\"readr\")"
   ]
  },
  {
   "cell_type": "code",
   "execution_count": null,
   "metadata": {
    "colab": {
     "base_uri": "https://localhost:8080/"
    },
    "id": "O9UJZIUN_7wp",
    "outputId": "a71ba31d-ab52-43ce-da05-a9fe64de23ee"
   },
   "outputs": [
    {
     "name": "stderr",
     "output_type": "stream",
     "text": [
      "Installing package into ‘/usr/local/lib/R/site-library’\n",
      "(as ‘lib’ is unspecified)\n",
      "\n"
     ]
    }
   ],
   "source": [
    "install.packages(\"modeest\")"
   ]
  },
  {
   "cell_type": "code",
   "execution_count": null,
   "metadata": {
    "id": "DLxl26iEA-1U"
   },
   "outputs": [],
   "source": [
    "jan <- read.csv(\"/content/sample_data/202101-divvy-tripdata.csv\")\n",
    "feb <- read.csv(\"/content/sample_data/202102-divvy-tripdata.csv\")\n",
    "mar <- read.csv(\"/content/sample_data/202103-divvy-tripdata.csv\")\n",
    "apr <- read.csv(\"/content/sample_data/202104-divvy-tripdata.csv\")\n",
    "may <- read.csv(\"/content/sample_data/202105-divvy-tripdata.csv\")\n",
    "jun <- read.csv(\"/content/sample_data/202106-divvy-tripdata.csv\")\n",
    "jul <- read.csv(\"/content/sample_data/202107-divvy-tripdata.csv\")\n",
    "aug <- read.csv(\"/content/sample_data/202108-divvy-tripdata.csv\")\n",
    "sep <- read.csv(\"/content/sample_data/202109-divvy-tripdata.csv\")\n",
    "oct <- read.csv(\"/content/sample_data/202110-divvy-tripdata.csv\")\n",
    "nov <- read.csv(\"/content/sample_data/202111-divvy-tripdata.csv\")\n",
    "dec <- read.csv(\"/content/sample_data/202112-divvy-tripdata.csv\")\n",
    "cyclistic_2021 <- rbind(jan, feb, mar, apr, may, jun, jul, aug, sep, oct, nov, dec)"
   ]
  },
  {
   "cell_type": "markdown",
   "metadata": {
    "id": "Lmz0rluZtjsW"
   },
   "source": [
    "Next, I take a look at the new data frame to further understand its structure."
   ]
  },
  {
   "cell_type": "code",
   "execution_count": null,
   "metadata": {
    "colab": {
     "base_uri": "https://localhost:8080/",
     "height": 1000
    },
    "id": "BaeiM76cICB3",
    "outputId": "16707a4b-0baa-478e-edf4-b930cbf5049b"
   },
   "outputs": [
    {
     "data": {
      "text/html": [
       "<table class=\"dataframe\">\n",
       "<caption>A data.frame: 4906125 × 13</caption>\n",
       "<thead>\n",
       "\t<tr><th scope=col>ride_id</th><th scope=col>rideable_type</th><th scope=col>started_at</th><th scope=col>ended_at</th><th scope=col>start_station_name</th><th scope=col>start_station_id</th><th scope=col>end_station_name</th><th scope=col>end_station_id</th><th scope=col>start_lat</th><th scope=col>start_lng</th><th scope=col>end_lat</th><th scope=col>end_lng</th><th scope=col>member_casual</th></tr>\n",
       "\t<tr><th scope=col>&lt;chr&gt;</th><th scope=col>&lt;chr&gt;</th><th scope=col>&lt;chr&gt;</th><th scope=col>&lt;chr&gt;</th><th scope=col>&lt;chr&gt;</th><th scope=col>&lt;chr&gt;</th><th scope=col>&lt;chr&gt;</th><th scope=col>&lt;chr&gt;</th><th scope=col>&lt;dbl&gt;</th><th scope=col>&lt;dbl&gt;</th><th scope=col>&lt;dbl&gt;</th><th scope=col>&lt;dbl&gt;</th><th scope=col>&lt;chr&gt;</th></tr>\n",
       "</thead>\n",
       "<tbody>\n",
       "\t<tr><td>E19E6F1B8D4C42ED</td><td>electric_bike</td><td>2021-01-23 16:14:19</td><td>2021-01-23 16:24:44</td><td><span style=white-space:pre-wrap>California Ave &amp; Cortez St  </span></td><td><span style=white-space:pre-wrap>17660       </span></td><td><span style=white-space:pre-wrap>                               </span></td><td><span style=white-space:pre-wrap>            </span></td><td>41.90034</td><td>-87.69674</td><td>41.89000</td><td>-87.72000</td><td>member</td></tr>\n",
       "\t<tr><td>DC88F20C2C55F27F</td><td>electric_bike</td><td>2021-01-27 18:43:08</td><td>2021-01-27 18:47:12</td><td><span style=white-space:pre-wrap>California Ave &amp; Cortez St  </span></td><td><span style=white-space:pre-wrap>17660       </span></td><td><span style=white-space:pre-wrap>                               </span></td><td><span style=white-space:pre-wrap>            </span></td><td>41.90033</td><td>-87.69671</td><td>41.90000</td><td>-87.69000</td><td>member</td></tr>\n",
       "\t<tr><td>EC45C94683FE3F27</td><td>electric_bike</td><td>2021-01-21 22:35:54</td><td>2021-01-21 22:37:14</td><td><span style=white-space:pre-wrap>California Ave &amp; Cortez St  </span></td><td><span style=white-space:pre-wrap>17660       </span></td><td><span style=white-space:pre-wrap>                               </span></td><td><span style=white-space:pre-wrap>            </span></td><td>41.90031</td><td>-87.69664</td><td>41.90000</td><td>-87.70000</td><td>member</td></tr>\n",
       "\t<tr><td>4FA453A75AE377DB</td><td>electric_bike</td><td>2021-01-07 13:31:13</td><td>2021-01-07 13:42:55</td><td><span style=white-space:pre-wrap>California Ave &amp; Cortez St  </span></td><td><span style=white-space:pre-wrap>17660       </span></td><td><span style=white-space:pre-wrap>                               </span></td><td><span style=white-space:pre-wrap>            </span></td><td>41.90040</td><td>-87.69666</td><td>41.92000</td><td>-87.69000</td><td>member</td></tr>\n",
       "\t<tr><td>BE5E8EB4E7263A0B</td><td>electric_bike</td><td>2021-01-23 02:24:02</td><td>2021-01-23 02:24:45</td><td><span style=white-space:pre-wrap>California Ave &amp; Cortez St  </span></td><td><span style=white-space:pre-wrap>17660       </span></td><td><span style=white-space:pre-wrap>                               </span></td><td><span style=white-space:pre-wrap>            </span></td><td>41.90033</td><td>-87.69670</td><td>41.90000</td><td>-87.70000</td><td>casual</td></tr>\n",
       "\t<tr><td>5D8969F88C773979</td><td>electric_bike</td><td>2021-01-09 14:24:07</td><td>2021-01-09 15:17:54</td><td><span style=white-space:pre-wrap>California Ave &amp; Cortez St  </span></td><td><span style=white-space:pre-wrap>17660       </span></td><td><span style=white-space:pre-wrap>                               </span></td><td><span style=white-space:pre-wrap>            </span></td><td>41.90041</td><td>-87.69676</td><td>41.94000</td><td>-87.71000</td><td>casual</td></tr>\n",
       "\t<tr><td>09275CC10F854E9E</td><td>electric_bike</td><td>2021-01-04 05:05:04</td><td>2021-01-04 05:10:39</td><td><span style=white-space:pre-wrap>California Ave &amp; Cortez St  </span></td><td><span style=white-space:pre-wrap>17660       </span></td><td><span style=white-space:pre-wrap>                               </span></td><td><span style=white-space:pre-wrap>            </span></td><td>41.90039</td><td>-87.69676</td><td>41.90000</td><td>-87.71000</td><td>member</td></tr>\n",
       "\t<tr><td>DF7A32A217AEFB14</td><td>electric_bike</td><td>2021-01-14 15:07:00</td><td>2021-01-14 15:13:40</td><td><span style=white-space:pre-wrap>California Ave &amp; Cortez St  </span></td><td><span style=white-space:pre-wrap>17660       </span></td><td><span style=white-space:pre-wrap>                               </span></td><td><span style=white-space:pre-wrap>            </span></td><td>41.90039</td><td>-87.69673</td><td>41.91000</td><td>-87.70000</td><td>member</td></tr>\n",
       "\t<tr><td>C2EFC62379EB716C</td><td>electric_bike</td><td>2021-01-09 09:57:55</td><td>2021-01-09 10:00:26</td><td><span style=white-space:pre-wrap>California Ave &amp; Cortez St  </span></td><td><span style=white-space:pre-wrap>17660       </span></td><td><span style=white-space:pre-wrap>                               </span></td><td><span style=white-space:pre-wrap>            </span></td><td>41.90031</td><td>-87.69680</td><td>41.90000</td><td>-87.70000</td><td>member</td></tr>\n",
       "\t<tr><td>B9F73448DFBE0D45</td><td>classic_bike </td><td>2021-01-24 19:15:38</td><td>2021-01-24 19:22:51</td><td><span style=white-space:pre-wrap>California Ave &amp; Cortez St  </span></td><td><span style=white-space:pre-wrap>17660       </span></td><td><span style=white-space:pre-wrap>Wood St &amp; Augusta Blvd         </span></td><td><span style=white-space:pre-wrap>657         </span></td><td>41.90036</td><td>-87.69670</td><td>41.89918</td><td>-87.67220</td><td>member</td></tr>\n",
       "\t<tr><td>457C7F4B5D3DA135</td><td>electric_bike</td><td>2021-01-23 12:57:38</td><td>2021-01-23 13:02:10</td><td><span style=white-space:pre-wrap>California Ave &amp; Cortez St  </span></td><td><span style=white-space:pre-wrap>17660       </span></td><td><span style=white-space:pre-wrap>California Ave &amp; North Ave     </span></td><td><span style=white-space:pre-wrap>13258       </span></td><td>41.90041</td><td>-87.69673</td><td>41.91044</td><td>-87.69689</td><td>member</td></tr>\n",
       "\t<tr><td>57C750326F9FDABE</td><td>electric_bike</td><td>2021-01-09 15:28:04</td><td>2021-01-09 15:37:51</td><td><span style=white-space:pre-wrap>California Ave &amp; Cortez St  </span></td><td><span style=white-space:pre-wrap>17660       </span></td><td><span style=white-space:pre-wrap>Wood St &amp; Augusta Blvd         </span></td><td><span style=white-space:pre-wrap>657         </span></td><td>41.90037</td><td>-87.69669</td><td>41.89918</td><td>-87.67218</td><td>casual</td></tr>\n",
       "\t<tr><td>4D518C65E338D070</td><td>electric_bike</td><td>2021-01-09 15:28:57</td><td>2021-01-09 15:37:54</td><td><span style=white-space:pre-wrap>California Ave &amp; Cortez St  </span></td><td><span style=white-space:pre-wrap>17660       </span></td><td><span style=white-space:pre-wrap>Wood St &amp; Augusta Blvd         </span></td><td><span style=white-space:pre-wrap>657         </span></td><td>41.90038</td><td>-87.69672</td><td>41.89915</td><td>-87.67218</td><td>casual</td></tr>\n",
       "\t<tr><td>9D08A3AFF410474D</td><td>classic_bike </td><td>2021-01-24 15:56:59</td><td>2021-01-24 16:07:08</td><td><span style=white-space:pre-wrap>California Ave &amp; Cortez St  </span></td><td><span style=white-space:pre-wrap>17660       </span></td><td><span style=white-space:pre-wrap>Wood St &amp; Augusta Blvd         </span></td><td><span style=white-space:pre-wrap>657         </span></td><td>41.90036</td><td>-87.69670</td><td>41.89918</td><td>-87.67220</td><td>casual</td></tr>\n",
       "\t<tr><td>49FCE1F8598F12C6</td><td>electric_bike</td><td>2021-01-22 15:15:28</td><td>2021-01-22 15:36:01</td><td><span style=white-space:pre-wrap>California Ave &amp; Cortez St  </span></td><td><span style=white-space:pre-wrap>17660       </span></td><td><span style=white-space:pre-wrap>Wells St &amp; Elm St              </span></td><td>KA1504000135</td><td>41.90037</td><td>-87.69679</td><td>41.90327</td><td>-87.63446</td><td>member</td></tr>\n",
       "\t<tr><td>0FEED5C2C8749A1C</td><td>classic_bike </td><td>2021-01-05 10:33:12</td><td>2021-01-05 10:39:12</td><td><span style=white-space:pre-wrap>California Ave &amp; Cortez St  </span></td><td><span style=white-space:pre-wrap>17660       </span></td><td>Sacramento Blvd &amp; Franklin Blvd</td><td>KA1504000113</td><td>41.90036</td><td>-87.69670</td><td>41.89047</td><td>-87.70261</td><td>member</td></tr>\n",
       "\t<tr><td>E276FD43BDED6420</td><td>classic_bike </td><td>2021-01-30 11:59:16</td><td>2021-01-30 12:03:44</td><td><span style=white-space:pre-wrap>California Ave &amp; Cortez St  </span></td><td><span style=white-space:pre-wrap>17660       </span></td><td><span style=white-space:pre-wrap>Western Ave &amp; Walton St        </span></td><td>KA1504000103</td><td>41.90036</td><td>-87.69670</td><td>41.89842</td><td>-87.68660</td><td>member</td></tr>\n",
       "\t<tr><td>88BFCF66C2D585EC</td><td>electric_bike</td><td>2021-01-27 07:27:09</td><td>2021-01-27 07:45:32</td><td><span style=white-space:pre-wrap>California Ave &amp; Cortez St  </span></td><td><span style=white-space:pre-wrap>17660       </span></td><td><span style=white-space:pre-wrap>Damen Ave &amp; Clybourn Ave       </span></td><td><span style=white-space:pre-wrap>13271       </span></td><td>41.90031</td><td>-87.69679</td><td>41.93184</td><td>-87.67781</td><td>member</td></tr>\n",
       "\t<tr><td>8BD6F6510F5C8BD2</td><td>electric_bike</td><td>2021-01-15 08:54:41</td><td>2021-01-15 09:11:46</td><td><span style=white-space:pre-wrap>California Ave &amp; Cortez St  </span></td><td><span style=white-space:pre-wrap>17660       </span></td><td><span style=white-space:pre-wrap>Damen Ave &amp; Clybourn Ave       </span></td><td><span style=white-space:pre-wrap>13271       </span></td><td>41.90036</td><td>-87.69663</td><td>41.93192</td><td>-87.67786</td><td>member</td></tr>\n",
       "\t<tr><td>84F11CC620F83254</td><td>electric_bike</td><td>2021-01-10 08:05:47</td><td>2021-01-10 08:13:24</td><td><span style=white-space:pre-wrap>California Ave &amp; Cortez St  </span></td><td><span style=white-space:pre-wrap>17660       </span></td><td><span style=white-space:pre-wrap>Leavitt St &amp; North Ave         </span></td><td>TA1308000005</td><td>41.90040</td><td>-87.69671</td><td>41.91012</td><td>-87.68240</td><td>casual</td></tr>\n",
       "\t<tr><td>C84E5DD4D74F4FC0</td><td>electric_bike</td><td>2021-01-18 13:30:07</td><td>2021-01-18 13:37:19</td><td><span style=white-space:pre-wrap>California Ave &amp; Cortez St  </span></td><td><span style=white-space:pre-wrap>17660       </span></td><td><span style=white-space:pre-wrap>Leavitt St &amp; North Ave         </span></td><td>TA1308000005</td><td>41.90041</td><td>-87.69671</td><td>41.91015</td><td>-87.68246</td><td>casual</td></tr>\n",
       "\t<tr><td>00AEF8EE4622147F</td><td>electric_bike</td><td>2021-01-07 09:45:00</td><td>2021-01-07 09:52:30</td><td><span style=white-space:pre-wrap>California Ave &amp; Cortez St  </span></td><td><span style=white-space:pre-wrap>17660       </span></td><td><span style=white-space:pre-wrap>Leavitt St &amp; North Ave         </span></td><td>TA1308000005</td><td>41.90041</td><td>-87.69685</td><td>41.91013</td><td>-87.68244</td><td>casual</td></tr>\n",
       "\t<tr><td>55DAB9E709B61EA5</td><td>classic_bike </td><td>2021-01-11 11:20:38</td><td>2021-01-11 11:29:33</td><td><span style=white-space:pre-wrap>California Ave &amp; Cortez St  </span></td><td><span style=white-space:pre-wrap>17660       </span></td><td><span style=white-space:pre-wrap>Leavitt St &amp; North Ave         </span></td><td>TA1308000005</td><td>41.90036</td><td>-87.69670</td><td>41.91051</td><td>-87.68239</td><td>casual</td></tr>\n",
       "\t<tr><td>3E41D6E4EFE87DD9</td><td>classic_bike </td><td>2021-01-22 21:54:15</td><td>2021-01-22 22:04:27</td><td><span style=white-space:pre-wrap>California Ave &amp; Cortez St  </span></td><td><span style=white-space:pre-wrap>17660       </span></td><td><span style=white-space:pre-wrap>Honore St &amp; Division St        </span></td><td>TA1305000034</td><td>41.90036</td><td>-87.69670</td><td>41.90312</td><td>-87.67394</td><td>casual</td></tr>\n",
       "\t<tr><td>FCE0D29EB2DF84DA</td><td>electric_bike</td><td>2021-01-16 01:05:07</td><td>2021-01-16 01:19:43</td><td><span style=white-space:pre-wrap>California Ave &amp; Cortez St  </span></td><td><span style=white-space:pre-wrap>17660       </span></td><td><span style=white-space:pre-wrap>Ogden Ave &amp; Chicago Ave        </span></td><td>TA1305000020</td><td>41.90031</td><td>-87.69683</td><td>41.89636</td><td>-87.65421</td><td>casual</td></tr>\n",
       "\t<tr><td>77E53236C1F0EA3F</td><td>classic_bike </td><td>2021-01-28 20:35:56</td><td>2021-01-28 21:06:32</td><td>Halsted St &amp; North Branch St</td><td>KA1504000117</td><td><span style=white-space:pre-wrap>Southport Ave &amp; Clark St       </span></td><td>TA1308000047</td><td>41.89937</td><td>-87.64848</td><td>41.95708</td><td>-87.66420</td><td>member</td></tr>\n",
       "\t<tr><td>72335684BF7A0943</td><td>electric_bike</td><td>2021-01-09 00:35:55</td><td>2021-01-09 00:43:55</td><td>Halsted St &amp; North Branch St</td><td>KA1504000117</td><td><span style=white-space:pre-wrap>Bissell St &amp; Armitage Ave      </span></td><td><span style=white-space:pre-wrap>13059       </span></td><td>41.89936</td><td>-87.64849</td><td>41.91799</td><td>-87.65250</td><td>member</td></tr>\n",
       "\t<tr><td>625DDA8DCCCCB3E2</td><td>classic_bike </td><td>2021-01-17 15:07:57</td><td>2021-01-17 15:20:54</td><td><span style=white-space:pre-wrap>Glenwood Ave &amp; Touhy Ave    </span></td><td><span style=white-space:pre-wrap>525         </span></td><td><span style=white-space:pre-wrap>Broadway &amp; Granville Ave       </span></td><td><span style=white-space:pre-wrap>15571       </span></td><td>42.01270</td><td>-87.66606</td><td>41.99478</td><td>-87.66028</td><td>member</td></tr>\n",
       "\t<tr><td>61C6977EA354684C</td><td>electric_bike</td><td>2021-01-25 15:39:54</td><td>2021-01-25 15:52:11</td><td>Halsted St &amp; North Branch St</td><td>KA1504000117</td><td><span style=white-space:pre-wrap>Clark St &amp; Lincoln Ave         </span></td><td><span style=white-space:pre-wrap>13179       </span></td><td>41.89933</td><td>-87.64847</td><td>41.91576</td><td>-87.63480</td><td>member</td></tr>\n",
       "\t<tr><td>07F1F6A27AB0436E</td><td>classic_bike </td><td>2021-01-11 15:32:41</td><td>2021-01-11 15:35:26</td><td><span style=white-space:pre-wrap>California Ave &amp; Cortez St  </span></td><td><span style=white-space:pre-wrap>17660       </span></td><td><span style=white-space:pre-wrap>California Ave &amp; Division St   </span></td><td><span style=white-space:pre-wrap>13256       </span></td><td>41.90036</td><td>-87.69670</td><td>41.90303</td><td>-87.69747</td><td>member</td></tr>\n",
       "\t<tr><td>⋮</td><td>⋮</td><td>⋮</td><td>⋮</td><td>⋮</td><td>⋮</td><td>⋮</td><td>⋮</td><td>⋮</td><td>⋮</td><td>⋮</td><td>⋮</td><td>⋮</td></tr>\n",
       "\t<tr><td>F344A84798B09A79</td><td>electric_bike</td><td>2021-12-17 08:14:17</td><td>2021-12-17 08:19:40</td><td><span style=white-space:pre-wrap>Wilton Ave &amp; Belmont Ave   </span></td><td>TA1307000134</td><td><span style=white-space:pre-wrap>                         </span></td><td><span style=white-space:pre-wrap>            </span></td><td>41.94003</td><td>-87.65300</td><td>41.93000</td><td>-87.64000</td><td>casual</td></tr>\n",
       "\t<tr><td>0E0200872CDBBFAE</td><td>electric_bike</td><td>2021-12-04 17:45:49</td><td>2021-12-04 18:09:05</td><td><span style=white-space:pre-wrap>Wilton Ave &amp; Belmont Ave   </span></td><td>TA1307000134</td><td><span style=white-space:pre-wrap>                         </span></td><td><span style=white-space:pre-wrap>            </span></td><td>41.94003</td><td>-87.65297</td><td>41.94000</td><td>-87.64000</td><td>casual</td></tr>\n",
       "\t<tr><td>45C4CCCB83148DE5</td><td>classic_bike </td><td>2021-12-07 18:05:46</td><td>2021-12-07 18:12:18</td><td><span style=white-space:pre-wrap>Wells St &amp; Huron St        </span></td><td>TA1306000012</td><td><span style=white-space:pre-wrap>Wells St &amp; Walton St     </span></td><td>TA1306000011</td><td>41.89472</td><td>-87.63436</td><td>41.89993</td><td>-87.63443</td><td>casual</td></tr>\n",
       "\t<tr><td>95E57D31AD70E703</td><td>electric_bike</td><td>2021-12-01 07:26:06</td><td>2021-12-01 07:31:04</td><td><span style=white-space:pre-wrap>Wells St &amp; Huron St        </span></td><td>TA1306000012</td><td><span style=white-space:pre-wrap>                         </span></td><td><span style=white-space:pre-wrap>            </span></td><td>41.89457</td><td>-87.63461</td><td>41.88000</td><td>-87.63000</td><td>casual</td></tr>\n",
       "\t<tr><td>0094100CF0CD2769</td><td>electric_bike</td><td>2021-12-05 00:45:05</td><td>2021-12-05 01:02:20</td><td><span style=white-space:pre-wrap>Wilton Ave &amp; Belmont Ave   </span></td><td>TA1307000134</td><td><span style=white-space:pre-wrap>                         </span></td><td><span style=white-space:pre-wrap>            </span></td><td>41.94010</td><td>-87.65299</td><td>41.93000</td><td>-87.72000</td><td>casual</td></tr>\n",
       "\t<tr><td>F7864025BA958AF5</td><td>electric_bike</td><td>2021-12-10 03:56:37</td><td>2021-12-10 04:01:42</td><td><span style=white-space:pre-wrap>Wilton Ave &amp; Belmont Ave   </span></td><td>TA1307000134</td><td><span style=white-space:pre-wrap>                         </span></td><td><span style=white-space:pre-wrap>            </span></td><td>41.94016</td><td>-87.65301</td><td>41.94000</td><td>-87.64000</td><td>casual</td></tr>\n",
       "\t<tr><td>1F79B0418779E2DE</td><td>classic_bike </td><td>2021-12-01 05:45:55</td><td>2021-12-01 05:51:36</td><td><span style=white-space:pre-wrap>Wells St &amp; Huron St        </span></td><td>TA1306000012</td><td>Kingsbury St &amp; Kinzie St </td><td>KA1503000043</td><td>41.89472</td><td>-87.63436</td><td>41.88918</td><td>-87.63851</td><td>casual</td></tr>\n",
       "\t<tr><td>F31F03B7185D396E</td><td>electric_bike</td><td>2021-12-11 04:04:06</td><td>2021-12-11 04:07:31</td><td><span style=white-space:pre-wrap>Wells St &amp; Huron St        </span></td><td>TA1306000012</td><td><span style=white-space:pre-wrap>Orleans St &amp; Elm St      </span></td><td>TA1306000006</td><td>41.89495</td><td>-87.63443</td><td>41.90292</td><td>-87.63772</td><td>casual</td></tr>\n",
       "\t<tr><td>073BDECDD8CEEB7F</td><td>classic_bike </td><td>2021-12-06 17:51:27</td><td>2021-12-06 17:54:43</td><td><span style=white-space:pre-wrap>Wells St &amp; Huron St        </span></td><td>TA1306000012</td><td><span style=white-space:pre-wrap>Wells St &amp; Walton St     </span></td><td>TA1306000011</td><td>41.89472</td><td>-87.63436</td><td>41.89993</td><td>-87.63443</td><td>casual</td></tr>\n",
       "\t<tr><td>49AF82E5088F94B6</td><td>electric_bike</td><td>2021-12-21 17:07:10</td><td>2021-12-21 17:15:12</td><td><span style=white-space:pre-wrap>Kedzie Ave &amp; Chicago Ave   </span></td><td>KA1504000114</td><td><span style=white-space:pre-wrap>                         </span></td><td><span style=white-space:pre-wrap>            </span></td><td>41.89552</td><td>-87.70612</td><td>41.91000</td><td>-87.70000</td><td>casual</td></tr>\n",
       "\t<tr><td>0B6BF6DCAF114614</td><td>electric_bike</td><td>2021-12-08 18:27:24</td><td>2021-12-08 18:32:45</td><td><span style=white-space:pre-wrap>Kedzie Ave &amp; Chicago Ave   </span></td><td>KA1504000114</td><td><span style=white-space:pre-wrap>                         </span></td><td><span style=white-space:pre-wrap>            </span></td><td>41.89552</td><td>-87.70621</td><td>41.90000</td><td>-87.71000</td><td>casual</td></tr>\n",
       "\t<tr><td>3F1F16FAACA6C161</td><td>electric_bike</td><td>2021-12-03 06:59:51</td><td>2021-12-03 07:23:43</td><td><span style=white-space:pre-wrap>Leavitt St &amp; Chicago Ave   </span></td><td><span style=white-space:pre-wrap>18058       </span></td><td><span style=white-space:pre-wrap>                         </span></td><td><span style=white-space:pre-wrap>            </span></td><td>41.89550</td><td>-87.68208</td><td>41.95000</td><td>-87.69000</td><td>casual</td></tr>\n",
       "\t<tr><td>6CD3256DC7D49217</td><td>electric_bike</td><td>2021-12-02 22:41:04</td><td>2021-12-02 22:52:36</td><td><span style=white-space:pre-wrap>Princeton Ave &amp; 47th St    </span></td><td>KA1503000009</td><td><span style=white-space:pre-wrap>                         </span></td><td><span style=white-space:pre-wrap>            </span></td><td>41.80932</td><td>-87.63350</td><td>41.81000</td><td>-87.66000</td><td>casual</td></tr>\n",
       "\t<tr><td>F0132FA06DAF06DA</td><td>electric_bike</td><td>2021-12-08 13:54:34</td><td>2021-12-08 14:00:02</td><td><span style=white-space:pre-wrap>Wilton Ave &amp; Belmont Ave   </span></td><td>TA1307000134</td><td><span style=white-space:pre-wrap>                         </span></td><td><span style=white-space:pre-wrap>            </span></td><td>41.94009</td><td>-87.65301</td><td>41.94000</td><td>-87.67000</td><td>casual</td></tr>\n",
       "\t<tr><td>A67059D361ACC221</td><td>electric_bike</td><td>2021-12-05 13:50:42</td><td>2021-12-05 14:12:24</td><td><span style=white-space:pre-wrap>Wells St &amp; Huron St        </span></td><td>TA1306000012</td><td><span style=white-space:pre-wrap>                         </span></td><td><span style=white-space:pre-wrap>            </span></td><td>41.89490</td><td>-87.63443</td><td>41.87000</td><td>-87.62000</td><td>casual</td></tr>\n",
       "\t<tr><td>7A19E60E84CE4625</td><td>electric_bike</td><td>2021-12-16 15:57:50</td><td>2021-12-16 16:04:20</td><td><span style=white-space:pre-wrap>Wilton Ave &amp; Belmont Ave   </span></td><td>TA1307000134</td><td><span style=white-space:pre-wrap>                         </span></td><td><span style=white-space:pre-wrap>            </span></td><td>41.94009</td><td>-87.65299</td><td>41.93000</td><td>-87.64000</td><td>casual</td></tr>\n",
       "\t<tr><td>B449D8E59AE2B4E2</td><td>electric_bike</td><td>2021-12-16 06:40:42</td><td>2021-12-16 06:45:55</td><td><span style=white-space:pre-wrap>Wilton Ave &amp; Belmont Ave   </span></td><td>TA1307000134</td><td><span style=white-space:pre-wrap>                         </span></td><td><span style=white-space:pre-wrap>            </span></td><td>41.94006</td><td>-87.65297</td><td>41.93000</td><td>-87.64000</td><td>casual</td></tr>\n",
       "\t<tr><td>46B23DFEAC1499DF</td><td>classic_bike </td><td>2021-12-15 17:33:51</td><td>2021-12-15 17:39:14</td><td><span style=white-space:pre-wrap>Wilton Ave &amp; Belmont Ave   </span></td><td>TA1307000134</td><td><span style=white-space:pre-wrap>Clark St &amp; Grace St      </span></td><td>TA1307000127</td><td>41.94018</td><td>-87.65304</td><td>41.95078</td><td>-87.65917</td><td>member</td></tr>\n",
       "\t<tr><td>E06135F650553F21</td><td>electric_bike</td><td>2021-12-07 15:55:37</td><td>2021-12-07 16:00:17</td><td><span style=white-space:pre-wrap>Canal St &amp; Madison St      </span></td><td><span style=white-space:pre-wrap>13341       </span></td><td>Desplaines St &amp; Kinzie St</td><td>TA1306000003</td><td>41.88137</td><td>-87.64004</td><td>41.88846</td><td>-87.64434</td><td>casual</td></tr>\n",
       "\t<tr><td>2FA526ED0D5989F0</td><td>electric_bike</td><td>2021-12-02 17:25:45</td><td>2021-12-02 17:47:52</td><td><span style=white-space:pre-wrap>Canal St &amp; Madison St      </span></td><td><span style=white-space:pre-wrap>13341       </span></td><td><span style=white-space:pre-wrap>                         </span></td><td><span style=white-space:pre-wrap>            </span></td><td>41.88255</td><td>-87.63970</td><td>41.90000</td><td>-87.62000</td><td>casual</td></tr>\n",
       "\t<tr><td>46C3F13E9342A2C9</td><td>electric_bike</td><td>2021-12-03 22:19:07</td><td>2021-12-03 22:24:49</td><td><span style=white-space:pre-wrap>Halsted St &amp; 96th St       </span></td><td><span style=white-space:pre-wrap>20105       </span></td><td><span style=white-space:pre-wrap>                         </span></td><td><span style=white-space:pre-wrap>            </span></td><td>41.71972</td><td>-87.64286</td><td>41.73000</td><td>-87.64000</td><td>casual</td></tr>\n",
       "\t<tr><td>08E5EC2EC583D230</td><td>electric_bike</td><td>2021-12-17 07:55:47</td><td>2021-12-17 08:03:45</td><td><span style=white-space:pre-wrap>Canal St &amp; Madison St      </span></td><td><span style=white-space:pre-wrap>13341       </span></td><td><span style=white-space:pre-wrap>                         </span></td><td><span style=white-space:pre-wrap>            </span></td><td>41.88200</td><td>-87.63946</td><td>41.89000</td><td>-87.62000</td><td>casual</td></tr>\n",
       "\t<tr><td>8DF0DBB049906332</td><td>electric_bike</td><td>2021-12-01 16:50:52</td><td>2021-12-01 16:55:18</td><td><span style=white-space:pre-wrap>Canal St &amp; Madison St      </span></td><td><span style=white-space:pre-wrap>13341       </span></td><td>Desplaines St &amp; Kinzie St</td><td>TA1306000003</td><td>41.88200</td><td>-87.63927</td><td>41.88842</td><td>-87.64434</td><td>casual</td></tr>\n",
       "\t<tr><td>DFE48801A70DFEA7</td><td>electric_bike</td><td>2021-12-23 21:28:41</td><td>2021-12-23 21:36:27</td><td><span style=white-space:pre-wrap>Canal St &amp; Madison St      </span></td><td><span style=white-space:pre-wrap>13341       </span></td><td><span style=white-space:pre-wrap>                         </span></td><td><span style=white-space:pre-wrap>            </span></td><td>41.88220</td><td>-87.63923</td><td>41.88000</td><td>-87.65000</td><td>casual</td></tr>\n",
       "\t<tr><td>92BBAB97D1683D69</td><td>electric_bike</td><td>2021-12-24 15:42:09</td><td>2021-12-24 19:29:35</td><td><span style=white-space:pre-wrap>Canal St &amp; Madison St      </span></td><td><span style=white-space:pre-wrap>13341       </span></td><td><span style=white-space:pre-wrap>                         </span></td><td><span style=white-space:pre-wrap>            </span></td><td>41.88180</td><td>-87.63997</td><td>41.88000</td><td>-87.64000</td><td>casual</td></tr>\n",
       "\t<tr><td>847431F3D5353AB7</td><td>electric_bike</td><td>2021-12-12 13:36:55</td><td>2021-12-12 13:56:08</td><td><span style=white-space:pre-wrap>Canal St &amp; Madison St      </span></td><td><span style=white-space:pre-wrap>13341       </span></td><td><span style=white-space:pre-wrap>                         </span></td><td><span style=white-space:pre-wrap>            </span></td><td>41.88229</td><td>-87.63975</td><td>41.89000</td><td>-87.61000</td><td>casual</td></tr>\n",
       "\t<tr><td>CF407BBC3B9FAD63</td><td>electric_bike</td><td>2021-12-06 19:37:50</td><td>2021-12-06 19:44:51</td><td><span style=white-space:pre-wrap>Canal St &amp; Madison St      </span></td><td><span style=white-space:pre-wrap>13341       </span></td><td>Kingsbury St &amp; Kinzie St </td><td>KA1503000043</td><td>41.88212</td><td>-87.64005</td><td>41.88911</td><td>-87.63886</td><td>member</td></tr>\n",
       "\t<tr><td>60BB69EBF5440E92</td><td>electric_bike</td><td>2021-12-02 08:57:04</td><td>2021-12-02 09:05:21</td><td><span style=white-space:pre-wrap>Canal St &amp; Madison St      </span></td><td><span style=white-space:pre-wrap>13341       </span></td><td><span style=white-space:pre-wrap>Dearborn St &amp; Monroe St  </span></td><td>TA1305000006</td><td>41.88196</td><td>-87.63995</td><td>41.88025</td><td>-87.62960</td><td>member</td></tr>\n",
       "\t<tr><td>C414F654A28635B8</td><td>electric_bike</td><td>2021-12-13 09:00:26</td><td>2021-12-13 09:14:39</td><td><span style=white-space:pre-wrap>Lawndale Ave &amp; 16th St     </span></td><td><span style=white-space:pre-wrap>362.0       </span></td><td><span style=white-space:pre-wrap>                         </span></td><td><span style=white-space:pre-wrap>            </span></td><td>41.86000</td><td>-87.72000</td><td>41.85000</td><td>-87.71000</td><td>member</td></tr>\n",
       "\t<tr><td>37AC57E34B2E7E97</td><td>classic_bike </td><td>2021-12-13 08:45:32</td><td>2021-12-13 08:49:09</td><td>Michigan Ave &amp; Jackson Blvd</td><td>TA1309000002</td><td><span style=white-space:pre-wrap>Dearborn St &amp; Monroe St  </span></td><td>TA1305000006</td><td>41.87785</td><td>-87.62408</td><td>41.88132</td><td>-87.62952</td><td>member</td></tr>\n",
       "</tbody>\n",
       "</table>\n"
      ],
      "text/latex": [
       "A data.frame: 4906125 × 13\n",
       "\\begin{tabular}{lllllllllllll}\n",
       " ride\\_id & rideable\\_type & started\\_at & ended\\_at & start\\_station\\_name & start\\_station\\_id & end\\_station\\_name & end\\_station\\_id & start\\_lat & start\\_lng & end\\_lat & end\\_lng & member\\_casual\\\\\n",
       " <chr> & <chr> & <chr> & <chr> & <chr> & <chr> & <chr> & <chr> & <dbl> & <dbl> & <dbl> & <dbl> & <chr>\\\\\n",
       "\\hline\n",
       "\t E19E6F1B8D4C42ED & electric\\_bike & 2021-01-23 16:14:19 & 2021-01-23 16:24:44 & California Ave \\& Cortez St   & 17660        &                                 &              & 41.90034 & -87.69674 & 41.89000 & -87.72000 & member\\\\\n",
       "\t DC88F20C2C55F27F & electric\\_bike & 2021-01-27 18:43:08 & 2021-01-27 18:47:12 & California Ave \\& Cortez St   & 17660        &                                 &              & 41.90033 & -87.69671 & 41.90000 & -87.69000 & member\\\\\n",
       "\t EC45C94683FE3F27 & electric\\_bike & 2021-01-21 22:35:54 & 2021-01-21 22:37:14 & California Ave \\& Cortez St   & 17660        &                                 &              & 41.90031 & -87.69664 & 41.90000 & -87.70000 & member\\\\\n",
       "\t 4FA453A75AE377DB & electric\\_bike & 2021-01-07 13:31:13 & 2021-01-07 13:42:55 & California Ave \\& Cortez St   & 17660        &                                 &              & 41.90040 & -87.69666 & 41.92000 & -87.69000 & member\\\\\n",
       "\t BE5E8EB4E7263A0B & electric\\_bike & 2021-01-23 02:24:02 & 2021-01-23 02:24:45 & California Ave \\& Cortez St   & 17660        &                                 &              & 41.90033 & -87.69670 & 41.90000 & -87.70000 & casual\\\\\n",
       "\t 5D8969F88C773979 & electric\\_bike & 2021-01-09 14:24:07 & 2021-01-09 15:17:54 & California Ave \\& Cortez St   & 17660        &                                 &              & 41.90041 & -87.69676 & 41.94000 & -87.71000 & casual\\\\\n",
       "\t 09275CC10F854E9E & electric\\_bike & 2021-01-04 05:05:04 & 2021-01-04 05:10:39 & California Ave \\& Cortez St   & 17660        &                                 &              & 41.90039 & -87.69676 & 41.90000 & -87.71000 & member\\\\\n",
       "\t DF7A32A217AEFB14 & electric\\_bike & 2021-01-14 15:07:00 & 2021-01-14 15:13:40 & California Ave \\& Cortez St   & 17660        &                                 &              & 41.90039 & -87.69673 & 41.91000 & -87.70000 & member\\\\\n",
       "\t C2EFC62379EB716C & electric\\_bike & 2021-01-09 09:57:55 & 2021-01-09 10:00:26 & California Ave \\& Cortez St   & 17660        &                                 &              & 41.90031 & -87.69680 & 41.90000 & -87.70000 & member\\\\\n",
       "\t B9F73448DFBE0D45 & classic\\_bike  & 2021-01-24 19:15:38 & 2021-01-24 19:22:51 & California Ave \\& Cortez St   & 17660        & Wood St \\& Augusta Blvd          & 657          & 41.90036 & -87.69670 & 41.89918 & -87.67220 & member\\\\\n",
       "\t 457C7F4B5D3DA135 & electric\\_bike & 2021-01-23 12:57:38 & 2021-01-23 13:02:10 & California Ave \\& Cortez St   & 17660        & California Ave \\& North Ave      & 13258        & 41.90041 & -87.69673 & 41.91044 & -87.69689 & member\\\\\n",
       "\t 57C750326F9FDABE & electric\\_bike & 2021-01-09 15:28:04 & 2021-01-09 15:37:51 & California Ave \\& Cortez St   & 17660        & Wood St \\& Augusta Blvd          & 657          & 41.90037 & -87.69669 & 41.89918 & -87.67218 & casual\\\\\n",
       "\t 4D518C65E338D070 & electric\\_bike & 2021-01-09 15:28:57 & 2021-01-09 15:37:54 & California Ave \\& Cortez St   & 17660        & Wood St \\& Augusta Blvd          & 657          & 41.90038 & -87.69672 & 41.89915 & -87.67218 & casual\\\\\n",
       "\t 9D08A3AFF410474D & classic\\_bike  & 2021-01-24 15:56:59 & 2021-01-24 16:07:08 & California Ave \\& Cortez St   & 17660        & Wood St \\& Augusta Blvd          & 657          & 41.90036 & -87.69670 & 41.89918 & -87.67220 & casual\\\\\n",
       "\t 49FCE1F8598F12C6 & electric\\_bike & 2021-01-22 15:15:28 & 2021-01-22 15:36:01 & California Ave \\& Cortez St   & 17660        & Wells St \\& Elm St               & KA1504000135 & 41.90037 & -87.69679 & 41.90327 & -87.63446 & member\\\\\n",
       "\t 0FEED5C2C8749A1C & classic\\_bike  & 2021-01-05 10:33:12 & 2021-01-05 10:39:12 & California Ave \\& Cortez St   & 17660        & Sacramento Blvd \\& Franklin Blvd & KA1504000113 & 41.90036 & -87.69670 & 41.89047 & -87.70261 & member\\\\\n",
       "\t E276FD43BDED6420 & classic\\_bike  & 2021-01-30 11:59:16 & 2021-01-30 12:03:44 & California Ave \\& Cortez St   & 17660        & Western Ave \\& Walton St         & KA1504000103 & 41.90036 & -87.69670 & 41.89842 & -87.68660 & member\\\\\n",
       "\t 88BFCF66C2D585EC & electric\\_bike & 2021-01-27 07:27:09 & 2021-01-27 07:45:32 & California Ave \\& Cortez St   & 17660        & Damen Ave \\& Clybourn Ave        & 13271        & 41.90031 & -87.69679 & 41.93184 & -87.67781 & member\\\\\n",
       "\t 8BD6F6510F5C8BD2 & electric\\_bike & 2021-01-15 08:54:41 & 2021-01-15 09:11:46 & California Ave \\& Cortez St   & 17660        & Damen Ave \\& Clybourn Ave        & 13271        & 41.90036 & -87.69663 & 41.93192 & -87.67786 & member\\\\\n",
       "\t 84F11CC620F83254 & electric\\_bike & 2021-01-10 08:05:47 & 2021-01-10 08:13:24 & California Ave \\& Cortez St   & 17660        & Leavitt St \\& North Ave          & TA1308000005 & 41.90040 & -87.69671 & 41.91012 & -87.68240 & casual\\\\\n",
       "\t C84E5DD4D74F4FC0 & electric\\_bike & 2021-01-18 13:30:07 & 2021-01-18 13:37:19 & California Ave \\& Cortez St   & 17660        & Leavitt St \\& North Ave          & TA1308000005 & 41.90041 & -87.69671 & 41.91015 & -87.68246 & casual\\\\\n",
       "\t 00AEF8EE4622147F & electric\\_bike & 2021-01-07 09:45:00 & 2021-01-07 09:52:30 & California Ave \\& Cortez St   & 17660        & Leavitt St \\& North Ave          & TA1308000005 & 41.90041 & -87.69685 & 41.91013 & -87.68244 & casual\\\\\n",
       "\t 55DAB9E709B61EA5 & classic\\_bike  & 2021-01-11 11:20:38 & 2021-01-11 11:29:33 & California Ave \\& Cortez St   & 17660        & Leavitt St \\& North Ave          & TA1308000005 & 41.90036 & -87.69670 & 41.91051 & -87.68239 & casual\\\\\n",
       "\t 3E41D6E4EFE87DD9 & classic\\_bike  & 2021-01-22 21:54:15 & 2021-01-22 22:04:27 & California Ave \\& Cortez St   & 17660        & Honore St \\& Division St         & TA1305000034 & 41.90036 & -87.69670 & 41.90312 & -87.67394 & casual\\\\\n",
       "\t FCE0D29EB2DF84DA & electric\\_bike & 2021-01-16 01:05:07 & 2021-01-16 01:19:43 & California Ave \\& Cortez St   & 17660        & Ogden Ave \\& Chicago Ave         & TA1305000020 & 41.90031 & -87.69683 & 41.89636 & -87.65421 & casual\\\\\n",
       "\t 77E53236C1F0EA3F & classic\\_bike  & 2021-01-28 20:35:56 & 2021-01-28 21:06:32 & Halsted St \\& North Branch St & KA1504000117 & Southport Ave \\& Clark St        & TA1308000047 & 41.89937 & -87.64848 & 41.95708 & -87.66420 & member\\\\\n",
       "\t 72335684BF7A0943 & electric\\_bike & 2021-01-09 00:35:55 & 2021-01-09 00:43:55 & Halsted St \\& North Branch St & KA1504000117 & Bissell St \\& Armitage Ave       & 13059        & 41.89936 & -87.64849 & 41.91799 & -87.65250 & member\\\\\n",
       "\t 625DDA8DCCCCB3E2 & classic\\_bike  & 2021-01-17 15:07:57 & 2021-01-17 15:20:54 & Glenwood Ave \\& Touhy Ave     & 525          & Broadway \\& Granville Ave        & 15571        & 42.01270 & -87.66606 & 41.99478 & -87.66028 & member\\\\\n",
       "\t 61C6977EA354684C & electric\\_bike & 2021-01-25 15:39:54 & 2021-01-25 15:52:11 & Halsted St \\& North Branch St & KA1504000117 & Clark St \\& Lincoln Ave          & 13179        & 41.89933 & -87.64847 & 41.91576 & -87.63480 & member\\\\\n",
       "\t 07F1F6A27AB0436E & classic\\_bike  & 2021-01-11 15:32:41 & 2021-01-11 15:35:26 & California Ave \\& Cortez St   & 17660        & California Ave \\& Division St    & 13256        & 41.90036 & -87.69670 & 41.90303 & -87.69747 & member\\\\\n",
       "\t ⋮ & ⋮ & ⋮ & ⋮ & ⋮ & ⋮ & ⋮ & ⋮ & ⋮ & ⋮ & ⋮ & ⋮ & ⋮\\\\\n",
       "\t F344A84798B09A79 & electric\\_bike & 2021-12-17 08:14:17 & 2021-12-17 08:19:40 & Wilton Ave \\& Belmont Ave    & TA1307000134 &                           &              & 41.94003 & -87.65300 & 41.93000 & -87.64000 & casual\\\\\n",
       "\t 0E0200872CDBBFAE & electric\\_bike & 2021-12-04 17:45:49 & 2021-12-04 18:09:05 & Wilton Ave \\& Belmont Ave    & TA1307000134 &                           &              & 41.94003 & -87.65297 & 41.94000 & -87.64000 & casual\\\\\n",
       "\t 45C4CCCB83148DE5 & classic\\_bike  & 2021-12-07 18:05:46 & 2021-12-07 18:12:18 & Wells St \\& Huron St         & TA1306000012 & Wells St \\& Walton St      & TA1306000011 & 41.89472 & -87.63436 & 41.89993 & -87.63443 & casual\\\\\n",
       "\t 95E57D31AD70E703 & electric\\_bike & 2021-12-01 07:26:06 & 2021-12-01 07:31:04 & Wells St \\& Huron St         & TA1306000012 &                           &              & 41.89457 & -87.63461 & 41.88000 & -87.63000 & casual\\\\\n",
       "\t 0094100CF0CD2769 & electric\\_bike & 2021-12-05 00:45:05 & 2021-12-05 01:02:20 & Wilton Ave \\& Belmont Ave    & TA1307000134 &                           &              & 41.94010 & -87.65299 & 41.93000 & -87.72000 & casual\\\\\n",
       "\t F7864025BA958AF5 & electric\\_bike & 2021-12-10 03:56:37 & 2021-12-10 04:01:42 & Wilton Ave \\& Belmont Ave    & TA1307000134 &                           &              & 41.94016 & -87.65301 & 41.94000 & -87.64000 & casual\\\\\n",
       "\t 1F79B0418779E2DE & classic\\_bike  & 2021-12-01 05:45:55 & 2021-12-01 05:51:36 & Wells St \\& Huron St         & TA1306000012 & Kingsbury St \\& Kinzie St  & KA1503000043 & 41.89472 & -87.63436 & 41.88918 & -87.63851 & casual\\\\\n",
       "\t F31F03B7185D396E & electric\\_bike & 2021-12-11 04:04:06 & 2021-12-11 04:07:31 & Wells St \\& Huron St         & TA1306000012 & Orleans St \\& Elm St       & TA1306000006 & 41.89495 & -87.63443 & 41.90292 & -87.63772 & casual\\\\\n",
       "\t 073BDECDD8CEEB7F & classic\\_bike  & 2021-12-06 17:51:27 & 2021-12-06 17:54:43 & Wells St \\& Huron St         & TA1306000012 & Wells St \\& Walton St      & TA1306000011 & 41.89472 & -87.63436 & 41.89993 & -87.63443 & casual\\\\\n",
       "\t 49AF82E5088F94B6 & electric\\_bike & 2021-12-21 17:07:10 & 2021-12-21 17:15:12 & Kedzie Ave \\& Chicago Ave    & KA1504000114 &                           &              & 41.89552 & -87.70612 & 41.91000 & -87.70000 & casual\\\\\n",
       "\t 0B6BF6DCAF114614 & electric\\_bike & 2021-12-08 18:27:24 & 2021-12-08 18:32:45 & Kedzie Ave \\& Chicago Ave    & KA1504000114 &                           &              & 41.89552 & -87.70621 & 41.90000 & -87.71000 & casual\\\\\n",
       "\t 3F1F16FAACA6C161 & electric\\_bike & 2021-12-03 06:59:51 & 2021-12-03 07:23:43 & Leavitt St \\& Chicago Ave    & 18058        &                           &              & 41.89550 & -87.68208 & 41.95000 & -87.69000 & casual\\\\\n",
       "\t 6CD3256DC7D49217 & electric\\_bike & 2021-12-02 22:41:04 & 2021-12-02 22:52:36 & Princeton Ave \\& 47th St     & KA1503000009 &                           &              & 41.80932 & -87.63350 & 41.81000 & -87.66000 & casual\\\\\n",
       "\t F0132FA06DAF06DA & electric\\_bike & 2021-12-08 13:54:34 & 2021-12-08 14:00:02 & Wilton Ave \\& Belmont Ave    & TA1307000134 &                           &              & 41.94009 & -87.65301 & 41.94000 & -87.67000 & casual\\\\\n",
       "\t A67059D361ACC221 & electric\\_bike & 2021-12-05 13:50:42 & 2021-12-05 14:12:24 & Wells St \\& Huron St         & TA1306000012 &                           &              & 41.89490 & -87.63443 & 41.87000 & -87.62000 & casual\\\\\n",
       "\t 7A19E60E84CE4625 & electric\\_bike & 2021-12-16 15:57:50 & 2021-12-16 16:04:20 & Wilton Ave \\& Belmont Ave    & TA1307000134 &                           &              & 41.94009 & -87.65299 & 41.93000 & -87.64000 & casual\\\\\n",
       "\t B449D8E59AE2B4E2 & electric\\_bike & 2021-12-16 06:40:42 & 2021-12-16 06:45:55 & Wilton Ave \\& Belmont Ave    & TA1307000134 &                           &              & 41.94006 & -87.65297 & 41.93000 & -87.64000 & casual\\\\\n",
       "\t 46B23DFEAC1499DF & classic\\_bike  & 2021-12-15 17:33:51 & 2021-12-15 17:39:14 & Wilton Ave \\& Belmont Ave    & TA1307000134 & Clark St \\& Grace St       & TA1307000127 & 41.94018 & -87.65304 & 41.95078 & -87.65917 & member\\\\\n",
       "\t E06135F650553F21 & electric\\_bike & 2021-12-07 15:55:37 & 2021-12-07 16:00:17 & Canal St \\& Madison St       & 13341        & Desplaines St \\& Kinzie St & TA1306000003 & 41.88137 & -87.64004 & 41.88846 & -87.64434 & casual\\\\\n",
       "\t 2FA526ED0D5989F0 & electric\\_bike & 2021-12-02 17:25:45 & 2021-12-02 17:47:52 & Canal St \\& Madison St       & 13341        &                           &              & 41.88255 & -87.63970 & 41.90000 & -87.62000 & casual\\\\\n",
       "\t 46C3F13E9342A2C9 & electric\\_bike & 2021-12-03 22:19:07 & 2021-12-03 22:24:49 & Halsted St \\& 96th St        & 20105        &                           &              & 41.71972 & -87.64286 & 41.73000 & -87.64000 & casual\\\\\n",
       "\t 08E5EC2EC583D230 & electric\\_bike & 2021-12-17 07:55:47 & 2021-12-17 08:03:45 & Canal St \\& Madison St       & 13341        &                           &              & 41.88200 & -87.63946 & 41.89000 & -87.62000 & casual\\\\\n",
       "\t 8DF0DBB049906332 & electric\\_bike & 2021-12-01 16:50:52 & 2021-12-01 16:55:18 & Canal St \\& Madison St       & 13341        & Desplaines St \\& Kinzie St & TA1306000003 & 41.88200 & -87.63927 & 41.88842 & -87.64434 & casual\\\\\n",
       "\t DFE48801A70DFEA7 & electric\\_bike & 2021-12-23 21:28:41 & 2021-12-23 21:36:27 & Canal St \\& Madison St       & 13341        &                           &              & 41.88220 & -87.63923 & 41.88000 & -87.65000 & casual\\\\\n",
       "\t 92BBAB97D1683D69 & electric\\_bike & 2021-12-24 15:42:09 & 2021-12-24 19:29:35 & Canal St \\& Madison St       & 13341        &                           &              & 41.88180 & -87.63997 & 41.88000 & -87.64000 & casual\\\\\n",
       "\t 847431F3D5353AB7 & electric\\_bike & 2021-12-12 13:36:55 & 2021-12-12 13:56:08 & Canal St \\& Madison St       & 13341        &                           &              & 41.88229 & -87.63975 & 41.89000 & -87.61000 & casual\\\\\n",
       "\t CF407BBC3B9FAD63 & electric\\_bike & 2021-12-06 19:37:50 & 2021-12-06 19:44:51 & Canal St \\& Madison St       & 13341        & Kingsbury St \\& Kinzie St  & KA1503000043 & 41.88212 & -87.64005 & 41.88911 & -87.63886 & member\\\\\n",
       "\t 60BB69EBF5440E92 & electric\\_bike & 2021-12-02 08:57:04 & 2021-12-02 09:05:21 & Canal St \\& Madison St       & 13341        & Dearborn St \\& Monroe St   & TA1305000006 & 41.88196 & -87.63995 & 41.88025 & -87.62960 & member\\\\\n",
       "\t C414F654A28635B8 & electric\\_bike & 2021-12-13 09:00:26 & 2021-12-13 09:14:39 & Lawndale Ave \\& 16th St      & 362.0        &                           &              & 41.86000 & -87.72000 & 41.85000 & -87.71000 & member\\\\\n",
       "\t 37AC57E34B2E7E97 & classic\\_bike  & 2021-12-13 08:45:32 & 2021-12-13 08:49:09 & Michigan Ave \\& Jackson Blvd & TA1309000002 & Dearborn St \\& Monroe St   & TA1305000006 & 41.87785 & -87.62408 & 41.88132 & -87.62952 & member\\\\\n",
       "\\end{tabular}\n"
      ],
      "text/markdown": [
       "\n",
       "A data.frame: 4906125 × 13\n",
       "\n",
       "| ride_id &lt;chr&gt; | rideable_type &lt;chr&gt; | started_at &lt;chr&gt; | ended_at &lt;chr&gt; | start_station_name &lt;chr&gt; | start_station_id &lt;chr&gt; | end_station_name &lt;chr&gt; | end_station_id &lt;chr&gt; | start_lat &lt;dbl&gt; | start_lng &lt;dbl&gt; | end_lat &lt;dbl&gt; | end_lng &lt;dbl&gt; | member_casual &lt;chr&gt; |\n",
       "|---|---|---|---|---|---|---|---|---|---|---|---|---|\n",
       "| E19E6F1B8D4C42ED | electric_bike | 2021-01-23 16:14:19 | 2021-01-23 16:24:44 | California Ave &amp; Cortez St   | 17660        | <!----> | <!----> | 41.90034 | -87.69674 | 41.89000 | -87.72000 | member |\n",
       "| DC88F20C2C55F27F | electric_bike | 2021-01-27 18:43:08 | 2021-01-27 18:47:12 | California Ave &amp; Cortez St   | 17660        | <!----> | <!----> | 41.90033 | -87.69671 | 41.90000 | -87.69000 | member |\n",
       "| EC45C94683FE3F27 | electric_bike | 2021-01-21 22:35:54 | 2021-01-21 22:37:14 | California Ave &amp; Cortez St   | 17660        | <!----> | <!----> | 41.90031 | -87.69664 | 41.90000 | -87.70000 | member |\n",
       "| 4FA453A75AE377DB | electric_bike | 2021-01-07 13:31:13 | 2021-01-07 13:42:55 | California Ave &amp; Cortez St   | 17660        | <!----> | <!----> | 41.90040 | -87.69666 | 41.92000 | -87.69000 | member |\n",
       "| BE5E8EB4E7263A0B | electric_bike | 2021-01-23 02:24:02 | 2021-01-23 02:24:45 | California Ave &amp; Cortez St   | 17660        | <!----> | <!----> | 41.90033 | -87.69670 | 41.90000 | -87.70000 | casual |\n",
       "| 5D8969F88C773979 | electric_bike | 2021-01-09 14:24:07 | 2021-01-09 15:17:54 | California Ave &amp; Cortez St   | 17660        | <!----> | <!----> | 41.90041 | -87.69676 | 41.94000 | -87.71000 | casual |\n",
       "| 09275CC10F854E9E | electric_bike | 2021-01-04 05:05:04 | 2021-01-04 05:10:39 | California Ave &amp; Cortez St   | 17660        | <!----> | <!----> | 41.90039 | -87.69676 | 41.90000 | -87.71000 | member |\n",
       "| DF7A32A217AEFB14 | electric_bike | 2021-01-14 15:07:00 | 2021-01-14 15:13:40 | California Ave &amp; Cortez St   | 17660        | <!----> | <!----> | 41.90039 | -87.69673 | 41.91000 | -87.70000 | member |\n",
       "| C2EFC62379EB716C | electric_bike | 2021-01-09 09:57:55 | 2021-01-09 10:00:26 | California Ave &amp; Cortez St   | 17660        | <!----> | <!----> | 41.90031 | -87.69680 | 41.90000 | -87.70000 | member |\n",
       "| B9F73448DFBE0D45 | classic_bike  | 2021-01-24 19:15:38 | 2021-01-24 19:22:51 | California Ave &amp; Cortez St   | 17660        | Wood St &amp; Augusta Blvd          | 657          | 41.90036 | -87.69670 | 41.89918 | -87.67220 | member |\n",
       "| 457C7F4B5D3DA135 | electric_bike | 2021-01-23 12:57:38 | 2021-01-23 13:02:10 | California Ave &amp; Cortez St   | 17660        | California Ave &amp; North Ave      | 13258        | 41.90041 | -87.69673 | 41.91044 | -87.69689 | member |\n",
       "| 57C750326F9FDABE | electric_bike | 2021-01-09 15:28:04 | 2021-01-09 15:37:51 | California Ave &amp; Cortez St   | 17660        | Wood St &amp; Augusta Blvd          | 657          | 41.90037 | -87.69669 | 41.89918 | -87.67218 | casual |\n",
       "| 4D518C65E338D070 | electric_bike | 2021-01-09 15:28:57 | 2021-01-09 15:37:54 | California Ave &amp; Cortez St   | 17660        | Wood St &amp; Augusta Blvd          | 657          | 41.90038 | -87.69672 | 41.89915 | -87.67218 | casual |\n",
       "| 9D08A3AFF410474D | classic_bike  | 2021-01-24 15:56:59 | 2021-01-24 16:07:08 | California Ave &amp; Cortez St   | 17660        | Wood St &amp; Augusta Blvd          | 657          | 41.90036 | -87.69670 | 41.89918 | -87.67220 | casual |\n",
       "| 49FCE1F8598F12C6 | electric_bike | 2021-01-22 15:15:28 | 2021-01-22 15:36:01 | California Ave &amp; Cortez St   | 17660        | Wells St &amp; Elm St               | KA1504000135 | 41.90037 | -87.69679 | 41.90327 | -87.63446 | member |\n",
       "| 0FEED5C2C8749A1C | classic_bike  | 2021-01-05 10:33:12 | 2021-01-05 10:39:12 | California Ave &amp; Cortez St   | 17660        | Sacramento Blvd &amp; Franklin Blvd | KA1504000113 | 41.90036 | -87.69670 | 41.89047 | -87.70261 | member |\n",
       "| E276FD43BDED6420 | classic_bike  | 2021-01-30 11:59:16 | 2021-01-30 12:03:44 | California Ave &amp; Cortez St   | 17660        | Western Ave &amp; Walton St         | KA1504000103 | 41.90036 | -87.69670 | 41.89842 | -87.68660 | member |\n",
       "| 88BFCF66C2D585EC | electric_bike | 2021-01-27 07:27:09 | 2021-01-27 07:45:32 | California Ave &amp; Cortez St   | 17660        | Damen Ave &amp; Clybourn Ave        | 13271        | 41.90031 | -87.69679 | 41.93184 | -87.67781 | member |\n",
       "| 8BD6F6510F5C8BD2 | electric_bike | 2021-01-15 08:54:41 | 2021-01-15 09:11:46 | California Ave &amp; Cortez St   | 17660        | Damen Ave &amp; Clybourn Ave        | 13271        | 41.90036 | -87.69663 | 41.93192 | -87.67786 | member |\n",
       "| 84F11CC620F83254 | electric_bike | 2021-01-10 08:05:47 | 2021-01-10 08:13:24 | California Ave &amp; Cortez St   | 17660        | Leavitt St &amp; North Ave          | TA1308000005 | 41.90040 | -87.69671 | 41.91012 | -87.68240 | casual |\n",
       "| C84E5DD4D74F4FC0 | electric_bike | 2021-01-18 13:30:07 | 2021-01-18 13:37:19 | California Ave &amp; Cortez St   | 17660        | Leavitt St &amp; North Ave          | TA1308000005 | 41.90041 | -87.69671 | 41.91015 | -87.68246 | casual |\n",
       "| 00AEF8EE4622147F | electric_bike | 2021-01-07 09:45:00 | 2021-01-07 09:52:30 | California Ave &amp; Cortez St   | 17660        | Leavitt St &amp; North Ave          | TA1308000005 | 41.90041 | -87.69685 | 41.91013 | -87.68244 | casual |\n",
       "| 55DAB9E709B61EA5 | classic_bike  | 2021-01-11 11:20:38 | 2021-01-11 11:29:33 | California Ave &amp; Cortez St   | 17660        | Leavitt St &amp; North Ave          | TA1308000005 | 41.90036 | -87.69670 | 41.91051 | -87.68239 | casual |\n",
       "| 3E41D6E4EFE87DD9 | classic_bike  | 2021-01-22 21:54:15 | 2021-01-22 22:04:27 | California Ave &amp; Cortez St   | 17660        | Honore St &amp; Division St         | TA1305000034 | 41.90036 | -87.69670 | 41.90312 | -87.67394 | casual |\n",
       "| FCE0D29EB2DF84DA | electric_bike | 2021-01-16 01:05:07 | 2021-01-16 01:19:43 | California Ave &amp; Cortez St   | 17660        | Ogden Ave &amp; Chicago Ave         | TA1305000020 | 41.90031 | -87.69683 | 41.89636 | -87.65421 | casual |\n",
       "| 77E53236C1F0EA3F | classic_bike  | 2021-01-28 20:35:56 | 2021-01-28 21:06:32 | Halsted St &amp; North Branch St | KA1504000117 | Southport Ave &amp; Clark St        | TA1308000047 | 41.89937 | -87.64848 | 41.95708 | -87.66420 | member |\n",
       "| 72335684BF7A0943 | electric_bike | 2021-01-09 00:35:55 | 2021-01-09 00:43:55 | Halsted St &amp; North Branch St | KA1504000117 | Bissell St &amp; Armitage Ave       | 13059        | 41.89936 | -87.64849 | 41.91799 | -87.65250 | member |\n",
       "| 625DDA8DCCCCB3E2 | classic_bike  | 2021-01-17 15:07:57 | 2021-01-17 15:20:54 | Glenwood Ave &amp; Touhy Ave     | 525          | Broadway &amp; Granville Ave        | 15571        | 42.01270 | -87.66606 | 41.99478 | -87.66028 | member |\n",
       "| 61C6977EA354684C | electric_bike | 2021-01-25 15:39:54 | 2021-01-25 15:52:11 | Halsted St &amp; North Branch St | KA1504000117 | Clark St &amp; Lincoln Ave          | 13179        | 41.89933 | -87.64847 | 41.91576 | -87.63480 | member |\n",
       "| 07F1F6A27AB0436E | classic_bike  | 2021-01-11 15:32:41 | 2021-01-11 15:35:26 | California Ave &amp; Cortez St   | 17660        | California Ave &amp; Division St    | 13256        | 41.90036 | -87.69670 | 41.90303 | -87.69747 | member |\n",
       "| ⋮ | ⋮ | ⋮ | ⋮ | ⋮ | ⋮ | ⋮ | ⋮ | ⋮ | ⋮ | ⋮ | ⋮ | ⋮ |\n",
       "| F344A84798B09A79 | electric_bike | 2021-12-17 08:14:17 | 2021-12-17 08:19:40 | Wilton Ave &amp; Belmont Ave    | TA1307000134 | <!----> | <!----> | 41.94003 | -87.65300 | 41.93000 | -87.64000 | casual |\n",
       "| 0E0200872CDBBFAE | electric_bike | 2021-12-04 17:45:49 | 2021-12-04 18:09:05 | Wilton Ave &amp; Belmont Ave    | TA1307000134 | <!----> | <!----> | 41.94003 | -87.65297 | 41.94000 | -87.64000 | casual |\n",
       "| 45C4CCCB83148DE5 | classic_bike  | 2021-12-07 18:05:46 | 2021-12-07 18:12:18 | Wells St &amp; Huron St         | TA1306000012 | Wells St &amp; Walton St      | TA1306000011 | 41.89472 | -87.63436 | 41.89993 | -87.63443 | casual |\n",
       "| 95E57D31AD70E703 | electric_bike | 2021-12-01 07:26:06 | 2021-12-01 07:31:04 | Wells St &amp; Huron St         | TA1306000012 | <!----> | <!----> | 41.89457 | -87.63461 | 41.88000 | -87.63000 | casual |\n",
       "| 0094100CF0CD2769 | electric_bike | 2021-12-05 00:45:05 | 2021-12-05 01:02:20 | Wilton Ave &amp; Belmont Ave    | TA1307000134 | <!----> | <!----> | 41.94010 | -87.65299 | 41.93000 | -87.72000 | casual |\n",
       "| F7864025BA958AF5 | electric_bike | 2021-12-10 03:56:37 | 2021-12-10 04:01:42 | Wilton Ave &amp; Belmont Ave    | TA1307000134 | <!----> | <!----> | 41.94016 | -87.65301 | 41.94000 | -87.64000 | casual |\n",
       "| 1F79B0418779E2DE | classic_bike  | 2021-12-01 05:45:55 | 2021-12-01 05:51:36 | Wells St &amp; Huron St         | TA1306000012 | Kingsbury St &amp; Kinzie St  | KA1503000043 | 41.89472 | -87.63436 | 41.88918 | -87.63851 | casual |\n",
       "| F31F03B7185D396E | electric_bike | 2021-12-11 04:04:06 | 2021-12-11 04:07:31 | Wells St &amp; Huron St         | TA1306000012 | Orleans St &amp; Elm St       | TA1306000006 | 41.89495 | -87.63443 | 41.90292 | -87.63772 | casual |\n",
       "| 073BDECDD8CEEB7F | classic_bike  | 2021-12-06 17:51:27 | 2021-12-06 17:54:43 | Wells St &amp; Huron St         | TA1306000012 | Wells St &amp; Walton St      | TA1306000011 | 41.89472 | -87.63436 | 41.89993 | -87.63443 | casual |\n",
       "| 49AF82E5088F94B6 | electric_bike | 2021-12-21 17:07:10 | 2021-12-21 17:15:12 | Kedzie Ave &amp; Chicago Ave    | KA1504000114 | <!----> | <!----> | 41.89552 | -87.70612 | 41.91000 | -87.70000 | casual |\n",
       "| 0B6BF6DCAF114614 | electric_bike | 2021-12-08 18:27:24 | 2021-12-08 18:32:45 | Kedzie Ave &amp; Chicago Ave    | KA1504000114 | <!----> | <!----> | 41.89552 | -87.70621 | 41.90000 | -87.71000 | casual |\n",
       "| 3F1F16FAACA6C161 | electric_bike | 2021-12-03 06:59:51 | 2021-12-03 07:23:43 | Leavitt St &amp; Chicago Ave    | 18058        | <!----> | <!----> | 41.89550 | -87.68208 | 41.95000 | -87.69000 | casual |\n",
       "| 6CD3256DC7D49217 | electric_bike | 2021-12-02 22:41:04 | 2021-12-02 22:52:36 | Princeton Ave &amp; 47th St     | KA1503000009 | <!----> | <!----> | 41.80932 | -87.63350 | 41.81000 | -87.66000 | casual |\n",
       "| F0132FA06DAF06DA | electric_bike | 2021-12-08 13:54:34 | 2021-12-08 14:00:02 | Wilton Ave &amp; Belmont Ave    | TA1307000134 | <!----> | <!----> | 41.94009 | -87.65301 | 41.94000 | -87.67000 | casual |\n",
       "| A67059D361ACC221 | electric_bike | 2021-12-05 13:50:42 | 2021-12-05 14:12:24 | Wells St &amp; Huron St         | TA1306000012 | <!----> | <!----> | 41.89490 | -87.63443 | 41.87000 | -87.62000 | casual |\n",
       "| 7A19E60E84CE4625 | electric_bike | 2021-12-16 15:57:50 | 2021-12-16 16:04:20 | Wilton Ave &amp; Belmont Ave    | TA1307000134 | <!----> | <!----> | 41.94009 | -87.65299 | 41.93000 | -87.64000 | casual |\n",
       "| B449D8E59AE2B4E2 | electric_bike | 2021-12-16 06:40:42 | 2021-12-16 06:45:55 | Wilton Ave &amp; Belmont Ave    | TA1307000134 | <!----> | <!----> | 41.94006 | -87.65297 | 41.93000 | -87.64000 | casual |\n",
       "| 46B23DFEAC1499DF | classic_bike  | 2021-12-15 17:33:51 | 2021-12-15 17:39:14 | Wilton Ave &amp; Belmont Ave    | TA1307000134 | Clark St &amp; Grace St       | TA1307000127 | 41.94018 | -87.65304 | 41.95078 | -87.65917 | member |\n",
       "| E06135F650553F21 | electric_bike | 2021-12-07 15:55:37 | 2021-12-07 16:00:17 | Canal St &amp; Madison St       | 13341        | Desplaines St &amp; Kinzie St | TA1306000003 | 41.88137 | -87.64004 | 41.88846 | -87.64434 | casual |\n",
       "| 2FA526ED0D5989F0 | electric_bike | 2021-12-02 17:25:45 | 2021-12-02 17:47:52 | Canal St &amp; Madison St       | 13341        | <!----> | <!----> | 41.88255 | -87.63970 | 41.90000 | -87.62000 | casual |\n",
       "| 46C3F13E9342A2C9 | electric_bike | 2021-12-03 22:19:07 | 2021-12-03 22:24:49 | Halsted St &amp; 96th St        | 20105        | <!----> | <!----> | 41.71972 | -87.64286 | 41.73000 | -87.64000 | casual |\n",
       "| 08E5EC2EC583D230 | electric_bike | 2021-12-17 07:55:47 | 2021-12-17 08:03:45 | Canal St &amp; Madison St       | 13341        | <!----> | <!----> | 41.88200 | -87.63946 | 41.89000 | -87.62000 | casual |\n",
       "| 8DF0DBB049906332 | electric_bike | 2021-12-01 16:50:52 | 2021-12-01 16:55:18 | Canal St &amp; Madison St       | 13341        | Desplaines St &amp; Kinzie St | TA1306000003 | 41.88200 | -87.63927 | 41.88842 | -87.64434 | casual |\n",
       "| DFE48801A70DFEA7 | electric_bike | 2021-12-23 21:28:41 | 2021-12-23 21:36:27 | Canal St &amp; Madison St       | 13341        | <!----> | <!----> | 41.88220 | -87.63923 | 41.88000 | -87.65000 | casual |\n",
       "| 92BBAB97D1683D69 | electric_bike | 2021-12-24 15:42:09 | 2021-12-24 19:29:35 | Canal St &amp; Madison St       | 13341        | <!----> | <!----> | 41.88180 | -87.63997 | 41.88000 | -87.64000 | casual |\n",
       "| 847431F3D5353AB7 | electric_bike | 2021-12-12 13:36:55 | 2021-12-12 13:56:08 | Canal St &amp; Madison St       | 13341        | <!----> | <!----> | 41.88229 | -87.63975 | 41.89000 | -87.61000 | casual |\n",
       "| CF407BBC3B9FAD63 | electric_bike | 2021-12-06 19:37:50 | 2021-12-06 19:44:51 | Canal St &amp; Madison St       | 13341        | Kingsbury St &amp; Kinzie St  | KA1503000043 | 41.88212 | -87.64005 | 41.88911 | -87.63886 | member |\n",
       "| 60BB69EBF5440E92 | electric_bike | 2021-12-02 08:57:04 | 2021-12-02 09:05:21 | Canal St &amp; Madison St       | 13341        | Dearborn St &amp; Monroe St   | TA1305000006 | 41.88196 | -87.63995 | 41.88025 | -87.62960 | member |\n",
       "| C414F654A28635B8 | electric_bike | 2021-12-13 09:00:26 | 2021-12-13 09:14:39 | Lawndale Ave &amp; 16th St      | 362.0        | <!----> | <!----> | 41.86000 | -87.72000 | 41.85000 | -87.71000 | member |\n",
       "| 37AC57E34B2E7E97 | classic_bike  | 2021-12-13 08:45:32 | 2021-12-13 08:49:09 | Michigan Ave &amp; Jackson Blvd | TA1309000002 | Dearborn St &amp; Monroe St   | TA1305000006 | 41.87785 | -87.62408 | 41.88132 | -87.62952 | member |\n",
       "\n"
      ],
      "text/plain": [
       "        ride_id          rideable_type started_at          ended_at           \n",
       "1       E19E6F1B8D4C42ED electric_bike 2021-01-23 16:14:19 2021-01-23 16:24:44\n",
       "2       DC88F20C2C55F27F electric_bike 2021-01-27 18:43:08 2021-01-27 18:47:12\n",
       "3       EC45C94683FE3F27 electric_bike 2021-01-21 22:35:54 2021-01-21 22:37:14\n",
       "4       4FA453A75AE377DB electric_bike 2021-01-07 13:31:13 2021-01-07 13:42:55\n",
       "5       BE5E8EB4E7263A0B electric_bike 2021-01-23 02:24:02 2021-01-23 02:24:45\n",
       "6       5D8969F88C773979 electric_bike 2021-01-09 14:24:07 2021-01-09 15:17:54\n",
       "7       09275CC10F854E9E electric_bike 2021-01-04 05:05:04 2021-01-04 05:10:39\n",
       "8       DF7A32A217AEFB14 electric_bike 2021-01-14 15:07:00 2021-01-14 15:13:40\n",
       "9       C2EFC62379EB716C electric_bike 2021-01-09 09:57:55 2021-01-09 10:00:26\n",
       "10      B9F73448DFBE0D45 classic_bike  2021-01-24 19:15:38 2021-01-24 19:22:51\n",
       "11      457C7F4B5D3DA135 electric_bike 2021-01-23 12:57:38 2021-01-23 13:02:10\n",
       "12      57C750326F9FDABE electric_bike 2021-01-09 15:28:04 2021-01-09 15:37:51\n",
       "13      4D518C65E338D070 electric_bike 2021-01-09 15:28:57 2021-01-09 15:37:54\n",
       "14      9D08A3AFF410474D classic_bike  2021-01-24 15:56:59 2021-01-24 16:07:08\n",
       "15      49FCE1F8598F12C6 electric_bike 2021-01-22 15:15:28 2021-01-22 15:36:01\n",
       "16      0FEED5C2C8749A1C classic_bike  2021-01-05 10:33:12 2021-01-05 10:39:12\n",
       "17      E276FD43BDED6420 classic_bike  2021-01-30 11:59:16 2021-01-30 12:03:44\n",
       "18      88BFCF66C2D585EC electric_bike 2021-01-27 07:27:09 2021-01-27 07:45:32\n",
       "19      8BD6F6510F5C8BD2 electric_bike 2021-01-15 08:54:41 2021-01-15 09:11:46\n",
       "20      84F11CC620F83254 electric_bike 2021-01-10 08:05:47 2021-01-10 08:13:24\n",
       "21      C84E5DD4D74F4FC0 electric_bike 2021-01-18 13:30:07 2021-01-18 13:37:19\n",
       "22      00AEF8EE4622147F electric_bike 2021-01-07 09:45:00 2021-01-07 09:52:30\n",
       "23      55DAB9E709B61EA5 classic_bike  2021-01-11 11:20:38 2021-01-11 11:29:33\n",
       "24      3E41D6E4EFE87DD9 classic_bike  2021-01-22 21:54:15 2021-01-22 22:04:27\n",
       "25      FCE0D29EB2DF84DA electric_bike 2021-01-16 01:05:07 2021-01-16 01:19:43\n",
       "26      77E53236C1F0EA3F classic_bike  2021-01-28 20:35:56 2021-01-28 21:06:32\n",
       "27      72335684BF7A0943 electric_bike 2021-01-09 00:35:55 2021-01-09 00:43:55\n",
       "28      625DDA8DCCCCB3E2 classic_bike  2021-01-17 15:07:57 2021-01-17 15:20:54\n",
       "29      61C6977EA354684C electric_bike 2021-01-25 15:39:54 2021-01-25 15:52:11\n",
       "30      07F1F6A27AB0436E classic_bike  2021-01-11 15:32:41 2021-01-11 15:35:26\n",
       "⋮       ⋮                ⋮             ⋮                   ⋮                  \n",
       "4906096 F344A84798B09A79 electric_bike 2021-12-17 08:14:17 2021-12-17 08:19:40\n",
       "4906097 0E0200872CDBBFAE electric_bike 2021-12-04 17:45:49 2021-12-04 18:09:05\n",
       "4906098 45C4CCCB83148DE5 classic_bike  2021-12-07 18:05:46 2021-12-07 18:12:18\n",
       "4906099 95E57D31AD70E703 electric_bike 2021-12-01 07:26:06 2021-12-01 07:31:04\n",
       "4906100 0094100CF0CD2769 electric_bike 2021-12-05 00:45:05 2021-12-05 01:02:20\n",
       "4906101 F7864025BA958AF5 electric_bike 2021-12-10 03:56:37 2021-12-10 04:01:42\n",
       "4906102 1F79B0418779E2DE classic_bike  2021-12-01 05:45:55 2021-12-01 05:51:36\n",
       "4906103 F31F03B7185D396E electric_bike 2021-12-11 04:04:06 2021-12-11 04:07:31\n",
       "4906104 073BDECDD8CEEB7F classic_bike  2021-12-06 17:51:27 2021-12-06 17:54:43\n",
       "4906105 49AF82E5088F94B6 electric_bike 2021-12-21 17:07:10 2021-12-21 17:15:12\n",
       "4906106 0B6BF6DCAF114614 electric_bike 2021-12-08 18:27:24 2021-12-08 18:32:45\n",
       "4906107 3F1F16FAACA6C161 electric_bike 2021-12-03 06:59:51 2021-12-03 07:23:43\n",
       "4906108 6CD3256DC7D49217 electric_bike 2021-12-02 22:41:04 2021-12-02 22:52:36\n",
       "4906109 F0132FA06DAF06DA electric_bike 2021-12-08 13:54:34 2021-12-08 14:00:02\n",
       "4906110 A67059D361ACC221 electric_bike 2021-12-05 13:50:42 2021-12-05 14:12:24\n",
       "4906111 7A19E60E84CE4625 electric_bike 2021-12-16 15:57:50 2021-12-16 16:04:20\n",
       "4906112 B449D8E59AE2B4E2 electric_bike 2021-12-16 06:40:42 2021-12-16 06:45:55\n",
       "4906113 46B23DFEAC1499DF classic_bike  2021-12-15 17:33:51 2021-12-15 17:39:14\n",
       "4906114 E06135F650553F21 electric_bike 2021-12-07 15:55:37 2021-12-07 16:00:17\n",
       "4906115 2FA526ED0D5989F0 electric_bike 2021-12-02 17:25:45 2021-12-02 17:47:52\n",
       "4906116 46C3F13E9342A2C9 electric_bike 2021-12-03 22:19:07 2021-12-03 22:24:49\n",
       "4906117 08E5EC2EC583D230 electric_bike 2021-12-17 07:55:47 2021-12-17 08:03:45\n",
       "4906118 8DF0DBB049906332 electric_bike 2021-12-01 16:50:52 2021-12-01 16:55:18\n",
       "4906119 DFE48801A70DFEA7 electric_bike 2021-12-23 21:28:41 2021-12-23 21:36:27\n",
       "4906120 92BBAB97D1683D69 electric_bike 2021-12-24 15:42:09 2021-12-24 19:29:35\n",
       "4906121 847431F3D5353AB7 electric_bike 2021-12-12 13:36:55 2021-12-12 13:56:08\n",
       "4906122 CF407BBC3B9FAD63 electric_bike 2021-12-06 19:37:50 2021-12-06 19:44:51\n",
       "4906123 60BB69EBF5440E92 electric_bike 2021-12-02 08:57:04 2021-12-02 09:05:21\n",
       "4906124 C414F654A28635B8 electric_bike 2021-12-13 09:00:26 2021-12-13 09:14:39\n",
       "4906125 37AC57E34B2E7E97 classic_bike  2021-12-13 08:45:32 2021-12-13 08:49:09\n",
       "        start_station_name           start_station_id\n",
       "1       California Ave & Cortez St   17660           \n",
       "2       California Ave & Cortez St   17660           \n",
       "3       California Ave & Cortez St   17660           \n",
       "4       California Ave & Cortez St   17660           \n",
       "5       California Ave & Cortez St   17660           \n",
       "6       California Ave & Cortez St   17660           \n",
       "7       California Ave & Cortez St   17660           \n",
       "8       California Ave & Cortez St   17660           \n",
       "9       California Ave & Cortez St   17660           \n",
       "10      California Ave & Cortez St   17660           \n",
       "11      California Ave & Cortez St   17660           \n",
       "12      California Ave & Cortez St   17660           \n",
       "13      California Ave & Cortez St   17660           \n",
       "14      California Ave & Cortez St   17660           \n",
       "15      California Ave & Cortez St   17660           \n",
       "16      California Ave & Cortez St   17660           \n",
       "17      California Ave & Cortez St   17660           \n",
       "18      California Ave & Cortez St   17660           \n",
       "19      California Ave & Cortez St   17660           \n",
       "20      California Ave & Cortez St   17660           \n",
       "21      California Ave & Cortez St   17660           \n",
       "22      California Ave & Cortez St   17660           \n",
       "23      California Ave & Cortez St   17660           \n",
       "24      California Ave & Cortez St   17660           \n",
       "25      California Ave & Cortez St   17660           \n",
       "26      Halsted St & North Branch St KA1504000117    \n",
       "27      Halsted St & North Branch St KA1504000117    \n",
       "28      Glenwood Ave & Touhy Ave     525             \n",
       "29      Halsted St & North Branch St KA1504000117    \n",
       "30      California Ave & Cortez St   17660           \n",
       "⋮       ⋮                            ⋮               \n",
       "4906096 Wilton Ave & Belmont Ave     TA1307000134    \n",
       "4906097 Wilton Ave & Belmont Ave     TA1307000134    \n",
       "4906098 Wells St & Huron St          TA1306000012    \n",
       "4906099 Wells St & Huron St          TA1306000012    \n",
       "4906100 Wilton Ave & Belmont Ave     TA1307000134    \n",
       "4906101 Wilton Ave & Belmont Ave     TA1307000134    \n",
       "4906102 Wells St & Huron St          TA1306000012    \n",
       "4906103 Wells St & Huron St          TA1306000012    \n",
       "4906104 Wells St & Huron St          TA1306000012    \n",
       "4906105 Kedzie Ave & Chicago Ave     KA1504000114    \n",
       "4906106 Kedzie Ave & Chicago Ave     KA1504000114    \n",
       "4906107 Leavitt St & Chicago Ave     18058           \n",
       "4906108 Princeton Ave & 47th St      KA1503000009    \n",
       "4906109 Wilton Ave & Belmont Ave     TA1307000134    \n",
       "4906110 Wells St & Huron St          TA1306000012    \n",
       "4906111 Wilton Ave & Belmont Ave     TA1307000134    \n",
       "4906112 Wilton Ave & Belmont Ave     TA1307000134    \n",
       "4906113 Wilton Ave & Belmont Ave     TA1307000134    \n",
       "4906114 Canal St & Madison St        13341           \n",
       "4906115 Canal St & Madison St        13341           \n",
       "4906116 Halsted St & 96th St         20105           \n",
       "4906117 Canal St & Madison St        13341           \n",
       "4906118 Canal St & Madison St        13341           \n",
       "4906119 Canal St & Madison St        13341           \n",
       "4906120 Canal St & Madison St        13341           \n",
       "4906121 Canal St & Madison St        13341           \n",
       "4906122 Canal St & Madison St        13341           \n",
       "4906123 Canal St & Madison St        13341           \n",
       "4906124 Lawndale Ave & 16th St       362.0           \n",
       "4906125 Michigan Ave & Jackson Blvd  TA1309000002    \n",
       "        end_station_name                end_station_id start_lat start_lng\n",
       "1                                                      41.90034  -87.69674\n",
       "2                                                      41.90033  -87.69671\n",
       "3                                                      41.90031  -87.69664\n",
       "4                                                      41.90040  -87.69666\n",
       "5                                                      41.90033  -87.69670\n",
       "6                                                      41.90041  -87.69676\n",
       "7                                                      41.90039  -87.69676\n",
       "8                                                      41.90039  -87.69673\n",
       "9                                                      41.90031  -87.69680\n",
       "10      Wood St & Augusta Blvd          657            41.90036  -87.69670\n",
       "11      California Ave & North Ave      13258          41.90041  -87.69673\n",
       "12      Wood St & Augusta Blvd          657            41.90037  -87.69669\n",
       "13      Wood St & Augusta Blvd          657            41.90038  -87.69672\n",
       "14      Wood St & Augusta Blvd          657            41.90036  -87.69670\n",
       "15      Wells St & Elm St               KA1504000135   41.90037  -87.69679\n",
       "16      Sacramento Blvd & Franklin Blvd KA1504000113   41.90036  -87.69670\n",
       "17      Western Ave & Walton St         KA1504000103   41.90036  -87.69670\n",
       "18      Damen Ave & Clybourn Ave        13271          41.90031  -87.69679\n",
       "19      Damen Ave & Clybourn Ave        13271          41.90036  -87.69663\n",
       "20      Leavitt St & North Ave          TA1308000005   41.90040  -87.69671\n",
       "21      Leavitt St & North Ave          TA1308000005   41.90041  -87.69671\n",
       "22      Leavitt St & North Ave          TA1308000005   41.90041  -87.69685\n",
       "23      Leavitt St & North Ave          TA1308000005   41.90036  -87.69670\n",
       "24      Honore St & Division St         TA1305000034   41.90036  -87.69670\n",
       "25      Ogden Ave & Chicago Ave         TA1305000020   41.90031  -87.69683\n",
       "26      Southport Ave & Clark St        TA1308000047   41.89937  -87.64848\n",
       "27      Bissell St & Armitage Ave       13059          41.89936  -87.64849\n",
       "28      Broadway & Granville Ave        15571          42.01270  -87.66606\n",
       "29      Clark St & Lincoln Ave          13179          41.89933  -87.64847\n",
       "30      California Ave & Division St    13256          41.90036  -87.69670\n",
       "⋮       ⋮                               ⋮              ⋮         ⋮        \n",
       "4906096                                                41.94003  -87.65300\n",
       "4906097                                                41.94003  -87.65297\n",
       "4906098 Wells St & Walton St            TA1306000011   41.89472  -87.63436\n",
       "4906099                                                41.89457  -87.63461\n",
       "4906100                                                41.94010  -87.65299\n",
       "4906101                                                41.94016  -87.65301\n",
       "4906102 Kingsbury St & Kinzie St        KA1503000043   41.89472  -87.63436\n",
       "4906103 Orleans St & Elm St             TA1306000006   41.89495  -87.63443\n",
       "4906104 Wells St & Walton St            TA1306000011   41.89472  -87.63436\n",
       "4906105                                                41.89552  -87.70612\n",
       "4906106                                                41.89552  -87.70621\n",
       "4906107                                                41.89550  -87.68208\n",
       "4906108                                                41.80932  -87.63350\n",
       "4906109                                                41.94009  -87.65301\n",
       "4906110                                                41.89490  -87.63443\n",
       "4906111                                                41.94009  -87.65299\n",
       "4906112                                                41.94006  -87.65297\n",
       "4906113 Clark St & Grace St             TA1307000127   41.94018  -87.65304\n",
       "4906114 Desplaines St & Kinzie St       TA1306000003   41.88137  -87.64004\n",
       "4906115                                                41.88255  -87.63970\n",
       "4906116                                                41.71972  -87.64286\n",
       "4906117                                                41.88200  -87.63946\n",
       "4906118 Desplaines St & Kinzie St       TA1306000003   41.88200  -87.63927\n",
       "4906119                                                41.88220  -87.63923\n",
       "4906120                                                41.88180  -87.63997\n",
       "4906121                                                41.88229  -87.63975\n",
       "4906122 Kingsbury St & Kinzie St        KA1503000043   41.88212  -87.64005\n",
       "4906123 Dearborn St & Monroe St         TA1305000006   41.88196  -87.63995\n",
       "4906124                                                41.86000  -87.72000\n",
       "4906125 Dearborn St & Monroe St         TA1305000006   41.87785  -87.62408\n",
       "        end_lat  end_lng   member_casual\n",
       "1       41.89000 -87.72000 member       \n",
       "2       41.90000 -87.69000 member       \n",
       "3       41.90000 -87.70000 member       \n",
       "4       41.92000 -87.69000 member       \n",
       "5       41.90000 -87.70000 casual       \n",
       "6       41.94000 -87.71000 casual       \n",
       "7       41.90000 -87.71000 member       \n",
       "8       41.91000 -87.70000 member       \n",
       "9       41.90000 -87.70000 member       \n",
       "10      41.89918 -87.67220 member       \n",
       "11      41.91044 -87.69689 member       \n",
       "12      41.89918 -87.67218 casual       \n",
       "13      41.89915 -87.67218 casual       \n",
       "14      41.89918 -87.67220 casual       \n",
       "15      41.90327 -87.63446 member       \n",
       "16      41.89047 -87.70261 member       \n",
       "17      41.89842 -87.68660 member       \n",
       "18      41.93184 -87.67781 member       \n",
       "19      41.93192 -87.67786 member       \n",
       "20      41.91012 -87.68240 casual       \n",
       "21      41.91015 -87.68246 casual       \n",
       "22      41.91013 -87.68244 casual       \n",
       "23      41.91051 -87.68239 casual       \n",
       "24      41.90312 -87.67394 casual       \n",
       "25      41.89636 -87.65421 casual       \n",
       "26      41.95708 -87.66420 member       \n",
       "27      41.91799 -87.65250 member       \n",
       "28      41.99478 -87.66028 member       \n",
       "29      41.91576 -87.63480 member       \n",
       "30      41.90303 -87.69747 member       \n",
       "⋮       ⋮        ⋮         ⋮            \n",
       "4906096 41.93000 -87.64000 casual       \n",
       "4906097 41.94000 -87.64000 casual       \n",
       "4906098 41.89993 -87.63443 casual       \n",
       "4906099 41.88000 -87.63000 casual       \n",
       "4906100 41.93000 -87.72000 casual       \n",
       "4906101 41.94000 -87.64000 casual       \n",
       "4906102 41.88918 -87.63851 casual       \n",
       "4906103 41.90292 -87.63772 casual       \n",
       "4906104 41.89993 -87.63443 casual       \n",
       "4906105 41.91000 -87.70000 casual       \n",
       "4906106 41.90000 -87.71000 casual       \n",
       "4906107 41.95000 -87.69000 casual       \n",
       "4906108 41.81000 -87.66000 casual       \n",
       "4906109 41.94000 -87.67000 casual       \n",
       "4906110 41.87000 -87.62000 casual       \n",
       "4906111 41.93000 -87.64000 casual       \n",
       "4906112 41.93000 -87.64000 casual       \n",
       "4906113 41.95078 -87.65917 member       \n",
       "4906114 41.88846 -87.64434 casual       \n",
       "4906115 41.90000 -87.62000 casual       \n",
       "4906116 41.73000 -87.64000 casual       \n",
       "4906117 41.89000 -87.62000 casual       \n",
       "4906118 41.88842 -87.64434 casual       \n",
       "4906119 41.88000 -87.65000 casual       \n",
       "4906120 41.88000 -87.64000 casual       \n",
       "4906121 41.89000 -87.61000 casual       \n",
       "4906122 41.88911 -87.63886 member       \n",
       "4906123 41.88025 -87.62960 member       \n",
       "4906124 41.85000 -87.71000 member       \n",
       "4906125 41.88132 -87.62952 member       "
      ]
     },
     "metadata": {},
     "output_type": "display_data"
    },
    {
     "name": "stdout",
     "output_type": "stream",
     "text": [
      "'data.frame':\t4906125 obs. of  13 variables:\n",
      " $ ride_id           : chr  \"E19E6F1B8D4C42ED\" \"DC88F20C2C55F27F\" \"EC45C94683FE3F27\" \"4FA453A75AE377DB\" ...\n",
      " $ rideable_type     : chr  \"electric_bike\" \"electric_bike\" \"electric_bike\" \"electric_bike\" ...\n",
      " $ started_at        : chr  \"2021-01-23 16:14:19\" \"2021-01-27 18:43:08\" \"2021-01-21 22:35:54\" \"2021-01-07 13:31:13\" ...\n",
      " $ ended_at          : chr  \"2021-01-23 16:24:44\" \"2021-01-27 18:47:12\" \"2021-01-21 22:37:14\" \"2021-01-07 13:42:55\" ...\n",
      " $ start_station_name: chr  \"California Ave & Cortez St\" \"California Ave & Cortez St\" \"California Ave & Cortez St\" \"California Ave & Cortez St\" ...\n",
      " $ start_station_id  : chr  \"17660\" \"17660\" \"17660\" \"17660\" ...\n",
      " $ end_station_name  : chr  \"\" \"\" \"\" \"\" ...\n",
      " $ end_station_id    : chr  \"\" \"\" \"\" \"\" ...\n",
      " $ start_lat         : num  41.9 41.9 41.9 41.9 41.9 ...\n",
      " $ start_lng         : num  -87.7 -87.7 -87.7 -87.7 -87.7 ...\n",
      " $ end_lat           : num  41.9 41.9 41.9 41.9 41.9 ...\n",
      " $ end_lng           : num  -87.7 -87.7 -87.7 -87.7 -87.7 ...\n",
      " $ member_casual     : chr  \"member\" \"member\" \"member\" \"member\" ...\n"
     ]
    }
   ],
   "source": [
    "View(cyclistic_2021)\n",
    "str(cyclistic_2021)"
   ]
  },
  {
   "cell_type": "markdown",
   "metadata": {
    "id": "c20WhSt1IM0i"
   },
   "source": [
    "- Now, I have enough information to know what I want to do with this dataframe. I decide that the started_at and ended_at datatypes being in date & time formats aren't very useful so I recode these variables into new variables.\n",
    "\n",
    "- I then make a variable called \"duration\" which tells us the ride length of each user. This will be helpful as I can eventually identify the differences or similarities between annual riders as compared to casual riders.\n",
    "\n",
    "- Lastly, to reduce clutter in the dataframe, I remove unecessary variables which include started_at & ended_at variables as I have already recoded the date & time data into individual variables. I also removed the start_station_id and end_station_id variables as I plan to use Tableau as a visualization tool, and Tableau can utilize the start and end latitude and longitude to plot a graph of areas with frequent riders."
   ]
  },
  {
   "cell_type": "code",
   "execution_count": null,
   "metadata": {
    "id": "dwkyMBWDJ6v9"
   },
   "outputs": [],
   "source": [
    "# Assuming cyclistic_2021 is your original data frame\n",
    "\n",
    "# Step 1: Convert date-time columns to the correct format\n",
    "cyclistic_2021$started_at <- as.POSIXct(cyclistic_2021$started_at, format = \"%Y-%m-%d %H:%M:%S\")\n",
    "cyclistic_2021$ended_at <- as.POSIXct(cyclistic_2021$ended_at, format = \"%Y-%m-%d %H:%M:%S\")\n",
    "\n",
    "# Step 2: Check for and remove rows with invalid date-time values (NA)\n",
    "cyclistic_2021 <- cyclistic_2021[complete.cases(cyclistic_2021$started_at, cyclistic_2021$ended_at), ]\n",
    "\n",
    "# Step 3: Calculate duration in minutes\n",
    "cyclistic_2021$duration <- difftime(cyclistic_2021$ended_at, cyclistic_2021$started_at, units = \"mins\")\n",
    "\n",
    "# Step 4: Create new columns for month, day, year, and day of the week\n",
    "cyclistic_2021$month <- format(cyclistic_2021$started_at, \"%m\")\n",
    "cyclistic_2021$day <- format(cyclistic_2021$started_at, \"%d\")\n",
    "cyclistic_2021$year <- format(cyclistic_2021$started_at, \"%Y\")\n",
    "cyclistic_2021$day_of_week <- format(cyclistic_2021$started_at, \"%A\")\n",
    "cyclistic_2021$day_of_week <- ordered(cyclistic_2021$day_of_week, levels = c(\"Sunday\", \"Monday\", \"Tuesday\", \"Wednesday\", \"Thursday\", \"Friday\", \"Saturday\"))\n",
    "\n",
    "# Step 5: Remove unnecessary columns\n",
    "cyclistic_2021 <- cyclistic_2021 %>%\n",
    "  select(-c(started_at, ended_at, start_station_id, end_station_id))\n",
    "\n",
    "# Step 6: Remove rows with negative duration (if any)\n",
    "cyclistic_2021 <- cyclistic_2021[!cyclistic_2021$duration < 0, ]\n",
    "\n",
    "# Step 7: Remove rows with NA values (if any) from the entire data frame\n",
    "cyclistic_2021 <- na.omit(cyclistic_2021)\n"
   ]
  },
  {
   "cell_type": "markdown",
   "metadata": {
    "id": "CIS1h7yWvOQ3"
   },
   "source": [
    "I check the data again after doing more cleaning to make sure everything is how I planned."
   ]
  },
  {
   "cell_type": "code",
   "execution_count": null,
   "metadata": {
    "colab": {
     "base_uri": "https://localhost:8080/",
     "height": 1000
    },
    "id": "TcKFd5y9KZjM",
    "outputId": "1d36d6e5-3fe3-448b-c711-a6034e6c6e9b"
   },
   "outputs": [
    {
     "data": {
      "text/html": [
       "<table class=\"dataframe\">\n",
       "<caption>A data.frame: 4902140 × 16</caption>\n",
       "<thead>\n",
       "\t<tr><th></th><th scope=col>ride_id</th><th scope=col>rideable_type</th><th scope=col>start_station_name</th><th scope=col>end_station_name</th><th scope=col>start_lat</th><th scope=col>start_lng</th><th scope=col>end_lat</th><th scope=col>end_lng</th><th scope=col>member_casual</th><th scope=col>start_date</th><th scope=col>end_date</th><th scope=col>month</th><th scope=col>day</th><th scope=col>year</th><th scope=col>day_of_week</th><th scope=col>duration</th></tr>\n",
       "\t<tr><th></th><th scope=col>&lt;chr&gt;</th><th scope=col>&lt;chr&gt;</th><th scope=col>&lt;chr&gt;</th><th scope=col>&lt;chr&gt;</th><th scope=col>&lt;dbl&gt;</th><th scope=col>&lt;dbl&gt;</th><th scope=col>&lt;dbl&gt;</th><th scope=col>&lt;dbl&gt;</th><th scope=col>&lt;chr&gt;</th><th scope=col>&lt;date&gt;</th><th scope=col>&lt;date&gt;</th><th scope=col>&lt;chr&gt;</th><th scope=col>&lt;chr&gt;</th><th scope=col>&lt;chr&gt;</th><th scope=col>&lt;ord&gt;</th><th scope=col>&lt;drtn&gt;</th></tr>\n",
       "</thead>\n",
       "<tbody>\n",
       "\t<tr><th scope=row>1</th><td>E19E6F1B8D4C42ED</td><td>electric_bike</td><td><span style=white-space:pre-wrap>California Ave &amp; Cortez St  </span></td><td><span style=white-space:pre-wrap>                               </span></td><td>41.90034</td><td>-87.69674</td><td>41.89000</td><td>-87.72000</td><td>member</td><td>2021-01-23</td><td>2021-01-23</td><td>01</td><td>23</td><td>2021</td><td>Saturday </td><td>10.4166667 mins</td></tr>\n",
       "\t<tr><th scope=row>2</th><td>DC88F20C2C55F27F</td><td>electric_bike</td><td><span style=white-space:pre-wrap>California Ave &amp; Cortez St  </span></td><td><span style=white-space:pre-wrap>                               </span></td><td>41.90033</td><td>-87.69671</td><td>41.90000</td><td>-87.69000</td><td>member</td><td>2021-01-27</td><td>2021-01-27</td><td>01</td><td>27</td><td>2021</td><td>Wednesday</td><td> 4.0666667 mins</td></tr>\n",
       "\t<tr><th scope=row>3</th><td>EC45C94683FE3F27</td><td>electric_bike</td><td><span style=white-space:pre-wrap>California Ave &amp; Cortez St  </span></td><td><span style=white-space:pre-wrap>                               </span></td><td>41.90031</td><td>-87.69664</td><td>41.90000</td><td>-87.70000</td><td>member</td><td>2021-01-21</td><td>2021-01-21</td><td>01</td><td>21</td><td>2021</td><td>Thursday </td><td> 1.3333333 mins</td></tr>\n",
       "\t<tr><th scope=row>4</th><td>4FA453A75AE377DB</td><td>electric_bike</td><td><span style=white-space:pre-wrap>California Ave &amp; Cortez St  </span></td><td><span style=white-space:pre-wrap>                               </span></td><td>41.90040</td><td>-87.69666</td><td>41.92000</td><td>-87.69000</td><td>member</td><td>2021-01-07</td><td>2021-01-07</td><td>01</td><td>07</td><td>2021</td><td>Thursday </td><td>11.7000000 mins</td></tr>\n",
       "\t<tr><th scope=row>5</th><td>BE5E8EB4E7263A0B</td><td>electric_bike</td><td><span style=white-space:pre-wrap>California Ave &amp; Cortez St  </span></td><td><span style=white-space:pre-wrap>                               </span></td><td>41.90033</td><td>-87.69670</td><td>41.90000</td><td>-87.70000</td><td>casual</td><td>2021-01-23</td><td>2021-01-23</td><td>01</td><td>23</td><td>2021</td><td>Saturday </td><td> 0.7166667 mins</td></tr>\n",
       "\t<tr><th scope=row>6</th><td>5D8969F88C773979</td><td>electric_bike</td><td><span style=white-space:pre-wrap>California Ave &amp; Cortez St  </span></td><td><span style=white-space:pre-wrap>                               </span></td><td>41.90041</td><td>-87.69676</td><td>41.94000</td><td>-87.71000</td><td>casual</td><td>2021-01-09</td><td>2021-01-09</td><td>01</td><td>09</td><td>2021</td><td>Saturday </td><td>53.7833333 mins</td></tr>\n",
       "\t<tr><th scope=row>7</th><td>09275CC10F854E9E</td><td>electric_bike</td><td><span style=white-space:pre-wrap>California Ave &amp; Cortez St  </span></td><td><span style=white-space:pre-wrap>                               </span></td><td>41.90039</td><td>-87.69676</td><td>41.90000</td><td>-87.71000</td><td>member</td><td>2021-01-04</td><td>2021-01-04</td><td>01</td><td>04</td><td>2021</td><td><span style=white-space:pre-wrap>Monday   </span></td><td> 5.5833333 mins</td></tr>\n",
       "\t<tr><th scope=row>8</th><td>DF7A32A217AEFB14</td><td>electric_bike</td><td><span style=white-space:pre-wrap>California Ave &amp; Cortez St  </span></td><td><span style=white-space:pre-wrap>                               </span></td><td>41.90039</td><td>-87.69673</td><td>41.91000</td><td>-87.70000</td><td>member</td><td>2021-01-14</td><td>2021-01-14</td><td>01</td><td>14</td><td>2021</td><td>Thursday </td><td> 6.6666667 mins</td></tr>\n",
       "\t<tr><th scope=row>9</th><td>C2EFC62379EB716C</td><td>electric_bike</td><td><span style=white-space:pre-wrap>California Ave &amp; Cortez St  </span></td><td><span style=white-space:pre-wrap>                               </span></td><td>41.90031</td><td>-87.69680</td><td>41.90000</td><td>-87.70000</td><td>member</td><td>2021-01-09</td><td>2021-01-09</td><td>01</td><td>09</td><td>2021</td><td>Saturday </td><td> 2.5166667 mins</td></tr>\n",
       "\t<tr><th scope=row>10</th><td>B9F73448DFBE0D45</td><td>classic_bike </td><td><span style=white-space:pre-wrap>California Ave &amp; Cortez St  </span></td><td><span style=white-space:pre-wrap>Wood St &amp; Augusta Blvd         </span></td><td>41.90036</td><td>-87.69670</td><td>41.89918</td><td>-87.67220</td><td>member</td><td>2021-01-24</td><td>2021-01-24</td><td>01</td><td>24</td><td>2021</td><td><span style=white-space:pre-wrap>Sunday   </span></td><td> 7.2166667 mins</td></tr>\n",
       "\t<tr><th scope=row>11</th><td>457C7F4B5D3DA135</td><td>electric_bike</td><td><span style=white-space:pre-wrap>California Ave &amp; Cortez St  </span></td><td><span style=white-space:pre-wrap>California Ave &amp; North Ave     </span></td><td>41.90041</td><td>-87.69673</td><td>41.91044</td><td>-87.69689</td><td>member</td><td>2021-01-23</td><td>2021-01-23</td><td>01</td><td>23</td><td>2021</td><td>Saturday </td><td> 4.5333333 mins</td></tr>\n",
       "\t<tr><th scope=row>12</th><td>57C750326F9FDABE</td><td>electric_bike</td><td><span style=white-space:pre-wrap>California Ave &amp; Cortez St  </span></td><td><span style=white-space:pre-wrap>Wood St &amp; Augusta Blvd         </span></td><td>41.90037</td><td>-87.69669</td><td>41.89918</td><td>-87.67218</td><td>casual</td><td>2021-01-09</td><td>2021-01-09</td><td>01</td><td>09</td><td>2021</td><td>Saturday </td><td> 9.7833333 mins</td></tr>\n",
       "\t<tr><th scope=row>13</th><td>4D518C65E338D070</td><td>electric_bike</td><td><span style=white-space:pre-wrap>California Ave &amp; Cortez St  </span></td><td><span style=white-space:pre-wrap>Wood St &amp; Augusta Blvd         </span></td><td>41.90038</td><td>-87.69672</td><td>41.89915</td><td>-87.67218</td><td>casual</td><td>2021-01-09</td><td>2021-01-09</td><td>01</td><td>09</td><td>2021</td><td>Saturday </td><td> 8.9500000 mins</td></tr>\n",
       "\t<tr><th scope=row>14</th><td>9D08A3AFF410474D</td><td>classic_bike </td><td><span style=white-space:pre-wrap>California Ave &amp; Cortez St  </span></td><td><span style=white-space:pre-wrap>Wood St &amp; Augusta Blvd         </span></td><td>41.90036</td><td>-87.69670</td><td>41.89918</td><td>-87.67220</td><td>casual</td><td>2021-01-24</td><td>2021-01-24</td><td>01</td><td>24</td><td>2021</td><td><span style=white-space:pre-wrap>Sunday   </span></td><td>10.1500000 mins</td></tr>\n",
       "\t<tr><th scope=row>15</th><td>49FCE1F8598F12C6</td><td>electric_bike</td><td><span style=white-space:pre-wrap>California Ave &amp; Cortez St  </span></td><td><span style=white-space:pre-wrap>Wells St &amp; Elm St              </span></td><td>41.90037</td><td>-87.69679</td><td>41.90327</td><td>-87.63446</td><td>member</td><td>2021-01-22</td><td>2021-01-22</td><td>01</td><td>22</td><td>2021</td><td><span style=white-space:pre-wrap>Friday   </span></td><td>20.5500000 mins</td></tr>\n",
       "\t<tr><th scope=row>16</th><td>0FEED5C2C8749A1C</td><td>classic_bike </td><td><span style=white-space:pre-wrap>California Ave &amp; Cortez St  </span></td><td>Sacramento Blvd &amp; Franklin Blvd</td><td>41.90036</td><td>-87.69670</td><td>41.89047</td><td>-87.70261</td><td>member</td><td>2021-01-05</td><td>2021-01-05</td><td>01</td><td>05</td><td>2021</td><td><span style=white-space:pre-wrap>Tuesday  </span></td><td> 6.0000000 mins</td></tr>\n",
       "\t<tr><th scope=row>17</th><td>E276FD43BDED6420</td><td>classic_bike </td><td><span style=white-space:pre-wrap>California Ave &amp; Cortez St  </span></td><td><span style=white-space:pre-wrap>Western Ave &amp; Walton St        </span></td><td>41.90036</td><td>-87.69670</td><td>41.89842</td><td>-87.68660</td><td>member</td><td>2021-01-30</td><td>2021-01-30</td><td>01</td><td>30</td><td>2021</td><td>Saturday </td><td> 4.4666667 mins</td></tr>\n",
       "\t<tr><th scope=row>18</th><td>88BFCF66C2D585EC</td><td>electric_bike</td><td><span style=white-space:pre-wrap>California Ave &amp; Cortez St  </span></td><td><span style=white-space:pre-wrap>Damen Ave &amp; Clybourn Ave       </span></td><td>41.90031</td><td>-87.69679</td><td>41.93184</td><td>-87.67781</td><td>member</td><td>2021-01-27</td><td>2021-01-27</td><td>01</td><td>27</td><td>2021</td><td>Wednesday</td><td>18.3833333 mins</td></tr>\n",
       "\t<tr><th scope=row>19</th><td>8BD6F6510F5C8BD2</td><td>electric_bike</td><td><span style=white-space:pre-wrap>California Ave &amp; Cortez St  </span></td><td><span style=white-space:pre-wrap>Damen Ave &amp; Clybourn Ave       </span></td><td>41.90036</td><td>-87.69663</td><td>41.93192</td><td>-87.67786</td><td>member</td><td>2021-01-15</td><td>2021-01-15</td><td>01</td><td>15</td><td>2021</td><td><span style=white-space:pre-wrap>Friday   </span></td><td>17.0833333 mins</td></tr>\n",
       "\t<tr><th scope=row>20</th><td>84F11CC620F83254</td><td>electric_bike</td><td><span style=white-space:pre-wrap>California Ave &amp; Cortez St  </span></td><td><span style=white-space:pre-wrap>Leavitt St &amp; North Ave         </span></td><td>41.90040</td><td>-87.69671</td><td>41.91012</td><td>-87.68240</td><td>casual</td><td>2021-01-10</td><td>2021-01-10</td><td>01</td><td>10</td><td>2021</td><td><span style=white-space:pre-wrap>Sunday   </span></td><td> 7.6166667 mins</td></tr>\n",
       "\t<tr><th scope=row>21</th><td>C84E5DD4D74F4FC0</td><td>electric_bike</td><td><span style=white-space:pre-wrap>California Ave &amp; Cortez St  </span></td><td><span style=white-space:pre-wrap>Leavitt St &amp; North Ave         </span></td><td>41.90041</td><td>-87.69671</td><td>41.91015</td><td>-87.68246</td><td>casual</td><td>2021-01-18</td><td>2021-01-18</td><td>01</td><td>18</td><td>2021</td><td><span style=white-space:pre-wrap>Monday   </span></td><td> 7.2000000 mins</td></tr>\n",
       "\t<tr><th scope=row>22</th><td>00AEF8EE4622147F</td><td>electric_bike</td><td><span style=white-space:pre-wrap>California Ave &amp; Cortez St  </span></td><td><span style=white-space:pre-wrap>Leavitt St &amp; North Ave         </span></td><td>41.90041</td><td>-87.69685</td><td>41.91013</td><td>-87.68244</td><td>casual</td><td>2021-01-07</td><td>2021-01-07</td><td>01</td><td>07</td><td>2021</td><td>Thursday </td><td> 7.5000000 mins</td></tr>\n",
       "\t<tr><th scope=row>23</th><td>55DAB9E709B61EA5</td><td>classic_bike </td><td><span style=white-space:pre-wrap>California Ave &amp; Cortez St  </span></td><td><span style=white-space:pre-wrap>Leavitt St &amp; North Ave         </span></td><td>41.90036</td><td>-87.69670</td><td>41.91051</td><td>-87.68239</td><td>casual</td><td>2021-01-11</td><td>2021-01-11</td><td>01</td><td>11</td><td>2021</td><td><span style=white-space:pre-wrap>Monday   </span></td><td> 8.9166667 mins</td></tr>\n",
       "\t<tr><th scope=row>24</th><td>3E41D6E4EFE87DD9</td><td>classic_bike </td><td><span style=white-space:pre-wrap>California Ave &amp; Cortez St  </span></td><td><span style=white-space:pre-wrap>Honore St &amp; Division St        </span></td><td>41.90036</td><td>-87.69670</td><td>41.90312</td><td>-87.67394</td><td>casual</td><td>2021-01-22</td><td>2021-01-22</td><td>01</td><td>22</td><td>2021</td><td><span style=white-space:pre-wrap>Friday   </span></td><td>10.2000000 mins</td></tr>\n",
       "\t<tr><th scope=row>25</th><td>FCE0D29EB2DF84DA</td><td>electric_bike</td><td><span style=white-space:pre-wrap>California Ave &amp; Cortez St  </span></td><td><span style=white-space:pre-wrap>Ogden Ave &amp; Chicago Ave        </span></td><td>41.90031</td><td>-87.69683</td><td>41.89636</td><td>-87.65421</td><td>casual</td><td>2021-01-16</td><td>2021-01-16</td><td>01</td><td>16</td><td>2021</td><td>Saturday </td><td>14.6000000 mins</td></tr>\n",
       "\t<tr><th scope=row>26</th><td>77E53236C1F0EA3F</td><td>classic_bike </td><td>Halsted St &amp; North Branch St</td><td><span style=white-space:pre-wrap>Southport Ave &amp; Clark St       </span></td><td>41.89937</td><td>-87.64848</td><td>41.95708</td><td>-87.66420</td><td>member</td><td>2021-01-28</td><td>2021-01-28</td><td>01</td><td>28</td><td>2021</td><td>Thursday </td><td>30.6000000 mins</td></tr>\n",
       "\t<tr><th scope=row>27</th><td>72335684BF7A0943</td><td>electric_bike</td><td>Halsted St &amp; North Branch St</td><td><span style=white-space:pre-wrap>Bissell St &amp; Armitage Ave      </span></td><td>41.89936</td><td>-87.64849</td><td>41.91799</td><td>-87.65250</td><td>member</td><td>2021-01-09</td><td>2021-01-09</td><td>01</td><td>09</td><td>2021</td><td>Saturday </td><td> 8.0000000 mins</td></tr>\n",
       "\t<tr><th scope=row>28</th><td>625DDA8DCCCCB3E2</td><td>classic_bike </td><td><span style=white-space:pre-wrap>Glenwood Ave &amp; Touhy Ave    </span></td><td><span style=white-space:pre-wrap>Broadway &amp; Granville Ave       </span></td><td>42.01270</td><td>-87.66606</td><td>41.99478</td><td>-87.66028</td><td>member</td><td>2021-01-17</td><td>2021-01-17</td><td>01</td><td>17</td><td>2021</td><td><span style=white-space:pre-wrap>Sunday   </span></td><td>12.9500000 mins</td></tr>\n",
       "\t<tr><th scope=row>29</th><td>61C6977EA354684C</td><td>electric_bike</td><td>Halsted St &amp; North Branch St</td><td><span style=white-space:pre-wrap>Clark St &amp; Lincoln Ave         </span></td><td>41.89933</td><td>-87.64847</td><td>41.91576</td><td>-87.63480</td><td>member</td><td>2021-01-25</td><td>2021-01-25</td><td>01</td><td>25</td><td>2021</td><td><span style=white-space:pre-wrap>Monday   </span></td><td>12.2833333 mins</td></tr>\n",
       "\t<tr><th scope=row>30</th><td>07F1F6A27AB0436E</td><td>classic_bike </td><td><span style=white-space:pre-wrap>California Ave &amp; Cortez St  </span></td><td><span style=white-space:pre-wrap>California Ave &amp; Division St   </span></td><td>41.90036</td><td>-87.69670</td><td>41.90303</td><td>-87.69747</td><td>member</td><td>2021-01-11</td><td>2021-01-11</td><td>01</td><td>11</td><td>2021</td><td><span style=white-space:pre-wrap>Monday   </span></td><td> 2.7500000 mins</td></tr>\n",
       "\t<tr><th scope=row>⋮</th><td>⋮</td><td>⋮</td><td>⋮</td><td>⋮</td><td>⋮</td><td>⋮</td><td>⋮</td><td>⋮</td><td>⋮</td><td>⋮</td><td>⋮</td><td>⋮</td><td>⋮</td><td>⋮</td><td>⋮</td><td>⋮</td></tr>\n",
       "\t<tr><th scope=row>4906096</th><td>F344A84798B09A79</td><td>electric_bike</td><td><span style=white-space:pre-wrap>Wilton Ave &amp; Belmont Ave   </span></td><td><span style=white-space:pre-wrap>                         </span></td><td>41.94003</td><td>-87.65300</td><td>41.93000</td><td>-87.64000</td><td>casual</td><td>2021-12-17</td><td>2021-12-17</td><td>12</td><td>17</td><td>2021</td><td><span style=white-space:pre-wrap>Friday   </span></td><td><span style=white-space:pre-wrap>  5.383333 mins</span></td></tr>\n",
       "\t<tr><th scope=row>4906097</th><td>0E0200872CDBBFAE</td><td>electric_bike</td><td><span style=white-space:pre-wrap>Wilton Ave &amp; Belmont Ave   </span></td><td><span style=white-space:pre-wrap>                         </span></td><td>41.94003</td><td>-87.65297</td><td>41.94000</td><td>-87.64000</td><td>casual</td><td>2021-12-04</td><td>2021-12-04</td><td>12</td><td>04</td><td>2021</td><td>Saturday </td><td> 23.266667 mins</td></tr>\n",
       "\t<tr><th scope=row>4906098</th><td>45C4CCCB83148DE5</td><td>classic_bike </td><td><span style=white-space:pre-wrap>Wells St &amp; Huron St        </span></td><td><span style=white-space:pre-wrap>Wells St &amp; Walton St     </span></td><td>41.89472</td><td>-87.63436</td><td>41.89993</td><td>-87.63443</td><td>casual</td><td>2021-12-07</td><td>2021-12-07</td><td>12</td><td>07</td><td>2021</td><td><span style=white-space:pre-wrap>Tuesday  </span></td><td><span style=white-space:pre-wrap>  6.533333 mins</span></td></tr>\n",
       "\t<tr><th scope=row>4906099</th><td>95E57D31AD70E703</td><td>electric_bike</td><td><span style=white-space:pre-wrap>Wells St &amp; Huron St        </span></td><td><span style=white-space:pre-wrap>                         </span></td><td>41.89457</td><td>-87.63461</td><td>41.88000</td><td>-87.63000</td><td>casual</td><td>2021-12-01</td><td>2021-12-01</td><td>12</td><td>01</td><td>2021</td><td>Wednesday</td><td><span style=white-space:pre-wrap>  4.966667 mins</span></td></tr>\n",
       "\t<tr><th scope=row>4906100</th><td>0094100CF0CD2769</td><td>electric_bike</td><td><span style=white-space:pre-wrap>Wilton Ave &amp; Belmont Ave   </span></td><td><span style=white-space:pre-wrap>                         </span></td><td>41.94010</td><td>-87.65299</td><td>41.93000</td><td>-87.72000</td><td>casual</td><td>2021-12-05</td><td>2021-12-05</td><td>12</td><td>05</td><td>2021</td><td><span style=white-space:pre-wrap>Sunday   </span></td><td> 17.250000 mins</td></tr>\n",
       "\t<tr><th scope=row>4906101</th><td>F7864025BA958AF5</td><td>electric_bike</td><td><span style=white-space:pre-wrap>Wilton Ave &amp; Belmont Ave   </span></td><td><span style=white-space:pre-wrap>                         </span></td><td>41.94016</td><td>-87.65301</td><td>41.94000</td><td>-87.64000</td><td>casual</td><td>2021-12-10</td><td>2021-12-10</td><td>12</td><td>10</td><td>2021</td><td><span style=white-space:pre-wrap>Friday   </span></td><td><span style=white-space:pre-wrap>  5.083333 mins</span></td></tr>\n",
       "\t<tr><th scope=row>4906102</th><td>1F79B0418779E2DE</td><td>classic_bike </td><td><span style=white-space:pre-wrap>Wells St &amp; Huron St        </span></td><td>Kingsbury St &amp; Kinzie St </td><td>41.89472</td><td>-87.63436</td><td>41.88918</td><td>-87.63851</td><td>casual</td><td>2021-12-01</td><td>2021-12-01</td><td>12</td><td>01</td><td>2021</td><td>Wednesday</td><td><span style=white-space:pre-wrap>  5.683333 mins</span></td></tr>\n",
       "\t<tr><th scope=row>4906103</th><td>F31F03B7185D396E</td><td>electric_bike</td><td><span style=white-space:pre-wrap>Wells St &amp; Huron St        </span></td><td><span style=white-space:pre-wrap>Orleans St &amp; Elm St      </span></td><td>41.89495</td><td>-87.63443</td><td>41.90292</td><td>-87.63772</td><td>casual</td><td>2021-12-11</td><td>2021-12-11</td><td>12</td><td>11</td><td>2021</td><td>Saturday </td><td><span style=white-space:pre-wrap>  3.416667 mins</span></td></tr>\n",
       "\t<tr><th scope=row>4906104</th><td>073BDECDD8CEEB7F</td><td>classic_bike </td><td><span style=white-space:pre-wrap>Wells St &amp; Huron St        </span></td><td><span style=white-space:pre-wrap>Wells St &amp; Walton St     </span></td><td>41.89472</td><td>-87.63436</td><td>41.89993</td><td>-87.63443</td><td>casual</td><td>2021-12-06</td><td>2021-12-06</td><td>12</td><td>06</td><td>2021</td><td><span style=white-space:pre-wrap>Monday   </span></td><td><span style=white-space:pre-wrap>  3.266667 mins</span></td></tr>\n",
       "\t<tr><th scope=row>4906105</th><td>49AF82E5088F94B6</td><td>electric_bike</td><td><span style=white-space:pre-wrap>Kedzie Ave &amp; Chicago Ave   </span></td><td><span style=white-space:pre-wrap>                         </span></td><td>41.89552</td><td>-87.70612</td><td>41.91000</td><td>-87.70000</td><td>casual</td><td>2021-12-21</td><td>2021-12-21</td><td>12</td><td>21</td><td>2021</td><td><span style=white-space:pre-wrap>Tuesday  </span></td><td><span style=white-space:pre-wrap>  8.033333 mins</span></td></tr>\n",
       "\t<tr><th scope=row>4906106</th><td>0B6BF6DCAF114614</td><td>electric_bike</td><td><span style=white-space:pre-wrap>Kedzie Ave &amp; Chicago Ave   </span></td><td><span style=white-space:pre-wrap>                         </span></td><td>41.89552</td><td>-87.70621</td><td>41.90000</td><td>-87.71000</td><td>casual</td><td>2021-12-08</td><td>2021-12-08</td><td>12</td><td>08</td><td>2021</td><td>Wednesday</td><td><span style=white-space:pre-wrap>  5.350000 mins</span></td></tr>\n",
       "\t<tr><th scope=row>4906107</th><td>3F1F16FAACA6C161</td><td>electric_bike</td><td><span style=white-space:pre-wrap>Leavitt St &amp; Chicago Ave   </span></td><td><span style=white-space:pre-wrap>                         </span></td><td>41.89550</td><td>-87.68208</td><td>41.95000</td><td>-87.69000</td><td>casual</td><td>2021-12-03</td><td>2021-12-03</td><td>12</td><td>03</td><td>2021</td><td><span style=white-space:pre-wrap>Friday   </span></td><td> 23.866667 mins</td></tr>\n",
       "\t<tr><th scope=row>4906108</th><td>6CD3256DC7D49217</td><td>electric_bike</td><td><span style=white-space:pre-wrap>Princeton Ave &amp; 47th St    </span></td><td><span style=white-space:pre-wrap>                         </span></td><td>41.80932</td><td>-87.63350</td><td>41.81000</td><td>-87.66000</td><td>casual</td><td>2021-12-02</td><td>2021-12-02</td><td>12</td><td>02</td><td>2021</td><td>Thursday </td><td> 11.533333 mins</td></tr>\n",
       "\t<tr><th scope=row>4906109</th><td>F0132FA06DAF06DA</td><td>electric_bike</td><td><span style=white-space:pre-wrap>Wilton Ave &amp; Belmont Ave   </span></td><td><span style=white-space:pre-wrap>                         </span></td><td>41.94009</td><td>-87.65301</td><td>41.94000</td><td>-87.67000</td><td>casual</td><td>2021-12-08</td><td>2021-12-08</td><td>12</td><td>08</td><td>2021</td><td>Wednesday</td><td><span style=white-space:pre-wrap>  5.466667 mins</span></td></tr>\n",
       "\t<tr><th scope=row>4906110</th><td>A67059D361ACC221</td><td>electric_bike</td><td><span style=white-space:pre-wrap>Wells St &amp; Huron St        </span></td><td><span style=white-space:pre-wrap>                         </span></td><td>41.89490</td><td>-87.63443</td><td>41.87000</td><td>-87.62000</td><td>casual</td><td>2021-12-05</td><td>2021-12-05</td><td>12</td><td>05</td><td>2021</td><td><span style=white-space:pre-wrap>Sunday   </span></td><td> 21.700000 mins</td></tr>\n",
       "\t<tr><th scope=row>4906111</th><td>7A19E60E84CE4625</td><td>electric_bike</td><td><span style=white-space:pre-wrap>Wilton Ave &amp; Belmont Ave   </span></td><td><span style=white-space:pre-wrap>                         </span></td><td>41.94009</td><td>-87.65299</td><td>41.93000</td><td>-87.64000</td><td>casual</td><td>2021-12-16</td><td>2021-12-16</td><td>12</td><td>16</td><td>2021</td><td>Thursday </td><td><span style=white-space:pre-wrap>  6.500000 mins</span></td></tr>\n",
       "\t<tr><th scope=row>4906112</th><td>B449D8E59AE2B4E2</td><td>electric_bike</td><td><span style=white-space:pre-wrap>Wilton Ave &amp; Belmont Ave   </span></td><td><span style=white-space:pre-wrap>                         </span></td><td>41.94006</td><td>-87.65297</td><td>41.93000</td><td>-87.64000</td><td>casual</td><td>2021-12-16</td><td>2021-12-16</td><td>12</td><td>16</td><td>2021</td><td>Thursday </td><td><span style=white-space:pre-wrap>  5.216667 mins</span></td></tr>\n",
       "\t<tr><th scope=row>4906113</th><td>46B23DFEAC1499DF</td><td>classic_bike </td><td><span style=white-space:pre-wrap>Wilton Ave &amp; Belmont Ave   </span></td><td><span style=white-space:pre-wrap>Clark St &amp; Grace St      </span></td><td>41.94018</td><td>-87.65304</td><td>41.95078</td><td>-87.65917</td><td>member</td><td>2021-12-15</td><td>2021-12-15</td><td>12</td><td>15</td><td>2021</td><td>Wednesday</td><td><span style=white-space:pre-wrap>  5.383333 mins</span></td></tr>\n",
       "\t<tr><th scope=row>4906114</th><td>E06135F650553F21</td><td>electric_bike</td><td><span style=white-space:pre-wrap>Canal St &amp; Madison St      </span></td><td>Desplaines St &amp; Kinzie St</td><td>41.88137</td><td>-87.64004</td><td>41.88846</td><td>-87.64434</td><td>casual</td><td>2021-12-07</td><td>2021-12-07</td><td>12</td><td>07</td><td>2021</td><td><span style=white-space:pre-wrap>Tuesday  </span></td><td><span style=white-space:pre-wrap>  4.666667 mins</span></td></tr>\n",
       "\t<tr><th scope=row>4906115</th><td>2FA526ED0D5989F0</td><td>electric_bike</td><td><span style=white-space:pre-wrap>Canal St &amp; Madison St      </span></td><td><span style=white-space:pre-wrap>                         </span></td><td>41.88255</td><td>-87.63970</td><td>41.90000</td><td>-87.62000</td><td>casual</td><td>2021-12-02</td><td>2021-12-02</td><td>12</td><td>02</td><td>2021</td><td>Thursday </td><td> 22.116667 mins</td></tr>\n",
       "\t<tr><th scope=row>4906116</th><td>46C3F13E9342A2C9</td><td>electric_bike</td><td><span style=white-space:pre-wrap>Halsted St &amp; 96th St       </span></td><td><span style=white-space:pre-wrap>                         </span></td><td>41.71972</td><td>-87.64286</td><td>41.73000</td><td>-87.64000</td><td>casual</td><td>2021-12-03</td><td>2021-12-03</td><td>12</td><td>03</td><td>2021</td><td><span style=white-space:pre-wrap>Friday   </span></td><td><span style=white-space:pre-wrap>  5.700000 mins</span></td></tr>\n",
       "\t<tr><th scope=row>4906117</th><td>08E5EC2EC583D230</td><td>electric_bike</td><td><span style=white-space:pre-wrap>Canal St &amp; Madison St      </span></td><td><span style=white-space:pre-wrap>                         </span></td><td>41.88200</td><td>-87.63946</td><td>41.89000</td><td>-87.62000</td><td>casual</td><td>2021-12-17</td><td>2021-12-17</td><td>12</td><td>17</td><td>2021</td><td><span style=white-space:pre-wrap>Friday   </span></td><td><span style=white-space:pre-wrap>  7.966667 mins</span></td></tr>\n",
       "\t<tr><th scope=row>4906118</th><td>8DF0DBB049906332</td><td>electric_bike</td><td><span style=white-space:pre-wrap>Canal St &amp; Madison St      </span></td><td>Desplaines St &amp; Kinzie St</td><td>41.88200</td><td>-87.63927</td><td>41.88842</td><td>-87.64434</td><td>casual</td><td>2021-12-01</td><td>2021-12-01</td><td>12</td><td>01</td><td>2021</td><td>Wednesday</td><td><span style=white-space:pre-wrap>  4.433333 mins</span></td></tr>\n",
       "\t<tr><th scope=row>4906119</th><td>DFE48801A70DFEA7</td><td>electric_bike</td><td><span style=white-space:pre-wrap>Canal St &amp; Madison St      </span></td><td><span style=white-space:pre-wrap>                         </span></td><td>41.88220</td><td>-87.63923</td><td>41.88000</td><td>-87.65000</td><td>casual</td><td>2021-12-23</td><td>2021-12-23</td><td>12</td><td>23</td><td>2021</td><td>Thursday </td><td><span style=white-space:pre-wrap>  7.766667 mins</span></td></tr>\n",
       "\t<tr><th scope=row>4906120</th><td>92BBAB97D1683D69</td><td>electric_bike</td><td><span style=white-space:pre-wrap>Canal St &amp; Madison St      </span></td><td><span style=white-space:pre-wrap>                         </span></td><td>41.88180</td><td>-87.63997</td><td>41.88000</td><td>-87.64000</td><td>casual</td><td>2021-12-24</td><td>2021-12-24</td><td>12</td><td>24</td><td>2021</td><td><span style=white-space:pre-wrap>Friday   </span></td><td>227.433333 mins</td></tr>\n",
       "\t<tr><th scope=row>4906121</th><td>847431F3D5353AB7</td><td>electric_bike</td><td><span style=white-space:pre-wrap>Canal St &amp; Madison St      </span></td><td><span style=white-space:pre-wrap>                         </span></td><td>41.88229</td><td>-87.63975</td><td>41.89000</td><td>-87.61000</td><td>casual</td><td>2021-12-12</td><td>2021-12-12</td><td>12</td><td>12</td><td>2021</td><td><span style=white-space:pre-wrap>Sunday   </span></td><td> 19.216667 mins</td></tr>\n",
       "\t<tr><th scope=row>4906122</th><td>CF407BBC3B9FAD63</td><td>electric_bike</td><td><span style=white-space:pre-wrap>Canal St &amp; Madison St      </span></td><td>Kingsbury St &amp; Kinzie St </td><td>41.88212</td><td>-87.64005</td><td>41.88911</td><td>-87.63886</td><td>member</td><td>2021-12-06</td><td>2021-12-06</td><td>12</td><td>06</td><td>2021</td><td><span style=white-space:pre-wrap>Monday   </span></td><td><span style=white-space:pre-wrap>  7.016667 mins</span></td></tr>\n",
       "\t<tr><th scope=row>4906123</th><td>60BB69EBF5440E92</td><td>electric_bike</td><td><span style=white-space:pre-wrap>Canal St &amp; Madison St      </span></td><td><span style=white-space:pre-wrap>Dearborn St &amp; Monroe St  </span></td><td>41.88196</td><td>-87.63995</td><td>41.88025</td><td>-87.62960</td><td>member</td><td>2021-12-02</td><td>2021-12-02</td><td>12</td><td>02</td><td>2021</td><td>Thursday </td><td><span style=white-space:pre-wrap>  8.283333 mins</span></td></tr>\n",
       "\t<tr><th scope=row>4906124</th><td>C414F654A28635B8</td><td>electric_bike</td><td><span style=white-space:pre-wrap>Lawndale Ave &amp; 16th St     </span></td><td><span style=white-space:pre-wrap>                         </span></td><td>41.86000</td><td>-87.72000</td><td>41.85000</td><td>-87.71000</td><td>member</td><td>2021-12-13</td><td>2021-12-13</td><td>12</td><td>13</td><td>2021</td><td><span style=white-space:pre-wrap>Monday   </span></td><td> 14.216667 mins</td></tr>\n",
       "\t<tr><th scope=row>4906125</th><td>37AC57E34B2E7E97</td><td>classic_bike </td><td>Michigan Ave &amp; Jackson Blvd</td><td><span style=white-space:pre-wrap>Dearborn St &amp; Monroe St  </span></td><td>41.87785</td><td>-87.62408</td><td>41.88132</td><td>-87.62952</td><td>member</td><td>2021-12-13</td><td>2021-12-13</td><td>12</td><td>13</td><td>2021</td><td><span style=white-space:pre-wrap>Monday   </span></td><td><span style=white-space:pre-wrap>  3.616667 mins</span></td></tr>\n",
       "</tbody>\n",
       "</table>\n"
      ],
      "text/latex": [
       "A data.frame: 4902140 × 16\n",
       "\\begin{tabular}{r|llllllllllllllll}\n",
       "  & ride\\_id & rideable\\_type & start\\_station\\_name & end\\_station\\_name & start\\_lat & start\\_lng & end\\_lat & end\\_lng & member\\_casual & start\\_date & end\\_date & month & day & year & day\\_of\\_week & duration\\\\\n",
       "  & <chr> & <chr> & <chr> & <chr> & <dbl> & <dbl> & <dbl> & <dbl> & <chr> & <date> & <date> & <chr> & <chr> & <chr> & <ord> & <drtn>\\\\\n",
       "\\hline\n",
       "\t1 & E19E6F1B8D4C42ED & electric\\_bike & California Ave \\& Cortez St   &                                 & 41.90034 & -87.69674 & 41.89000 & -87.72000 & member & 2021-01-23 & 2021-01-23 & 01 & 23 & 2021 & Saturday  & 10.4166667 mins\\\\\n",
       "\t2 & DC88F20C2C55F27F & electric\\_bike & California Ave \\& Cortez St   &                                 & 41.90033 & -87.69671 & 41.90000 & -87.69000 & member & 2021-01-27 & 2021-01-27 & 01 & 27 & 2021 & Wednesday &  4.0666667 mins\\\\\n",
       "\t3 & EC45C94683FE3F27 & electric\\_bike & California Ave \\& Cortez St   &                                 & 41.90031 & -87.69664 & 41.90000 & -87.70000 & member & 2021-01-21 & 2021-01-21 & 01 & 21 & 2021 & Thursday  &  1.3333333 mins\\\\\n",
       "\t4 & 4FA453A75AE377DB & electric\\_bike & California Ave \\& Cortez St   &                                 & 41.90040 & -87.69666 & 41.92000 & -87.69000 & member & 2021-01-07 & 2021-01-07 & 01 & 07 & 2021 & Thursday  & 11.7000000 mins\\\\\n",
       "\t5 & BE5E8EB4E7263A0B & electric\\_bike & California Ave \\& Cortez St   &                                 & 41.90033 & -87.69670 & 41.90000 & -87.70000 & casual & 2021-01-23 & 2021-01-23 & 01 & 23 & 2021 & Saturday  &  0.7166667 mins\\\\\n",
       "\t6 & 5D8969F88C773979 & electric\\_bike & California Ave \\& Cortez St   &                                 & 41.90041 & -87.69676 & 41.94000 & -87.71000 & casual & 2021-01-09 & 2021-01-09 & 01 & 09 & 2021 & Saturday  & 53.7833333 mins\\\\\n",
       "\t7 & 09275CC10F854E9E & electric\\_bike & California Ave \\& Cortez St   &                                 & 41.90039 & -87.69676 & 41.90000 & -87.71000 & member & 2021-01-04 & 2021-01-04 & 01 & 04 & 2021 & Monday    &  5.5833333 mins\\\\\n",
       "\t8 & DF7A32A217AEFB14 & electric\\_bike & California Ave \\& Cortez St   &                                 & 41.90039 & -87.69673 & 41.91000 & -87.70000 & member & 2021-01-14 & 2021-01-14 & 01 & 14 & 2021 & Thursday  &  6.6666667 mins\\\\\n",
       "\t9 & C2EFC62379EB716C & electric\\_bike & California Ave \\& Cortez St   &                                 & 41.90031 & -87.69680 & 41.90000 & -87.70000 & member & 2021-01-09 & 2021-01-09 & 01 & 09 & 2021 & Saturday  &  2.5166667 mins\\\\\n",
       "\t10 & B9F73448DFBE0D45 & classic\\_bike  & California Ave \\& Cortez St   & Wood St \\& Augusta Blvd          & 41.90036 & -87.69670 & 41.89918 & -87.67220 & member & 2021-01-24 & 2021-01-24 & 01 & 24 & 2021 & Sunday    &  7.2166667 mins\\\\\n",
       "\t11 & 457C7F4B5D3DA135 & electric\\_bike & California Ave \\& Cortez St   & California Ave \\& North Ave      & 41.90041 & -87.69673 & 41.91044 & -87.69689 & member & 2021-01-23 & 2021-01-23 & 01 & 23 & 2021 & Saturday  &  4.5333333 mins\\\\\n",
       "\t12 & 57C750326F9FDABE & electric\\_bike & California Ave \\& Cortez St   & Wood St \\& Augusta Blvd          & 41.90037 & -87.69669 & 41.89918 & -87.67218 & casual & 2021-01-09 & 2021-01-09 & 01 & 09 & 2021 & Saturday  &  9.7833333 mins\\\\\n",
       "\t13 & 4D518C65E338D070 & electric\\_bike & California Ave \\& Cortez St   & Wood St \\& Augusta Blvd          & 41.90038 & -87.69672 & 41.89915 & -87.67218 & casual & 2021-01-09 & 2021-01-09 & 01 & 09 & 2021 & Saturday  &  8.9500000 mins\\\\\n",
       "\t14 & 9D08A3AFF410474D & classic\\_bike  & California Ave \\& Cortez St   & Wood St \\& Augusta Blvd          & 41.90036 & -87.69670 & 41.89918 & -87.67220 & casual & 2021-01-24 & 2021-01-24 & 01 & 24 & 2021 & Sunday    & 10.1500000 mins\\\\\n",
       "\t15 & 49FCE1F8598F12C6 & electric\\_bike & California Ave \\& Cortez St   & Wells St \\& Elm St               & 41.90037 & -87.69679 & 41.90327 & -87.63446 & member & 2021-01-22 & 2021-01-22 & 01 & 22 & 2021 & Friday    & 20.5500000 mins\\\\\n",
       "\t16 & 0FEED5C2C8749A1C & classic\\_bike  & California Ave \\& Cortez St   & Sacramento Blvd \\& Franklin Blvd & 41.90036 & -87.69670 & 41.89047 & -87.70261 & member & 2021-01-05 & 2021-01-05 & 01 & 05 & 2021 & Tuesday   &  6.0000000 mins\\\\\n",
       "\t17 & E276FD43BDED6420 & classic\\_bike  & California Ave \\& Cortez St   & Western Ave \\& Walton St         & 41.90036 & -87.69670 & 41.89842 & -87.68660 & member & 2021-01-30 & 2021-01-30 & 01 & 30 & 2021 & Saturday  &  4.4666667 mins\\\\\n",
       "\t18 & 88BFCF66C2D585EC & electric\\_bike & California Ave \\& Cortez St   & Damen Ave \\& Clybourn Ave        & 41.90031 & -87.69679 & 41.93184 & -87.67781 & member & 2021-01-27 & 2021-01-27 & 01 & 27 & 2021 & Wednesday & 18.3833333 mins\\\\\n",
       "\t19 & 8BD6F6510F5C8BD2 & electric\\_bike & California Ave \\& Cortez St   & Damen Ave \\& Clybourn Ave        & 41.90036 & -87.69663 & 41.93192 & -87.67786 & member & 2021-01-15 & 2021-01-15 & 01 & 15 & 2021 & Friday    & 17.0833333 mins\\\\\n",
       "\t20 & 84F11CC620F83254 & electric\\_bike & California Ave \\& Cortez St   & Leavitt St \\& North Ave          & 41.90040 & -87.69671 & 41.91012 & -87.68240 & casual & 2021-01-10 & 2021-01-10 & 01 & 10 & 2021 & Sunday    &  7.6166667 mins\\\\\n",
       "\t21 & C84E5DD4D74F4FC0 & electric\\_bike & California Ave \\& Cortez St   & Leavitt St \\& North Ave          & 41.90041 & -87.69671 & 41.91015 & -87.68246 & casual & 2021-01-18 & 2021-01-18 & 01 & 18 & 2021 & Monday    &  7.2000000 mins\\\\\n",
       "\t22 & 00AEF8EE4622147F & electric\\_bike & California Ave \\& Cortez St   & Leavitt St \\& North Ave          & 41.90041 & -87.69685 & 41.91013 & -87.68244 & casual & 2021-01-07 & 2021-01-07 & 01 & 07 & 2021 & Thursday  &  7.5000000 mins\\\\\n",
       "\t23 & 55DAB9E709B61EA5 & classic\\_bike  & California Ave \\& Cortez St   & Leavitt St \\& North Ave          & 41.90036 & -87.69670 & 41.91051 & -87.68239 & casual & 2021-01-11 & 2021-01-11 & 01 & 11 & 2021 & Monday    &  8.9166667 mins\\\\\n",
       "\t24 & 3E41D6E4EFE87DD9 & classic\\_bike  & California Ave \\& Cortez St   & Honore St \\& Division St         & 41.90036 & -87.69670 & 41.90312 & -87.67394 & casual & 2021-01-22 & 2021-01-22 & 01 & 22 & 2021 & Friday    & 10.2000000 mins\\\\\n",
       "\t25 & FCE0D29EB2DF84DA & electric\\_bike & California Ave \\& Cortez St   & Ogden Ave \\& Chicago Ave         & 41.90031 & -87.69683 & 41.89636 & -87.65421 & casual & 2021-01-16 & 2021-01-16 & 01 & 16 & 2021 & Saturday  & 14.6000000 mins\\\\\n",
       "\t26 & 77E53236C1F0EA3F & classic\\_bike  & Halsted St \\& North Branch St & Southport Ave \\& Clark St        & 41.89937 & -87.64848 & 41.95708 & -87.66420 & member & 2021-01-28 & 2021-01-28 & 01 & 28 & 2021 & Thursday  & 30.6000000 mins\\\\\n",
       "\t27 & 72335684BF7A0943 & electric\\_bike & Halsted St \\& North Branch St & Bissell St \\& Armitage Ave       & 41.89936 & -87.64849 & 41.91799 & -87.65250 & member & 2021-01-09 & 2021-01-09 & 01 & 09 & 2021 & Saturday  &  8.0000000 mins\\\\\n",
       "\t28 & 625DDA8DCCCCB3E2 & classic\\_bike  & Glenwood Ave \\& Touhy Ave     & Broadway \\& Granville Ave        & 42.01270 & -87.66606 & 41.99478 & -87.66028 & member & 2021-01-17 & 2021-01-17 & 01 & 17 & 2021 & Sunday    & 12.9500000 mins\\\\\n",
       "\t29 & 61C6977EA354684C & electric\\_bike & Halsted St \\& North Branch St & Clark St \\& Lincoln Ave          & 41.89933 & -87.64847 & 41.91576 & -87.63480 & member & 2021-01-25 & 2021-01-25 & 01 & 25 & 2021 & Monday    & 12.2833333 mins\\\\\n",
       "\t30 & 07F1F6A27AB0436E & classic\\_bike  & California Ave \\& Cortez St   & California Ave \\& Division St    & 41.90036 & -87.69670 & 41.90303 & -87.69747 & member & 2021-01-11 & 2021-01-11 & 01 & 11 & 2021 & Monday    &  2.7500000 mins\\\\\n",
       "\t⋮ & ⋮ & ⋮ & ⋮ & ⋮ & ⋮ & ⋮ & ⋮ & ⋮ & ⋮ & ⋮ & ⋮ & ⋮ & ⋮ & ⋮ & ⋮ & ⋮\\\\\n",
       "\t4906096 & F344A84798B09A79 & electric\\_bike & Wilton Ave \\& Belmont Ave    &                           & 41.94003 & -87.65300 & 41.93000 & -87.64000 & casual & 2021-12-17 & 2021-12-17 & 12 & 17 & 2021 & Friday    &   5.383333 mins\\\\\n",
       "\t4906097 & 0E0200872CDBBFAE & electric\\_bike & Wilton Ave \\& Belmont Ave    &                           & 41.94003 & -87.65297 & 41.94000 & -87.64000 & casual & 2021-12-04 & 2021-12-04 & 12 & 04 & 2021 & Saturday  &  23.266667 mins\\\\\n",
       "\t4906098 & 45C4CCCB83148DE5 & classic\\_bike  & Wells St \\& Huron St         & Wells St \\& Walton St      & 41.89472 & -87.63436 & 41.89993 & -87.63443 & casual & 2021-12-07 & 2021-12-07 & 12 & 07 & 2021 & Tuesday   &   6.533333 mins\\\\\n",
       "\t4906099 & 95E57D31AD70E703 & electric\\_bike & Wells St \\& Huron St         &                           & 41.89457 & -87.63461 & 41.88000 & -87.63000 & casual & 2021-12-01 & 2021-12-01 & 12 & 01 & 2021 & Wednesday &   4.966667 mins\\\\\n",
       "\t4906100 & 0094100CF0CD2769 & electric\\_bike & Wilton Ave \\& Belmont Ave    &                           & 41.94010 & -87.65299 & 41.93000 & -87.72000 & casual & 2021-12-05 & 2021-12-05 & 12 & 05 & 2021 & Sunday    &  17.250000 mins\\\\\n",
       "\t4906101 & F7864025BA958AF5 & electric\\_bike & Wilton Ave \\& Belmont Ave    &                           & 41.94016 & -87.65301 & 41.94000 & -87.64000 & casual & 2021-12-10 & 2021-12-10 & 12 & 10 & 2021 & Friday    &   5.083333 mins\\\\\n",
       "\t4906102 & 1F79B0418779E2DE & classic\\_bike  & Wells St \\& Huron St         & Kingsbury St \\& Kinzie St  & 41.89472 & -87.63436 & 41.88918 & -87.63851 & casual & 2021-12-01 & 2021-12-01 & 12 & 01 & 2021 & Wednesday &   5.683333 mins\\\\\n",
       "\t4906103 & F31F03B7185D396E & electric\\_bike & Wells St \\& Huron St         & Orleans St \\& Elm St       & 41.89495 & -87.63443 & 41.90292 & -87.63772 & casual & 2021-12-11 & 2021-12-11 & 12 & 11 & 2021 & Saturday  &   3.416667 mins\\\\\n",
       "\t4906104 & 073BDECDD8CEEB7F & classic\\_bike  & Wells St \\& Huron St         & Wells St \\& Walton St      & 41.89472 & -87.63436 & 41.89993 & -87.63443 & casual & 2021-12-06 & 2021-12-06 & 12 & 06 & 2021 & Monday    &   3.266667 mins\\\\\n",
       "\t4906105 & 49AF82E5088F94B6 & electric\\_bike & Kedzie Ave \\& Chicago Ave    &                           & 41.89552 & -87.70612 & 41.91000 & -87.70000 & casual & 2021-12-21 & 2021-12-21 & 12 & 21 & 2021 & Tuesday   &   8.033333 mins\\\\\n",
       "\t4906106 & 0B6BF6DCAF114614 & electric\\_bike & Kedzie Ave \\& Chicago Ave    &                           & 41.89552 & -87.70621 & 41.90000 & -87.71000 & casual & 2021-12-08 & 2021-12-08 & 12 & 08 & 2021 & Wednesday &   5.350000 mins\\\\\n",
       "\t4906107 & 3F1F16FAACA6C161 & electric\\_bike & Leavitt St \\& Chicago Ave    &                           & 41.89550 & -87.68208 & 41.95000 & -87.69000 & casual & 2021-12-03 & 2021-12-03 & 12 & 03 & 2021 & Friday    &  23.866667 mins\\\\\n",
       "\t4906108 & 6CD3256DC7D49217 & electric\\_bike & Princeton Ave \\& 47th St     &                           & 41.80932 & -87.63350 & 41.81000 & -87.66000 & casual & 2021-12-02 & 2021-12-02 & 12 & 02 & 2021 & Thursday  &  11.533333 mins\\\\\n",
       "\t4906109 & F0132FA06DAF06DA & electric\\_bike & Wilton Ave \\& Belmont Ave    &                           & 41.94009 & -87.65301 & 41.94000 & -87.67000 & casual & 2021-12-08 & 2021-12-08 & 12 & 08 & 2021 & Wednesday &   5.466667 mins\\\\\n",
       "\t4906110 & A67059D361ACC221 & electric\\_bike & Wells St \\& Huron St         &                           & 41.89490 & -87.63443 & 41.87000 & -87.62000 & casual & 2021-12-05 & 2021-12-05 & 12 & 05 & 2021 & Sunday    &  21.700000 mins\\\\\n",
       "\t4906111 & 7A19E60E84CE4625 & electric\\_bike & Wilton Ave \\& Belmont Ave    &                           & 41.94009 & -87.65299 & 41.93000 & -87.64000 & casual & 2021-12-16 & 2021-12-16 & 12 & 16 & 2021 & Thursday  &   6.500000 mins\\\\\n",
       "\t4906112 & B449D8E59AE2B4E2 & electric\\_bike & Wilton Ave \\& Belmont Ave    &                           & 41.94006 & -87.65297 & 41.93000 & -87.64000 & casual & 2021-12-16 & 2021-12-16 & 12 & 16 & 2021 & Thursday  &   5.216667 mins\\\\\n",
       "\t4906113 & 46B23DFEAC1499DF & classic\\_bike  & Wilton Ave \\& Belmont Ave    & Clark St \\& Grace St       & 41.94018 & -87.65304 & 41.95078 & -87.65917 & member & 2021-12-15 & 2021-12-15 & 12 & 15 & 2021 & Wednesday &   5.383333 mins\\\\\n",
       "\t4906114 & E06135F650553F21 & electric\\_bike & Canal St \\& Madison St       & Desplaines St \\& Kinzie St & 41.88137 & -87.64004 & 41.88846 & -87.64434 & casual & 2021-12-07 & 2021-12-07 & 12 & 07 & 2021 & Tuesday   &   4.666667 mins\\\\\n",
       "\t4906115 & 2FA526ED0D5989F0 & electric\\_bike & Canal St \\& Madison St       &                           & 41.88255 & -87.63970 & 41.90000 & -87.62000 & casual & 2021-12-02 & 2021-12-02 & 12 & 02 & 2021 & Thursday  &  22.116667 mins\\\\\n",
       "\t4906116 & 46C3F13E9342A2C9 & electric\\_bike & Halsted St \\& 96th St        &                           & 41.71972 & -87.64286 & 41.73000 & -87.64000 & casual & 2021-12-03 & 2021-12-03 & 12 & 03 & 2021 & Friday    &   5.700000 mins\\\\\n",
       "\t4906117 & 08E5EC2EC583D230 & electric\\_bike & Canal St \\& Madison St       &                           & 41.88200 & -87.63946 & 41.89000 & -87.62000 & casual & 2021-12-17 & 2021-12-17 & 12 & 17 & 2021 & Friday    &   7.966667 mins\\\\\n",
       "\t4906118 & 8DF0DBB049906332 & electric\\_bike & Canal St \\& Madison St       & Desplaines St \\& Kinzie St & 41.88200 & -87.63927 & 41.88842 & -87.64434 & casual & 2021-12-01 & 2021-12-01 & 12 & 01 & 2021 & Wednesday &   4.433333 mins\\\\\n",
       "\t4906119 & DFE48801A70DFEA7 & electric\\_bike & Canal St \\& Madison St       &                           & 41.88220 & -87.63923 & 41.88000 & -87.65000 & casual & 2021-12-23 & 2021-12-23 & 12 & 23 & 2021 & Thursday  &   7.766667 mins\\\\\n",
       "\t4906120 & 92BBAB97D1683D69 & electric\\_bike & Canal St \\& Madison St       &                           & 41.88180 & -87.63997 & 41.88000 & -87.64000 & casual & 2021-12-24 & 2021-12-24 & 12 & 24 & 2021 & Friday    & 227.433333 mins\\\\\n",
       "\t4906121 & 847431F3D5353AB7 & electric\\_bike & Canal St \\& Madison St       &                           & 41.88229 & -87.63975 & 41.89000 & -87.61000 & casual & 2021-12-12 & 2021-12-12 & 12 & 12 & 2021 & Sunday    &  19.216667 mins\\\\\n",
       "\t4906122 & CF407BBC3B9FAD63 & electric\\_bike & Canal St \\& Madison St       & Kingsbury St \\& Kinzie St  & 41.88212 & -87.64005 & 41.88911 & -87.63886 & member & 2021-12-06 & 2021-12-06 & 12 & 06 & 2021 & Monday    &   7.016667 mins\\\\\n",
       "\t4906123 & 60BB69EBF5440E92 & electric\\_bike & Canal St \\& Madison St       & Dearborn St \\& Monroe St   & 41.88196 & -87.63995 & 41.88025 & -87.62960 & member & 2021-12-02 & 2021-12-02 & 12 & 02 & 2021 & Thursday  &   8.283333 mins\\\\\n",
       "\t4906124 & C414F654A28635B8 & electric\\_bike & Lawndale Ave \\& 16th St      &                           & 41.86000 & -87.72000 & 41.85000 & -87.71000 & member & 2021-12-13 & 2021-12-13 & 12 & 13 & 2021 & Monday    &  14.216667 mins\\\\\n",
       "\t4906125 & 37AC57E34B2E7E97 & classic\\_bike  & Michigan Ave \\& Jackson Blvd & Dearborn St \\& Monroe St   & 41.87785 & -87.62408 & 41.88132 & -87.62952 & member & 2021-12-13 & 2021-12-13 & 12 & 13 & 2021 & Monday    &   3.616667 mins\\\\\n",
       "\\end{tabular}\n"
      ],
      "text/markdown": [
       "\n",
       "A data.frame: 4902140 × 16\n",
       "\n",
       "| <!--/--> | ride_id &lt;chr&gt; | rideable_type &lt;chr&gt; | start_station_name &lt;chr&gt; | end_station_name &lt;chr&gt; | start_lat &lt;dbl&gt; | start_lng &lt;dbl&gt; | end_lat &lt;dbl&gt; | end_lng &lt;dbl&gt; | member_casual &lt;chr&gt; | start_date &lt;date&gt; | end_date &lt;date&gt; | month &lt;chr&gt; | day &lt;chr&gt; | year &lt;chr&gt; | day_of_week &lt;ord&gt; | duration &lt;drtn&gt; |\n",
       "|---|---|---|---|---|---|---|---|---|---|---|---|---|---|---|---|---|\n",
       "| 1 | E19E6F1B8D4C42ED | electric_bike | California Ave &amp; Cortez St   | <!----> | 41.90034 | -87.69674 | 41.89000 | -87.72000 | member | 2021-01-23 | 2021-01-23 | 01 | 23 | 2021 | Saturday  | 10.4166667 mins |\n",
       "| 2 | DC88F20C2C55F27F | electric_bike | California Ave &amp; Cortez St   | <!----> | 41.90033 | -87.69671 | 41.90000 | -87.69000 | member | 2021-01-27 | 2021-01-27 | 01 | 27 | 2021 | Wednesday |  4.0666667 mins |\n",
       "| 3 | EC45C94683FE3F27 | electric_bike | California Ave &amp; Cortez St   | <!----> | 41.90031 | -87.69664 | 41.90000 | -87.70000 | member | 2021-01-21 | 2021-01-21 | 01 | 21 | 2021 | Thursday  |  1.3333333 mins |\n",
       "| 4 | 4FA453A75AE377DB | electric_bike | California Ave &amp; Cortez St   | <!----> | 41.90040 | -87.69666 | 41.92000 | -87.69000 | member | 2021-01-07 | 2021-01-07 | 01 | 07 | 2021 | Thursday  | 11.7000000 mins |\n",
       "| 5 | BE5E8EB4E7263A0B | electric_bike | California Ave &amp; Cortez St   | <!----> | 41.90033 | -87.69670 | 41.90000 | -87.70000 | casual | 2021-01-23 | 2021-01-23 | 01 | 23 | 2021 | Saturday  |  0.7166667 mins |\n",
       "| 6 | 5D8969F88C773979 | electric_bike | California Ave &amp; Cortez St   | <!----> | 41.90041 | -87.69676 | 41.94000 | -87.71000 | casual | 2021-01-09 | 2021-01-09 | 01 | 09 | 2021 | Saturday  | 53.7833333 mins |\n",
       "| 7 | 09275CC10F854E9E | electric_bike | California Ave &amp; Cortez St   | <!----> | 41.90039 | -87.69676 | 41.90000 | -87.71000 | member | 2021-01-04 | 2021-01-04 | 01 | 04 | 2021 | Monday    |  5.5833333 mins |\n",
       "| 8 | DF7A32A217AEFB14 | electric_bike | California Ave &amp; Cortez St   | <!----> | 41.90039 | -87.69673 | 41.91000 | -87.70000 | member | 2021-01-14 | 2021-01-14 | 01 | 14 | 2021 | Thursday  |  6.6666667 mins |\n",
       "| 9 | C2EFC62379EB716C | electric_bike | California Ave &amp; Cortez St   | <!----> | 41.90031 | -87.69680 | 41.90000 | -87.70000 | member | 2021-01-09 | 2021-01-09 | 01 | 09 | 2021 | Saturday  |  2.5166667 mins |\n",
       "| 10 | B9F73448DFBE0D45 | classic_bike  | California Ave &amp; Cortez St   | Wood St &amp; Augusta Blvd          | 41.90036 | -87.69670 | 41.89918 | -87.67220 | member | 2021-01-24 | 2021-01-24 | 01 | 24 | 2021 | Sunday    |  7.2166667 mins |\n",
       "| 11 | 457C7F4B5D3DA135 | electric_bike | California Ave &amp; Cortez St   | California Ave &amp; North Ave      | 41.90041 | -87.69673 | 41.91044 | -87.69689 | member | 2021-01-23 | 2021-01-23 | 01 | 23 | 2021 | Saturday  |  4.5333333 mins |\n",
       "| 12 | 57C750326F9FDABE | electric_bike | California Ave &amp; Cortez St   | Wood St &amp; Augusta Blvd          | 41.90037 | -87.69669 | 41.89918 | -87.67218 | casual | 2021-01-09 | 2021-01-09 | 01 | 09 | 2021 | Saturday  |  9.7833333 mins |\n",
       "| 13 | 4D518C65E338D070 | electric_bike | California Ave &amp; Cortez St   | Wood St &amp; Augusta Blvd          | 41.90038 | -87.69672 | 41.89915 | -87.67218 | casual | 2021-01-09 | 2021-01-09 | 01 | 09 | 2021 | Saturday  |  8.9500000 mins |\n",
       "| 14 | 9D08A3AFF410474D | classic_bike  | California Ave &amp; Cortez St   | Wood St &amp; Augusta Blvd          | 41.90036 | -87.69670 | 41.89918 | -87.67220 | casual | 2021-01-24 | 2021-01-24 | 01 | 24 | 2021 | Sunday    | 10.1500000 mins |\n",
       "| 15 | 49FCE1F8598F12C6 | electric_bike | California Ave &amp; Cortez St   | Wells St &amp; Elm St               | 41.90037 | -87.69679 | 41.90327 | -87.63446 | member | 2021-01-22 | 2021-01-22 | 01 | 22 | 2021 | Friday    | 20.5500000 mins |\n",
       "| 16 | 0FEED5C2C8749A1C | classic_bike  | California Ave &amp; Cortez St   | Sacramento Blvd &amp; Franklin Blvd | 41.90036 | -87.69670 | 41.89047 | -87.70261 | member | 2021-01-05 | 2021-01-05 | 01 | 05 | 2021 | Tuesday   |  6.0000000 mins |\n",
       "| 17 | E276FD43BDED6420 | classic_bike  | California Ave &amp; Cortez St   | Western Ave &amp; Walton St         | 41.90036 | -87.69670 | 41.89842 | -87.68660 | member | 2021-01-30 | 2021-01-30 | 01 | 30 | 2021 | Saturday  |  4.4666667 mins |\n",
       "| 18 | 88BFCF66C2D585EC | electric_bike | California Ave &amp; Cortez St   | Damen Ave &amp; Clybourn Ave        | 41.90031 | -87.69679 | 41.93184 | -87.67781 | member | 2021-01-27 | 2021-01-27 | 01 | 27 | 2021 | Wednesday | 18.3833333 mins |\n",
       "| 19 | 8BD6F6510F5C8BD2 | electric_bike | California Ave &amp; Cortez St   | Damen Ave &amp; Clybourn Ave        | 41.90036 | -87.69663 | 41.93192 | -87.67786 | member | 2021-01-15 | 2021-01-15 | 01 | 15 | 2021 | Friday    | 17.0833333 mins |\n",
       "| 20 | 84F11CC620F83254 | electric_bike | California Ave &amp; Cortez St   | Leavitt St &amp; North Ave          | 41.90040 | -87.69671 | 41.91012 | -87.68240 | casual | 2021-01-10 | 2021-01-10 | 01 | 10 | 2021 | Sunday    |  7.6166667 mins |\n",
       "| 21 | C84E5DD4D74F4FC0 | electric_bike | California Ave &amp; Cortez St   | Leavitt St &amp; North Ave          | 41.90041 | -87.69671 | 41.91015 | -87.68246 | casual | 2021-01-18 | 2021-01-18 | 01 | 18 | 2021 | Monday    |  7.2000000 mins |\n",
       "| 22 | 00AEF8EE4622147F | electric_bike | California Ave &amp; Cortez St   | Leavitt St &amp; North Ave          | 41.90041 | -87.69685 | 41.91013 | -87.68244 | casual | 2021-01-07 | 2021-01-07 | 01 | 07 | 2021 | Thursday  |  7.5000000 mins |\n",
       "| 23 | 55DAB9E709B61EA5 | classic_bike  | California Ave &amp; Cortez St   | Leavitt St &amp; North Ave          | 41.90036 | -87.69670 | 41.91051 | -87.68239 | casual | 2021-01-11 | 2021-01-11 | 01 | 11 | 2021 | Monday    |  8.9166667 mins |\n",
       "| 24 | 3E41D6E4EFE87DD9 | classic_bike  | California Ave &amp; Cortez St   | Honore St &amp; Division St         | 41.90036 | -87.69670 | 41.90312 | -87.67394 | casual | 2021-01-22 | 2021-01-22 | 01 | 22 | 2021 | Friday    | 10.2000000 mins |\n",
       "| 25 | FCE0D29EB2DF84DA | electric_bike | California Ave &amp; Cortez St   | Ogden Ave &amp; Chicago Ave         | 41.90031 | -87.69683 | 41.89636 | -87.65421 | casual | 2021-01-16 | 2021-01-16 | 01 | 16 | 2021 | Saturday  | 14.6000000 mins |\n",
       "| 26 | 77E53236C1F0EA3F | classic_bike  | Halsted St &amp; North Branch St | Southport Ave &amp; Clark St        | 41.89937 | -87.64848 | 41.95708 | -87.66420 | member | 2021-01-28 | 2021-01-28 | 01 | 28 | 2021 | Thursday  | 30.6000000 mins |\n",
       "| 27 | 72335684BF7A0943 | electric_bike | Halsted St &amp; North Branch St | Bissell St &amp; Armitage Ave       | 41.89936 | -87.64849 | 41.91799 | -87.65250 | member | 2021-01-09 | 2021-01-09 | 01 | 09 | 2021 | Saturday  |  8.0000000 mins |\n",
       "| 28 | 625DDA8DCCCCB3E2 | classic_bike  | Glenwood Ave &amp; Touhy Ave     | Broadway &amp; Granville Ave        | 42.01270 | -87.66606 | 41.99478 | -87.66028 | member | 2021-01-17 | 2021-01-17 | 01 | 17 | 2021 | Sunday    | 12.9500000 mins |\n",
       "| 29 | 61C6977EA354684C | electric_bike | Halsted St &amp; North Branch St | Clark St &amp; Lincoln Ave          | 41.89933 | -87.64847 | 41.91576 | -87.63480 | member | 2021-01-25 | 2021-01-25 | 01 | 25 | 2021 | Monday    | 12.2833333 mins |\n",
       "| 30 | 07F1F6A27AB0436E | classic_bike  | California Ave &amp; Cortez St   | California Ave &amp; Division St    | 41.90036 | -87.69670 | 41.90303 | -87.69747 | member | 2021-01-11 | 2021-01-11 | 01 | 11 | 2021 | Monday    |  2.7500000 mins |\n",
       "| ⋮ | ⋮ | ⋮ | ⋮ | ⋮ | ⋮ | ⋮ | ⋮ | ⋮ | ⋮ | ⋮ | ⋮ | ⋮ | ⋮ | ⋮ | ⋮ | ⋮ |\n",
       "| 4906096 | F344A84798B09A79 | electric_bike | Wilton Ave &amp; Belmont Ave    | <!----> | 41.94003 | -87.65300 | 41.93000 | -87.64000 | casual | 2021-12-17 | 2021-12-17 | 12 | 17 | 2021 | Friday    |   5.383333 mins |\n",
       "| 4906097 | 0E0200872CDBBFAE | electric_bike | Wilton Ave &amp; Belmont Ave    | <!----> | 41.94003 | -87.65297 | 41.94000 | -87.64000 | casual | 2021-12-04 | 2021-12-04 | 12 | 04 | 2021 | Saturday  |  23.266667 mins |\n",
       "| 4906098 | 45C4CCCB83148DE5 | classic_bike  | Wells St &amp; Huron St         | Wells St &amp; Walton St      | 41.89472 | -87.63436 | 41.89993 | -87.63443 | casual | 2021-12-07 | 2021-12-07 | 12 | 07 | 2021 | Tuesday   |   6.533333 mins |\n",
       "| 4906099 | 95E57D31AD70E703 | electric_bike | Wells St &amp; Huron St         | <!----> | 41.89457 | -87.63461 | 41.88000 | -87.63000 | casual | 2021-12-01 | 2021-12-01 | 12 | 01 | 2021 | Wednesday |   4.966667 mins |\n",
       "| 4906100 | 0094100CF0CD2769 | electric_bike | Wilton Ave &amp; Belmont Ave    | <!----> | 41.94010 | -87.65299 | 41.93000 | -87.72000 | casual | 2021-12-05 | 2021-12-05 | 12 | 05 | 2021 | Sunday    |  17.250000 mins |\n",
       "| 4906101 | F7864025BA958AF5 | electric_bike | Wilton Ave &amp; Belmont Ave    | <!----> | 41.94016 | -87.65301 | 41.94000 | -87.64000 | casual | 2021-12-10 | 2021-12-10 | 12 | 10 | 2021 | Friday    |   5.083333 mins |\n",
       "| 4906102 | 1F79B0418779E2DE | classic_bike  | Wells St &amp; Huron St         | Kingsbury St &amp; Kinzie St  | 41.89472 | -87.63436 | 41.88918 | -87.63851 | casual | 2021-12-01 | 2021-12-01 | 12 | 01 | 2021 | Wednesday |   5.683333 mins |\n",
       "| 4906103 | F31F03B7185D396E | electric_bike | Wells St &amp; Huron St         | Orleans St &amp; Elm St       | 41.89495 | -87.63443 | 41.90292 | -87.63772 | casual | 2021-12-11 | 2021-12-11 | 12 | 11 | 2021 | Saturday  |   3.416667 mins |\n",
       "| 4906104 | 073BDECDD8CEEB7F | classic_bike  | Wells St &amp; Huron St         | Wells St &amp; Walton St      | 41.89472 | -87.63436 | 41.89993 | -87.63443 | casual | 2021-12-06 | 2021-12-06 | 12 | 06 | 2021 | Monday    |   3.266667 mins |\n",
       "| 4906105 | 49AF82E5088F94B6 | electric_bike | Kedzie Ave &amp; Chicago Ave    | <!----> | 41.89552 | -87.70612 | 41.91000 | -87.70000 | casual | 2021-12-21 | 2021-12-21 | 12 | 21 | 2021 | Tuesday   |   8.033333 mins |\n",
       "| 4906106 | 0B6BF6DCAF114614 | electric_bike | Kedzie Ave &amp; Chicago Ave    | <!----> | 41.89552 | -87.70621 | 41.90000 | -87.71000 | casual | 2021-12-08 | 2021-12-08 | 12 | 08 | 2021 | Wednesday |   5.350000 mins |\n",
       "| 4906107 | 3F1F16FAACA6C161 | electric_bike | Leavitt St &amp; Chicago Ave    | <!----> | 41.89550 | -87.68208 | 41.95000 | -87.69000 | casual | 2021-12-03 | 2021-12-03 | 12 | 03 | 2021 | Friday    |  23.866667 mins |\n",
       "| 4906108 | 6CD3256DC7D49217 | electric_bike | Princeton Ave &amp; 47th St     | <!----> | 41.80932 | -87.63350 | 41.81000 | -87.66000 | casual | 2021-12-02 | 2021-12-02 | 12 | 02 | 2021 | Thursday  |  11.533333 mins |\n",
       "| 4906109 | F0132FA06DAF06DA | electric_bike | Wilton Ave &amp; Belmont Ave    | <!----> | 41.94009 | -87.65301 | 41.94000 | -87.67000 | casual | 2021-12-08 | 2021-12-08 | 12 | 08 | 2021 | Wednesday |   5.466667 mins |\n",
       "| 4906110 | A67059D361ACC221 | electric_bike | Wells St &amp; Huron St         | <!----> | 41.89490 | -87.63443 | 41.87000 | -87.62000 | casual | 2021-12-05 | 2021-12-05 | 12 | 05 | 2021 | Sunday    |  21.700000 mins |\n",
       "| 4906111 | 7A19E60E84CE4625 | electric_bike | Wilton Ave &amp; Belmont Ave    | <!----> | 41.94009 | -87.65299 | 41.93000 | -87.64000 | casual | 2021-12-16 | 2021-12-16 | 12 | 16 | 2021 | Thursday  |   6.500000 mins |\n",
       "| 4906112 | B449D8E59AE2B4E2 | electric_bike | Wilton Ave &amp; Belmont Ave    | <!----> | 41.94006 | -87.65297 | 41.93000 | -87.64000 | casual | 2021-12-16 | 2021-12-16 | 12 | 16 | 2021 | Thursday  |   5.216667 mins |\n",
       "| 4906113 | 46B23DFEAC1499DF | classic_bike  | Wilton Ave &amp; Belmont Ave    | Clark St &amp; Grace St       | 41.94018 | -87.65304 | 41.95078 | -87.65917 | member | 2021-12-15 | 2021-12-15 | 12 | 15 | 2021 | Wednesday |   5.383333 mins |\n",
       "| 4906114 | E06135F650553F21 | electric_bike | Canal St &amp; Madison St       | Desplaines St &amp; Kinzie St | 41.88137 | -87.64004 | 41.88846 | -87.64434 | casual | 2021-12-07 | 2021-12-07 | 12 | 07 | 2021 | Tuesday   |   4.666667 mins |\n",
       "| 4906115 | 2FA526ED0D5989F0 | electric_bike | Canal St &amp; Madison St       | <!----> | 41.88255 | -87.63970 | 41.90000 | -87.62000 | casual | 2021-12-02 | 2021-12-02 | 12 | 02 | 2021 | Thursday  |  22.116667 mins |\n",
       "| 4906116 | 46C3F13E9342A2C9 | electric_bike | Halsted St &amp; 96th St        | <!----> | 41.71972 | -87.64286 | 41.73000 | -87.64000 | casual | 2021-12-03 | 2021-12-03 | 12 | 03 | 2021 | Friday    |   5.700000 mins |\n",
       "| 4906117 | 08E5EC2EC583D230 | electric_bike | Canal St &amp; Madison St       | <!----> | 41.88200 | -87.63946 | 41.89000 | -87.62000 | casual | 2021-12-17 | 2021-12-17 | 12 | 17 | 2021 | Friday    |   7.966667 mins |\n",
       "| 4906118 | 8DF0DBB049906332 | electric_bike | Canal St &amp; Madison St       | Desplaines St &amp; Kinzie St | 41.88200 | -87.63927 | 41.88842 | -87.64434 | casual | 2021-12-01 | 2021-12-01 | 12 | 01 | 2021 | Wednesday |   4.433333 mins |\n",
       "| 4906119 | DFE48801A70DFEA7 | electric_bike | Canal St &amp; Madison St       | <!----> | 41.88220 | -87.63923 | 41.88000 | -87.65000 | casual | 2021-12-23 | 2021-12-23 | 12 | 23 | 2021 | Thursday  |   7.766667 mins |\n",
       "| 4906120 | 92BBAB97D1683D69 | electric_bike | Canal St &amp; Madison St       | <!----> | 41.88180 | -87.63997 | 41.88000 | -87.64000 | casual | 2021-12-24 | 2021-12-24 | 12 | 24 | 2021 | Friday    | 227.433333 mins |\n",
       "| 4906121 | 847431F3D5353AB7 | electric_bike | Canal St &amp; Madison St       | <!----> | 41.88229 | -87.63975 | 41.89000 | -87.61000 | casual | 2021-12-12 | 2021-12-12 | 12 | 12 | 2021 | Sunday    |  19.216667 mins |\n",
       "| 4906122 | CF407BBC3B9FAD63 | electric_bike | Canal St &amp; Madison St       | Kingsbury St &amp; Kinzie St  | 41.88212 | -87.64005 | 41.88911 | -87.63886 | member | 2021-12-06 | 2021-12-06 | 12 | 06 | 2021 | Monday    |   7.016667 mins |\n",
       "| 4906123 | 60BB69EBF5440E92 | electric_bike | Canal St &amp; Madison St       | Dearborn St &amp; Monroe St   | 41.88196 | -87.63995 | 41.88025 | -87.62960 | member | 2021-12-02 | 2021-12-02 | 12 | 02 | 2021 | Thursday  |   8.283333 mins |\n",
       "| 4906124 | C414F654A28635B8 | electric_bike | Lawndale Ave &amp; 16th St      | <!----> | 41.86000 | -87.72000 | 41.85000 | -87.71000 | member | 2021-12-13 | 2021-12-13 | 12 | 13 | 2021 | Monday    |  14.216667 mins |\n",
       "| 4906125 | 37AC57E34B2E7E97 | classic_bike  | Michigan Ave &amp; Jackson Blvd | Dearborn St &amp; Monroe St   | 41.87785 | -87.62408 | 41.88132 | -87.62952 | member | 2021-12-13 | 2021-12-13 | 12 | 13 | 2021 | Monday    |   3.616667 mins |\n",
       "\n"
      ],
      "text/plain": [
       "        ride_id          rideable_type start_station_name          \n",
       "1       E19E6F1B8D4C42ED electric_bike California Ave & Cortez St  \n",
       "2       DC88F20C2C55F27F electric_bike California Ave & Cortez St  \n",
       "3       EC45C94683FE3F27 electric_bike California Ave & Cortez St  \n",
       "4       4FA453A75AE377DB electric_bike California Ave & Cortez St  \n",
       "5       BE5E8EB4E7263A0B electric_bike California Ave & Cortez St  \n",
       "6       5D8969F88C773979 electric_bike California Ave & Cortez St  \n",
       "7       09275CC10F854E9E electric_bike California Ave & Cortez St  \n",
       "8       DF7A32A217AEFB14 electric_bike California Ave & Cortez St  \n",
       "9       C2EFC62379EB716C electric_bike California Ave & Cortez St  \n",
       "10      B9F73448DFBE0D45 classic_bike  California Ave & Cortez St  \n",
       "11      457C7F4B5D3DA135 electric_bike California Ave & Cortez St  \n",
       "12      57C750326F9FDABE electric_bike California Ave & Cortez St  \n",
       "13      4D518C65E338D070 electric_bike California Ave & Cortez St  \n",
       "14      9D08A3AFF410474D classic_bike  California Ave & Cortez St  \n",
       "15      49FCE1F8598F12C6 electric_bike California Ave & Cortez St  \n",
       "16      0FEED5C2C8749A1C classic_bike  California Ave & Cortez St  \n",
       "17      E276FD43BDED6420 classic_bike  California Ave & Cortez St  \n",
       "18      88BFCF66C2D585EC electric_bike California Ave & Cortez St  \n",
       "19      8BD6F6510F5C8BD2 electric_bike California Ave & Cortez St  \n",
       "20      84F11CC620F83254 electric_bike California Ave & Cortez St  \n",
       "21      C84E5DD4D74F4FC0 electric_bike California Ave & Cortez St  \n",
       "22      00AEF8EE4622147F electric_bike California Ave & Cortez St  \n",
       "23      55DAB9E709B61EA5 classic_bike  California Ave & Cortez St  \n",
       "24      3E41D6E4EFE87DD9 classic_bike  California Ave & Cortez St  \n",
       "25      FCE0D29EB2DF84DA electric_bike California Ave & Cortez St  \n",
       "26      77E53236C1F0EA3F classic_bike  Halsted St & North Branch St\n",
       "27      72335684BF7A0943 electric_bike Halsted St & North Branch St\n",
       "28      625DDA8DCCCCB3E2 classic_bike  Glenwood Ave & Touhy Ave    \n",
       "29      61C6977EA354684C electric_bike Halsted St & North Branch St\n",
       "30      07F1F6A27AB0436E classic_bike  California Ave & Cortez St  \n",
       "⋮       ⋮                ⋮             ⋮                           \n",
       "4906096 F344A84798B09A79 electric_bike Wilton Ave & Belmont Ave    \n",
       "4906097 0E0200872CDBBFAE electric_bike Wilton Ave & Belmont Ave    \n",
       "4906098 45C4CCCB83148DE5 classic_bike  Wells St & Huron St         \n",
       "4906099 95E57D31AD70E703 electric_bike Wells St & Huron St         \n",
       "4906100 0094100CF0CD2769 electric_bike Wilton Ave & Belmont Ave    \n",
       "4906101 F7864025BA958AF5 electric_bike Wilton Ave & Belmont Ave    \n",
       "4906102 1F79B0418779E2DE classic_bike  Wells St & Huron St         \n",
       "4906103 F31F03B7185D396E electric_bike Wells St & Huron St         \n",
       "4906104 073BDECDD8CEEB7F classic_bike  Wells St & Huron St         \n",
       "4906105 49AF82E5088F94B6 electric_bike Kedzie Ave & Chicago Ave    \n",
       "4906106 0B6BF6DCAF114614 electric_bike Kedzie Ave & Chicago Ave    \n",
       "4906107 3F1F16FAACA6C161 electric_bike Leavitt St & Chicago Ave    \n",
       "4906108 6CD3256DC7D49217 electric_bike Princeton Ave & 47th St     \n",
       "4906109 F0132FA06DAF06DA electric_bike Wilton Ave & Belmont Ave    \n",
       "4906110 A67059D361ACC221 electric_bike Wells St & Huron St         \n",
       "4906111 7A19E60E84CE4625 electric_bike Wilton Ave & Belmont Ave    \n",
       "4906112 B449D8E59AE2B4E2 electric_bike Wilton Ave & Belmont Ave    \n",
       "4906113 46B23DFEAC1499DF classic_bike  Wilton Ave & Belmont Ave    \n",
       "4906114 E06135F650553F21 electric_bike Canal St & Madison St       \n",
       "4906115 2FA526ED0D5989F0 electric_bike Canal St & Madison St       \n",
       "4906116 46C3F13E9342A2C9 electric_bike Halsted St & 96th St        \n",
       "4906117 08E5EC2EC583D230 electric_bike Canal St & Madison St       \n",
       "4906118 8DF0DBB049906332 electric_bike Canal St & Madison St       \n",
       "4906119 DFE48801A70DFEA7 electric_bike Canal St & Madison St       \n",
       "4906120 92BBAB97D1683D69 electric_bike Canal St & Madison St       \n",
       "4906121 847431F3D5353AB7 electric_bike Canal St & Madison St       \n",
       "4906122 CF407BBC3B9FAD63 electric_bike Canal St & Madison St       \n",
       "4906123 60BB69EBF5440E92 electric_bike Canal St & Madison St       \n",
       "4906124 C414F654A28635B8 electric_bike Lawndale Ave & 16th St      \n",
       "4906125 37AC57E34B2E7E97 classic_bike  Michigan Ave & Jackson Blvd \n",
       "        end_station_name                start_lat start_lng end_lat  end_lng  \n",
       "1                                       41.90034  -87.69674 41.89000 -87.72000\n",
       "2                                       41.90033  -87.69671 41.90000 -87.69000\n",
       "3                                       41.90031  -87.69664 41.90000 -87.70000\n",
       "4                                       41.90040  -87.69666 41.92000 -87.69000\n",
       "5                                       41.90033  -87.69670 41.90000 -87.70000\n",
       "6                                       41.90041  -87.69676 41.94000 -87.71000\n",
       "7                                       41.90039  -87.69676 41.90000 -87.71000\n",
       "8                                       41.90039  -87.69673 41.91000 -87.70000\n",
       "9                                       41.90031  -87.69680 41.90000 -87.70000\n",
       "10      Wood St & Augusta Blvd          41.90036  -87.69670 41.89918 -87.67220\n",
       "11      California Ave & North Ave      41.90041  -87.69673 41.91044 -87.69689\n",
       "12      Wood St & Augusta Blvd          41.90037  -87.69669 41.89918 -87.67218\n",
       "13      Wood St & Augusta Blvd          41.90038  -87.69672 41.89915 -87.67218\n",
       "14      Wood St & Augusta Blvd          41.90036  -87.69670 41.89918 -87.67220\n",
       "15      Wells St & Elm St               41.90037  -87.69679 41.90327 -87.63446\n",
       "16      Sacramento Blvd & Franklin Blvd 41.90036  -87.69670 41.89047 -87.70261\n",
       "17      Western Ave & Walton St         41.90036  -87.69670 41.89842 -87.68660\n",
       "18      Damen Ave & Clybourn Ave        41.90031  -87.69679 41.93184 -87.67781\n",
       "19      Damen Ave & Clybourn Ave        41.90036  -87.69663 41.93192 -87.67786\n",
       "20      Leavitt St & North Ave          41.90040  -87.69671 41.91012 -87.68240\n",
       "21      Leavitt St & North Ave          41.90041  -87.69671 41.91015 -87.68246\n",
       "22      Leavitt St & North Ave          41.90041  -87.69685 41.91013 -87.68244\n",
       "23      Leavitt St & North Ave          41.90036  -87.69670 41.91051 -87.68239\n",
       "24      Honore St & Division St         41.90036  -87.69670 41.90312 -87.67394\n",
       "25      Ogden Ave & Chicago Ave         41.90031  -87.69683 41.89636 -87.65421\n",
       "26      Southport Ave & Clark St        41.89937  -87.64848 41.95708 -87.66420\n",
       "27      Bissell St & Armitage Ave       41.89936  -87.64849 41.91799 -87.65250\n",
       "28      Broadway & Granville Ave        42.01270  -87.66606 41.99478 -87.66028\n",
       "29      Clark St & Lincoln Ave          41.89933  -87.64847 41.91576 -87.63480\n",
       "30      California Ave & Division St    41.90036  -87.69670 41.90303 -87.69747\n",
       "⋮       ⋮                               ⋮         ⋮         ⋮        ⋮        \n",
       "4906096                                 41.94003  -87.65300 41.93000 -87.64000\n",
       "4906097                                 41.94003  -87.65297 41.94000 -87.64000\n",
       "4906098 Wells St & Walton St            41.89472  -87.63436 41.89993 -87.63443\n",
       "4906099                                 41.89457  -87.63461 41.88000 -87.63000\n",
       "4906100                                 41.94010  -87.65299 41.93000 -87.72000\n",
       "4906101                                 41.94016  -87.65301 41.94000 -87.64000\n",
       "4906102 Kingsbury St & Kinzie St        41.89472  -87.63436 41.88918 -87.63851\n",
       "4906103 Orleans St & Elm St             41.89495  -87.63443 41.90292 -87.63772\n",
       "4906104 Wells St & Walton St            41.89472  -87.63436 41.89993 -87.63443\n",
       "4906105                                 41.89552  -87.70612 41.91000 -87.70000\n",
       "4906106                                 41.89552  -87.70621 41.90000 -87.71000\n",
       "4906107                                 41.89550  -87.68208 41.95000 -87.69000\n",
       "4906108                                 41.80932  -87.63350 41.81000 -87.66000\n",
       "4906109                                 41.94009  -87.65301 41.94000 -87.67000\n",
       "4906110                                 41.89490  -87.63443 41.87000 -87.62000\n",
       "4906111                                 41.94009  -87.65299 41.93000 -87.64000\n",
       "4906112                                 41.94006  -87.65297 41.93000 -87.64000\n",
       "4906113 Clark St & Grace St             41.94018  -87.65304 41.95078 -87.65917\n",
       "4906114 Desplaines St & Kinzie St       41.88137  -87.64004 41.88846 -87.64434\n",
       "4906115                                 41.88255  -87.63970 41.90000 -87.62000\n",
       "4906116                                 41.71972  -87.64286 41.73000 -87.64000\n",
       "4906117                                 41.88200  -87.63946 41.89000 -87.62000\n",
       "4906118 Desplaines St & Kinzie St       41.88200  -87.63927 41.88842 -87.64434\n",
       "4906119                                 41.88220  -87.63923 41.88000 -87.65000\n",
       "4906120                                 41.88180  -87.63997 41.88000 -87.64000\n",
       "4906121                                 41.88229  -87.63975 41.89000 -87.61000\n",
       "4906122 Kingsbury St & Kinzie St        41.88212  -87.64005 41.88911 -87.63886\n",
       "4906123 Dearborn St & Monroe St         41.88196  -87.63995 41.88025 -87.62960\n",
       "4906124                                 41.86000  -87.72000 41.85000 -87.71000\n",
       "4906125 Dearborn St & Monroe St         41.87785  -87.62408 41.88132 -87.62952\n",
       "        member_casual start_date end_date   month day year day_of_week\n",
       "1       member        2021-01-23 2021-01-23 01    23  2021 Saturday   \n",
       "2       member        2021-01-27 2021-01-27 01    27  2021 Wednesday  \n",
       "3       member        2021-01-21 2021-01-21 01    21  2021 Thursday   \n",
       "4       member        2021-01-07 2021-01-07 01    07  2021 Thursday   \n",
       "5       casual        2021-01-23 2021-01-23 01    23  2021 Saturday   \n",
       "6       casual        2021-01-09 2021-01-09 01    09  2021 Saturday   \n",
       "7       member        2021-01-04 2021-01-04 01    04  2021 Monday     \n",
       "8       member        2021-01-14 2021-01-14 01    14  2021 Thursday   \n",
       "9       member        2021-01-09 2021-01-09 01    09  2021 Saturday   \n",
       "10      member        2021-01-24 2021-01-24 01    24  2021 Sunday     \n",
       "11      member        2021-01-23 2021-01-23 01    23  2021 Saturday   \n",
       "12      casual        2021-01-09 2021-01-09 01    09  2021 Saturday   \n",
       "13      casual        2021-01-09 2021-01-09 01    09  2021 Saturday   \n",
       "14      casual        2021-01-24 2021-01-24 01    24  2021 Sunday     \n",
       "15      member        2021-01-22 2021-01-22 01    22  2021 Friday     \n",
       "16      member        2021-01-05 2021-01-05 01    05  2021 Tuesday    \n",
       "17      member        2021-01-30 2021-01-30 01    30  2021 Saturday   \n",
       "18      member        2021-01-27 2021-01-27 01    27  2021 Wednesday  \n",
       "19      member        2021-01-15 2021-01-15 01    15  2021 Friday     \n",
       "20      casual        2021-01-10 2021-01-10 01    10  2021 Sunday     \n",
       "21      casual        2021-01-18 2021-01-18 01    18  2021 Monday     \n",
       "22      casual        2021-01-07 2021-01-07 01    07  2021 Thursday   \n",
       "23      casual        2021-01-11 2021-01-11 01    11  2021 Monday     \n",
       "24      casual        2021-01-22 2021-01-22 01    22  2021 Friday     \n",
       "25      casual        2021-01-16 2021-01-16 01    16  2021 Saturday   \n",
       "26      member        2021-01-28 2021-01-28 01    28  2021 Thursday   \n",
       "27      member        2021-01-09 2021-01-09 01    09  2021 Saturday   \n",
       "28      member        2021-01-17 2021-01-17 01    17  2021 Sunday     \n",
       "29      member        2021-01-25 2021-01-25 01    25  2021 Monday     \n",
       "30      member        2021-01-11 2021-01-11 01    11  2021 Monday     \n",
       "⋮       ⋮             ⋮          ⋮          ⋮     ⋮   ⋮    ⋮          \n",
       "4906096 casual        2021-12-17 2021-12-17 12    17  2021 Friday     \n",
       "4906097 casual        2021-12-04 2021-12-04 12    04  2021 Saturday   \n",
       "4906098 casual        2021-12-07 2021-12-07 12    07  2021 Tuesday    \n",
       "4906099 casual        2021-12-01 2021-12-01 12    01  2021 Wednesday  \n",
       "4906100 casual        2021-12-05 2021-12-05 12    05  2021 Sunday     \n",
       "4906101 casual        2021-12-10 2021-12-10 12    10  2021 Friday     \n",
       "4906102 casual        2021-12-01 2021-12-01 12    01  2021 Wednesday  \n",
       "4906103 casual        2021-12-11 2021-12-11 12    11  2021 Saturday   \n",
       "4906104 casual        2021-12-06 2021-12-06 12    06  2021 Monday     \n",
       "4906105 casual        2021-12-21 2021-12-21 12    21  2021 Tuesday    \n",
       "4906106 casual        2021-12-08 2021-12-08 12    08  2021 Wednesday  \n",
       "4906107 casual        2021-12-03 2021-12-03 12    03  2021 Friday     \n",
       "4906108 casual        2021-12-02 2021-12-02 12    02  2021 Thursday   \n",
       "4906109 casual        2021-12-08 2021-12-08 12    08  2021 Wednesday  \n",
       "4906110 casual        2021-12-05 2021-12-05 12    05  2021 Sunday     \n",
       "4906111 casual        2021-12-16 2021-12-16 12    16  2021 Thursday   \n",
       "4906112 casual        2021-12-16 2021-12-16 12    16  2021 Thursday   \n",
       "4906113 member        2021-12-15 2021-12-15 12    15  2021 Wednesday  \n",
       "4906114 casual        2021-12-07 2021-12-07 12    07  2021 Tuesday    \n",
       "4906115 casual        2021-12-02 2021-12-02 12    02  2021 Thursday   \n",
       "4906116 casual        2021-12-03 2021-12-03 12    03  2021 Friday     \n",
       "4906117 casual        2021-12-17 2021-12-17 12    17  2021 Friday     \n",
       "4906118 casual        2021-12-01 2021-12-01 12    01  2021 Wednesday  \n",
       "4906119 casual        2021-12-23 2021-12-23 12    23  2021 Thursday   \n",
       "4906120 casual        2021-12-24 2021-12-24 12    24  2021 Friday     \n",
       "4906121 casual        2021-12-12 2021-12-12 12    12  2021 Sunday     \n",
       "4906122 member        2021-12-06 2021-12-06 12    06  2021 Monday     \n",
       "4906123 member        2021-12-02 2021-12-02 12    02  2021 Thursday   \n",
       "4906124 member        2021-12-13 2021-12-13 12    13  2021 Monday     \n",
       "4906125 member        2021-12-13 2021-12-13 12    13  2021 Monday     \n",
       "        duration       \n",
       "1       10.4166667 mins\n",
       "2        4.0666667 mins\n",
       "3        1.3333333 mins\n",
       "4       11.7000000 mins\n",
       "5        0.7166667 mins\n",
       "6       53.7833333 mins\n",
       "7        5.5833333 mins\n",
       "8        6.6666667 mins\n",
       "9        2.5166667 mins\n",
       "10       7.2166667 mins\n",
       "11       4.5333333 mins\n",
       "12       9.7833333 mins\n",
       "13       8.9500000 mins\n",
       "14      10.1500000 mins\n",
       "15      20.5500000 mins\n",
       "16       6.0000000 mins\n",
       "17       4.4666667 mins\n",
       "18      18.3833333 mins\n",
       "19      17.0833333 mins\n",
       "20       7.6166667 mins\n",
       "21       7.2000000 mins\n",
       "22       7.5000000 mins\n",
       "23       8.9166667 mins\n",
       "24      10.2000000 mins\n",
       "25      14.6000000 mins\n",
       "26      30.6000000 mins\n",
       "27       8.0000000 mins\n",
       "28      12.9500000 mins\n",
       "29      12.2833333 mins\n",
       "30       2.7500000 mins\n",
       "⋮       ⋮              \n",
       "4906096   5.383333 mins\n",
       "4906097  23.266667 mins\n",
       "4906098   6.533333 mins\n",
       "4906099   4.966667 mins\n",
       "4906100  17.250000 mins\n",
       "4906101   5.083333 mins\n",
       "4906102   5.683333 mins\n",
       "4906103   3.416667 mins\n",
       "4906104   3.266667 mins\n",
       "4906105   8.033333 mins\n",
       "4906106   5.350000 mins\n",
       "4906107  23.866667 mins\n",
       "4906108  11.533333 mins\n",
       "4906109   5.466667 mins\n",
       "4906110  21.700000 mins\n",
       "4906111   6.500000 mins\n",
       "4906112   5.216667 mins\n",
       "4906113   5.383333 mins\n",
       "4906114   4.666667 mins\n",
       "4906115  22.116667 mins\n",
       "4906116   5.700000 mins\n",
       "4906117   7.966667 mins\n",
       "4906118   4.433333 mins\n",
       "4906119   7.766667 mins\n",
       "4906120 227.433333 mins\n",
       "4906121  19.216667 mins\n",
       "4906122   7.016667 mins\n",
       "4906123   8.283333 mins\n",
       "4906124  14.216667 mins\n",
       "4906125   3.616667 mins"
      ]
     },
     "metadata": {},
     "output_type": "display_data"
    },
    {
     "name": "stdout",
     "output_type": "stream",
     "text": [
      "'data.frame':\t4902140 obs. of  16 variables:\n",
      " $ ride_id           : chr  \"E19E6F1B8D4C42ED\" \"DC88F20C2C55F27F\" \"EC45C94683FE3F27\" \"4FA453A75AE377DB\" ...\n",
      " $ rideable_type     : chr  \"electric_bike\" \"electric_bike\" \"electric_bike\" \"electric_bike\" ...\n",
      " $ start_station_name: chr  \"California Ave & Cortez St\" \"California Ave & Cortez St\" \"California Ave & Cortez St\" \"California Ave & Cortez St\" ...\n",
      " $ end_station_name  : chr  \"\" \"\" \"\" \"\" ...\n",
      " $ start_lat         : num  41.9 41.9 41.9 41.9 41.9 ...\n",
      " $ start_lng         : num  -87.7 -87.7 -87.7 -87.7 -87.7 ...\n",
      " $ end_lat           : num  41.9 41.9 41.9 41.9 41.9 ...\n",
      " $ end_lng           : num  -87.7 -87.7 -87.7 -87.7 -87.7 ...\n",
      " $ member_casual     : chr  \"member\" \"member\" \"member\" \"member\" ...\n",
      " $ start_date        : Date, format: \"2021-01-23\" \"2021-01-27\" ...\n",
      " $ end_date          : Date, format: \"2021-01-23\" \"2021-01-27\" ...\n",
      " $ month             : chr  \"01\" \"01\" \"01\" \"01\" ...\n",
      " $ day               : chr  \"23\" \"27\" \"21\" \"07\" ...\n",
      " $ year              : chr  \"2021\" \"2021\" \"2021\" \"2021\" ...\n",
      " $ day_of_week       : Ord.factor w/ 7 levels \"Sunday\"<\"Monday\"<..: 7 4 5 5 7 7 2 5 7 1 ...\n",
      " $ duration          : 'difftime' num  10.4166666666667 4.06666666666667 1.33333333333333 11.7 ...\n",
      "  ..- attr(*, \"units\")= chr \"mins\"\n",
      " - attr(*, \"na.action\")= 'omit' Named int [1:3844] 5970 6179 6185 6229 6241 6356 6401 6521 6612 6613 ...\n",
      "  ..- attr(*, \"names\")= chr [1:3844] \"5970\" \"6179\" \"6185\" \"6229\" ...\n"
     ]
    }
   ],
   "source": [
    "View(cyclistic_2021)\n",
    "str(cyclistic_2021)"
   ]
  },
  {
   "cell_type": "markdown",
   "metadata": {
    "id": "TtDz5iGUveK7"
   },
   "source": [
    "### Analyze"
   ]
  },
  {
   "cell_type": "markdown",
   "metadata": {
    "id": "drWWPwh9vivw"
   },
   "source": [
    "In the analyze phase, we analyze the data to help achieve our business task. Thus, I have analyzed the cleaned data to further understand the behaviours and characteristics of casual riders as compared to annual members and come up with a data-driven conclusion to present to the stakeholders."
   ]
  },
  {
   "cell_type": "code",
   "execution_count": null,
   "metadata": {
    "colab": {
     "base_uri": "https://localhost:8080/",
     "height": 711
    },
    "id": "gdr3wB10Kgzu",
    "outputId": "740f1d4b-7dcd-426e-a145-4b4a06645a55"
   },
   "outputs": [
    {
     "data": {
      "text/plain": [
       "   ride_id          rideable_type      start_station_name end_station_name  \n",
       " Length:4902140     Length:4902140     Length:4902140     Length:4902140    \n",
       " Class :character   Class :character   Class :character   Class :character  \n",
       " Mode  :character   Mode  :character   Mode  :character   Mode  :character  \n",
       "                                                                            \n",
       "                                                                            \n",
       "                                                                            \n",
       "                                                                            \n",
       "   start_lat       start_lng         end_lat         end_lng      \n",
       " Min.   :41.64   Min.   :-87.84   Min.   :41.39   Min.   :-88.97  \n",
       " 1st Qu.:41.88   1st Qu.:-87.66   1st Qu.:41.88   1st Qu.:-87.66  \n",
       " Median :41.90   Median :-87.64   Median :41.90   Median :-87.64  \n",
       " Mean   :41.90   Mean   :-87.65   Mean   :41.90   Mean   :-87.65  \n",
       " 3rd Qu.:41.93   3rd Qu.:-87.63   3rd Qu.:41.93   3rd Qu.:-87.63  \n",
       " Max.   :42.07   Max.   :-87.52   Max.   :42.17   Max.   :-87.49  \n",
       "                                                                  \n",
       " member_casual        start_date            end_date         \n",
       " Length:4902140     Min.   :2021-01-01   Min.   :2021-01-01  \n",
       " Class :character   1st Qu.:2021-05-31   1st Qu.:2021-05-31  \n",
       " Mode  :character   Median :2021-07-31   Median :2021-07-31  \n",
       "                    Mean   :2021-07-28   Mean   :2021-07-28  \n",
       "                    3rd Qu.:2021-10-01   3rd Qu.:2021-10-01  \n",
       "                    Max.   :2021-12-31   Max.   :2022-01-03  \n",
       "                                                             \n",
       "    month               day                year              day_of_week    \n",
       " Length:4902140     Length:4902140     Length:4902140     Sunday   :750771  \n",
       " Class :character   Class :character   Class :character   Monday   :618092  \n",
       " Mode  :character   Mode  :character   Mode  :character   Tuesday  :650977  \n",
       "                                                          Wednesday:664731  \n",
       "                                                          Thursday :639972  \n",
       "                                                          Friday   :708652  \n",
       "                                                          Saturday :868945  \n",
       "   duration       \n",
       " Length:4902140   \n",
       " Class :difftime  \n",
       " Mode  :numeric   \n",
       "                  \n",
       "                  \n",
       "                  \n",
       "                  "
      ]
     },
     "metadata": {},
     "output_type": "display_data"
    }
   ],
   "source": [
    "summary(cyclistic_2021)"
   ]
  },
  {
   "cell_type": "markdown",
   "metadata": {
    "id": "ymI4qXESwDRZ"
   },
   "source": [
    "First, I check the average ride duration in days of riders (regardless of their type)."
   ]
  },
  {
   "cell_type": "code",
   "execution_count": null,
   "metadata": {
    "colab": {
     "base_uri": "https://localhost:8080/",
     "height": 34
    },
    "id": "jUoahSChKmWV",
    "outputId": "2ab0cc44-2574-4f1c-a817-7cf2cddb0d4e"
   },
   "outputs": [
    {
     "data": {
      "text/plain": [
       "Time difference of 0.007954893 days"
      ]
     },
     "metadata": {},
     "output_type": "display_data"
    }
   ],
   "source": [
    "mean(cyclistic_2021$end_date - cyclistic_2021$start_date)"
   ]
  },
  {
   "cell_type": "markdown",
   "metadata": {
    "id": "0WoDeM0uwMmL"
   },
   "source": [
    "Next, I aggregate the data between ride frequency and membership type to further understand the differences between the casual and annual riders"
   ]
  },
  {
   "cell_type": "markdown",
   "metadata": {
    "id": "jWNbrRZnwMta"
   },
   "source": [
    "#### Aggregation of Ride Frequency vs Membership Type"
   ]
  },
  {
   "cell_type": "code",
   "execution_count": null,
   "metadata": {
    "colab": {
     "base_uri": "https://localhost:8080/",
     "height": 1000
    },
    "id": "0joATFEfMFdG",
    "outputId": "efd59587-6a8f-4b29-c785-57f2327f1ea5"
   },
   "outputs": [
    {
     "data": {
      "text/html": [
       "<table class=\"dataframe\">\n",
       "<caption>A data.frame: 2 × 2</caption>\n",
       "<thead>\n",
       "\t<tr><th scope=col>cyclistic_2021$member_casual</th><th scope=col>cyclistic_2021$duration</th></tr>\n",
       "\t<tr><th scope=col>&lt;chr&gt;</th><th scope=col>&lt;drtn&gt;</th></tr>\n",
       "</thead>\n",
       "<tbody>\n",
       "\t<tr><td>casual</td><td>30.59751 mins</td></tr>\n",
       "\t<tr><td>member</td><td>13.28089 mins</td></tr>\n",
       "</tbody>\n",
       "</table>\n"
      ],
      "text/latex": [
       "A data.frame: 2 × 2\n",
       "\\begin{tabular}{ll}\n",
       " cyclistic\\_2021\\$member\\_casual & cyclistic\\_2021\\$duration\\\\\n",
       " <chr> & <drtn>\\\\\n",
       "\\hline\n",
       "\t casual & 30.59751 mins\\\\\n",
       "\t member & 13.28089 mins\\\\\n",
       "\\end{tabular}\n"
      ],
      "text/markdown": [
       "\n",
       "A data.frame: 2 × 2\n",
       "\n",
       "| cyclistic_2021$member_casual &lt;chr&gt; | cyclistic_2021$duration &lt;drtn&gt; |\n",
       "|---|---|\n",
       "| casual | 30.59751 mins |\n",
       "| member | 13.28089 mins |\n",
       "\n"
      ],
      "text/plain": [
       "  cyclistic_2021$member_casual cyclistic_2021$duration\n",
       "1 casual                       30.59751 mins          \n",
       "2 member                       13.28089 mins          "
      ]
     },
     "metadata": {},
     "output_type": "display_data"
    },
    {
     "data": {
      "text/html": [
       "<table class=\"dataframe\">\n",
       "<caption>A data.frame: 2 × 2</caption>\n",
       "<thead>\n",
       "\t<tr><th scope=col>cyclistic_2021$member_casual</th><th scope=col>cyclistic_2021$duration</th></tr>\n",
       "\t<tr><th scope=col>&lt;chr&gt;</th><th scope=col>&lt;drtn&gt;</th></tr>\n",
       "</thead>\n",
       "<tbody>\n",
       "\t<tr><td>casual</td><td>15.91667 mins</td></tr>\n",
       "\t<tr><td>member</td><td> 9.55000 mins</td></tr>\n",
       "</tbody>\n",
       "</table>\n"
      ],
      "text/latex": [
       "A data.frame: 2 × 2\n",
       "\\begin{tabular}{ll}\n",
       " cyclistic\\_2021\\$member\\_casual & cyclistic\\_2021\\$duration\\\\\n",
       " <chr> & <drtn>\\\\\n",
       "\\hline\n",
       "\t casual & 15.91667 mins\\\\\n",
       "\t member &  9.55000 mins\\\\\n",
       "\\end{tabular}\n"
      ],
      "text/markdown": [
       "\n",
       "A data.frame: 2 × 2\n",
       "\n",
       "| cyclistic_2021$member_casual &lt;chr&gt; | cyclistic_2021$duration &lt;drtn&gt; |\n",
       "|---|---|\n",
       "| casual | 15.91667 mins |\n",
       "| member |  9.55000 mins |\n",
       "\n"
      ],
      "text/plain": [
       "  cyclistic_2021$member_casual cyclistic_2021$duration\n",
       "1 casual                       15.91667 mins          \n",
       "2 member                        9.55000 mins          "
      ]
     },
     "metadata": {},
     "output_type": "display_data"
    },
    {
     "data": {
      "text/html": [
       "<table class=\"dataframe\">\n",
       "<caption>A data.frame: 2 × 2</caption>\n",
       "<thead>\n",
       "\t<tr><th scope=col>cyclistic_2021$member_casual</th><th scope=col>cyclistic_2021$day_of_week</th></tr>\n",
       "\t<tr><th scope=col>&lt;chr&gt;</th><th scope=col>&lt;ord&gt;</th></tr>\n",
       "</thead>\n",
       "<tbody>\n",
       "\t<tr><td>casual</td><td>Saturday </td></tr>\n",
       "\t<tr><td>member</td><td>Wednesday</td></tr>\n",
       "</tbody>\n",
       "</table>\n"
      ],
      "text/latex": [
       "A data.frame: 2 × 2\n",
       "\\begin{tabular}{ll}\n",
       " cyclistic\\_2021\\$member\\_casual & cyclistic\\_2021\\$day\\_of\\_week\\\\\n",
       " <chr> & <ord>\\\\\n",
       "\\hline\n",
       "\t casual & Saturday \\\\\n",
       "\t member & Wednesday\\\\\n",
       "\\end{tabular}\n"
      ],
      "text/markdown": [
       "\n",
       "A data.frame: 2 × 2\n",
       "\n",
       "| cyclistic_2021$member_casual &lt;chr&gt; | cyclistic_2021$day_of_week &lt;ord&gt; |\n",
       "|---|---|\n",
       "| casual | Saturday  |\n",
       "| member | Wednesday |\n",
       "\n"
      ],
      "text/plain": [
       "  cyclistic_2021$member_casual cyclistic_2021$day_of_week\n",
       "1 casual                       Saturday                  \n",
       "2 member                       Wednesday                 "
      ]
     },
     "metadata": {},
     "output_type": "display_data"
    },
    {
     "data": {
      "text/html": [
       "<table class=\"dataframe\">\n",
       "<caption>A data.frame: 2 × 2</caption>\n",
       "<thead>\n",
       "\t<tr><th scope=col>cyclistic_2021$member_casual</th><th scope=col>cyclistic_2021$month</th></tr>\n",
       "\t<tr><th scope=col>&lt;chr&gt;</th><th scope=col>&lt;chr&gt;</th></tr>\n",
       "</thead>\n",
       "<tbody>\n",
       "\t<tr><td>casual</td><td>07</td></tr>\n",
       "\t<tr><td>member</td><td>10</td></tr>\n",
       "</tbody>\n",
       "</table>\n"
      ],
      "text/latex": [
       "A data.frame: 2 × 2\n",
       "\\begin{tabular}{ll}\n",
       " cyclistic\\_2021\\$member\\_casual & cyclistic\\_2021\\$month\\\\\n",
       " <chr> & <chr>\\\\\n",
       "\\hline\n",
       "\t casual & 07\\\\\n",
       "\t member & 10\\\\\n",
       "\\end{tabular}\n"
      ],
      "text/markdown": [
       "\n",
       "A data.frame: 2 × 2\n",
       "\n",
       "| cyclistic_2021$member_casual &lt;chr&gt; | cyclistic_2021$month &lt;chr&gt; |\n",
       "|---|---|\n",
       "| casual | 07 |\n",
       "| member | 10 |\n",
       "\n"
      ],
      "text/plain": [
       "  cyclistic_2021$member_casual cyclistic_2021$month\n",
       "1 casual                       07                  \n",
       "2 member                       10                  "
      ]
     },
     "metadata": {},
     "output_type": "display_data"
    },
    {
     "data": {
      "text/html": [
       "<table class=\"dataframe\">\n",
       "<caption>A data.frame: 2 × 2</caption>\n",
       "<thead>\n",
       "\t<tr><th scope=col>cyclistic_2021$member_casual</th><th scope=col>cyclistic_2021$duration</th></tr>\n",
       "\t<tr><th scope=col>&lt;chr&gt;</th><th scope=col>&lt;drtn&gt;</th></tr>\n",
       "</thead>\n",
       "<tbody>\n",
       "\t<tr><td>casual</td><td>55944.150 mins</td></tr>\n",
       "\t<tr><td>member</td><td> 1499.933 mins</td></tr>\n",
       "</tbody>\n",
       "</table>\n"
      ],
      "text/latex": [
       "A data.frame: 2 × 2\n",
       "\\begin{tabular}{ll}\n",
       " cyclistic\\_2021\\$member\\_casual & cyclistic\\_2021\\$duration\\\\\n",
       " <chr> & <drtn>\\\\\n",
       "\\hline\n",
       "\t casual & 55944.150 mins\\\\\n",
       "\t member &  1499.933 mins\\\\\n",
       "\\end{tabular}\n"
      ],
      "text/markdown": [
       "\n",
       "A data.frame: 2 × 2\n",
       "\n",
       "| cyclistic_2021$member_casual &lt;chr&gt; | cyclistic_2021$duration &lt;drtn&gt; |\n",
       "|---|---|\n",
       "| casual | 55944.150 mins |\n",
       "| member |  1499.933 mins |\n",
       "\n"
      ],
      "text/plain": [
       "  cyclistic_2021$member_casual cyclistic_2021$duration\n",
       "1 casual                       55944.150 mins         \n",
       "2 member                        1499.933 mins         "
      ]
     },
     "metadata": {},
     "output_type": "display_data"
    },
    {
     "data": {
      "text/html": [
       "<table class=\"dataframe\">\n",
       "<caption>A data.frame: 2 × 2</caption>\n",
       "<thead>\n",
       "\t<tr><th scope=col>cyclistic_2021$member_casual</th><th scope=col>cyclistic_2021$duration</th></tr>\n",
       "\t<tr><th scope=col>&lt;chr&gt;</th><th scope=col>&lt;drtn&gt;</th></tr>\n",
       "</thead>\n",
       "<tbody>\n",
       "\t<tr><td>casual</td><td>0 mins</td></tr>\n",
       "\t<tr><td>member</td><td>0 mins</td></tr>\n",
       "</tbody>\n",
       "</table>\n"
      ],
      "text/latex": [
       "A data.frame: 2 × 2\n",
       "\\begin{tabular}{ll}\n",
       " cyclistic\\_2021\\$member\\_casual & cyclistic\\_2021\\$duration\\\\\n",
       " <chr> & <drtn>\\\\\n",
       "\\hline\n",
       "\t casual & 0 mins\\\\\n",
       "\t member & 0 mins\\\\\n",
       "\\end{tabular}\n"
      ],
      "text/markdown": [
       "\n",
       "A data.frame: 2 × 2\n",
       "\n",
       "| cyclistic_2021$member_casual &lt;chr&gt; | cyclistic_2021$duration &lt;drtn&gt; |\n",
       "|---|---|\n",
       "| casual | 0 mins |\n",
       "| member | 0 mins |\n",
       "\n"
      ],
      "text/plain": [
       "  cyclistic_2021$member_casual cyclistic_2021$duration\n",
       "1 casual                       0 mins                 \n",
       "2 member                       0 mins                 "
      ]
     },
     "metadata": {},
     "output_type": "display_data"
    },
    {
     "data": {
      "text/html": [
       "<table class=\"dataframe\">\n",
       "<caption>A data.frame: 14 × 3</caption>\n",
       "<thead>\n",
       "\t<tr><th scope=col>cyclistic_2021$member_casual</th><th scope=col>cyclistic_2021$day_of_week</th><th scope=col>cyclistic_2021$duration</th></tr>\n",
       "\t<tr><th scope=col>&lt;chr&gt;</th><th scope=col>&lt;ord&gt;</th><th scope=col>&lt;drtn&gt;</th></tr>\n",
       "</thead>\n",
       "<tbody>\n",
       "\t<tr><td>casual</td><td>Sunday   </td><td>35.74283 mins</td></tr>\n",
       "\t<tr><td>member</td><td>Sunday   </td><td>15.19937 mins</td></tr>\n",
       "\t<tr><td>casual</td><td>Monday   </td><td>30.58031 mins</td></tr>\n",
       "\t<tr><td>member</td><td>Monday   </td><td>12.85927 mins</td></tr>\n",
       "\t<tr><td>casual</td><td>Tuesday  </td><td>26.91350 mins</td></tr>\n",
       "\t<tr><td>member</td><td>Tuesday  </td><td>12.49693 mins</td></tr>\n",
       "\t<tr><td>casual</td><td>Wednesday</td><td>26.40601 mins</td></tr>\n",
       "\t<tr><td>member</td><td>Wednesday</td><td>12.55599 mins</td></tr>\n",
       "\t<tr><td>casual</td><td>Thursday </td><td>25.93555 mins</td></tr>\n",
       "\t<tr><td>member</td><td>Thursday </td><td>12.43645 mins</td></tr>\n",
       "\t<tr><td>casual</td><td>Friday   </td><td>29.05433 mins</td></tr>\n",
       "\t<tr><td>member</td><td>Friday   </td><td>12.98213 mins</td></tr>\n",
       "\t<tr><td>casual</td><td>Saturday </td><td>33.32501 mins</td></tr>\n",
       "\t<tr><td>member</td><td>Saturday </td><td>14.85071 mins</td></tr>\n",
       "</tbody>\n",
       "</table>\n"
      ],
      "text/latex": [
       "A data.frame: 14 × 3\n",
       "\\begin{tabular}{lll}\n",
       " cyclistic\\_2021\\$member\\_casual & cyclistic\\_2021\\$day\\_of\\_week & cyclistic\\_2021\\$duration\\\\\n",
       " <chr> & <ord> & <drtn>\\\\\n",
       "\\hline\n",
       "\t casual & Sunday    & 35.74283 mins\\\\\n",
       "\t member & Sunday    & 15.19937 mins\\\\\n",
       "\t casual & Monday    & 30.58031 mins\\\\\n",
       "\t member & Monday    & 12.85927 mins\\\\\n",
       "\t casual & Tuesday   & 26.91350 mins\\\\\n",
       "\t member & Tuesday   & 12.49693 mins\\\\\n",
       "\t casual & Wednesday & 26.40601 mins\\\\\n",
       "\t member & Wednesday & 12.55599 mins\\\\\n",
       "\t casual & Thursday  & 25.93555 mins\\\\\n",
       "\t member & Thursday  & 12.43645 mins\\\\\n",
       "\t casual & Friday    & 29.05433 mins\\\\\n",
       "\t member & Friday    & 12.98213 mins\\\\\n",
       "\t casual & Saturday  & 33.32501 mins\\\\\n",
       "\t member & Saturday  & 14.85071 mins\\\\\n",
       "\\end{tabular}\n"
      ],
      "text/markdown": [
       "\n",
       "A data.frame: 14 × 3\n",
       "\n",
       "| cyclistic_2021$member_casual &lt;chr&gt; | cyclistic_2021$day_of_week &lt;ord&gt; | cyclistic_2021$duration &lt;drtn&gt; |\n",
       "|---|---|---|\n",
       "| casual | Sunday    | 35.74283 mins |\n",
       "| member | Sunday    | 15.19937 mins |\n",
       "| casual | Monday    | 30.58031 mins |\n",
       "| member | Monday    | 12.85927 mins |\n",
       "| casual | Tuesday   | 26.91350 mins |\n",
       "| member | Tuesday   | 12.49693 mins |\n",
       "| casual | Wednesday | 26.40601 mins |\n",
       "| member | Wednesday | 12.55599 mins |\n",
       "| casual | Thursday  | 25.93555 mins |\n",
       "| member | Thursday  | 12.43645 mins |\n",
       "| casual | Friday    | 29.05433 mins |\n",
       "| member | Friday    | 12.98213 mins |\n",
       "| casual | Saturday  | 33.32501 mins |\n",
       "| member | Saturday  | 14.85071 mins |\n",
       "\n"
      ],
      "text/plain": [
       "   cyclistic_2021$member_casual cyclistic_2021$day_of_week\n",
       "1  casual                       Sunday                    \n",
       "2  member                       Sunday                    \n",
       "3  casual                       Monday                    \n",
       "4  member                       Monday                    \n",
       "5  casual                       Tuesday                   \n",
       "6  member                       Tuesday                   \n",
       "7  casual                       Wednesday                 \n",
       "8  member                       Wednesday                 \n",
       "9  casual                       Thursday                  \n",
       "10 member                       Thursday                  \n",
       "11 casual                       Friday                    \n",
       "12 member                       Friday                    \n",
       "13 casual                       Saturday                  \n",
       "14 member                       Saturday                  \n",
       "   cyclistic_2021$duration\n",
       "1  35.74283 mins          \n",
       "2  15.19937 mins          \n",
       "3  30.58031 mins          \n",
       "4  12.85927 mins          \n",
       "5  26.91350 mins          \n",
       "6  12.49693 mins          \n",
       "7  26.40601 mins          \n",
       "8  12.55599 mins          \n",
       "9  25.93555 mins          \n",
       "10 12.43645 mins          \n",
       "11 29.05433 mins          \n",
       "12 12.98213 mins          \n",
       "13 33.32501 mins          \n",
       "14 14.85071 mins          "
      ]
     },
     "metadata": {},
     "output_type": "display_data"
    }
   ],
   "source": [
    "# Define a custom mode function (mfv) to calculate mode\n",
    "mfv <- function(x) {\n",
    "  ux <- unique(x)\n",
    "  ux[which.max(tabulate(match(x, ux)))]\n",
    "}\n",
    "\n",
    "# Aggregate using mean duration\n",
    "aggregate(cyclistic_2021$duration ~ cyclistic_2021$member_casual, FUN = mean)\n",
    "\n",
    "# Aggregate using median duration\n",
    "aggregate(cyclistic_2021$duration ~ cyclistic_2021$member_casual, FUN = median)\n",
    "\n",
    "# Aggregate using mode of day_of_week\n",
    "aggregate(cyclistic_2021$day_of_week ~ cyclistic_2021$member_casual, FUN = mfv)\n",
    "\n",
    "# Aggregate using mode of month\n",
    "aggregate(cyclistic_2021$month ~ cyclistic_2021$member_casual, FUN = mfv)\n",
    "\n",
    "# Aggregate using maximum duration\n",
    "aggregate(cyclistic_2021$duration ~ cyclistic_2021$member_casual, FUN = max)\n",
    "\n",
    "# Aggregate using minimum duration\n",
    "aggregate(cyclistic_2021$duration ~ cyclistic_2021$member_casual, FUN = min)\n",
    "\n",
    "# Aggregate using mean duration for each member_casual and day_of_week combination\n",
    "aggregate(cyclistic_2021$duration ~ cyclistic_2021$member_casual + cyclistic_2021$day_of_week, FUN = mean)\n"
   ]
  },
  {
   "cell_type": "markdown",
   "metadata": {
    "id": "xDpPOK6BwoeI"
   },
   "source": [
    "#### Arranging membership status and ride duration according to days of the week (week day)"
   ]
  },
  {
   "cell_type": "code",
   "execution_count": null,
   "metadata": {
    "colab": {
     "base_uri": "https://localhost:8080/",
     "height": 683
    },
    "id": "14hxd4bqMds3",
    "outputId": "d4c1ef8f-c1fe-45fc-a0a5-8013ccc9e8d9"
   },
   "outputs": [
    {
     "name": "stderr",
     "output_type": "stream",
     "text": [
      "\u001b[1m\u001b[22m`summarise()` has grouped output by 'member_casual'. You can override using the\n",
      "`.groups` argument.\n"
     ]
    },
    {
     "data": {
      "text/html": [
       "<table class=\"dataframe\">\n",
       "<caption>A grouped_df: 14 × 4</caption>\n",
       "<thead>\n",
       "\t<tr><th scope=col>member_casual</th><th scope=col>weekday</th><th scope=col>number_of_rides</th><th scope=col>average_duration</th></tr>\n",
       "\t<tr><th scope=col>&lt;chr&gt;</th><th scope=col>&lt;ord&gt;</th><th scope=col>&lt;int&gt;</th><th scope=col>&lt;drtn&gt;</th></tr>\n",
       "</thead>\n",
       "<tbody>\n",
       "\t<tr><td>casual</td><td>Sun</td><td>415336</td><td>35.74283 mins</td></tr>\n",
       "\t<tr><td>casual</td><td>Mon</td><td>244476</td><td>30.58031 mins</td></tr>\n",
       "\t<tr><td>casual</td><td>Tue</td><td>233322</td><td>26.91350 mins</td></tr>\n",
       "\t<tr><td>casual</td><td>Wed</td><td>236384</td><td>26.40601 mins</td></tr>\n",
       "\t<tr><td>casual</td><td>Thu</td><td>239529</td><td>25.93555 mins</td></tr>\n",
       "\t<tr><td>casual</td><td>Fri</td><td>309043</td><td>29.05433 mins</td></tr>\n",
       "\t<tr><td>casual</td><td>Sat</td><td>480706</td><td>33.32501 mins</td></tr>\n",
       "\t<tr><td>member</td><td>Sun</td><td>335435</td><td>15.19937 mins</td></tr>\n",
       "\t<tr><td>member</td><td>Mon</td><td>373616</td><td>12.85927 mins</td></tr>\n",
       "\t<tr><td>member</td><td>Tue</td><td>417655</td><td>12.49693 mins</td></tr>\n",
       "\t<tr><td>member</td><td>Wed</td><td>428347</td><td>12.55599 mins</td></tr>\n",
       "\t<tr><td>member</td><td>Thu</td><td>400443</td><td>12.43645 mins</td></tr>\n",
       "\t<tr><td>member</td><td>Fri</td><td>399609</td><td>12.98213 mins</td></tr>\n",
       "\t<tr><td>member</td><td>Sat</td><td>388239</td><td>14.85071 mins</td></tr>\n",
       "</tbody>\n",
       "</table>\n"
      ],
      "text/latex": [
       "A grouped\\_df: 14 × 4\n",
       "\\begin{tabular}{llll}\n",
       " member\\_casual & weekday & number\\_of\\_rides & average\\_duration\\\\\n",
       " <chr> & <ord> & <int> & <drtn>\\\\\n",
       "\\hline\n",
       "\t casual & Sun & 415336 & 35.74283 mins\\\\\n",
       "\t casual & Mon & 244476 & 30.58031 mins\\\\\n",
       "\t casual & Tue & 233322 & 26.91350 mins\\\\\n",
       "\t casual & Wed & 236384 & 26.40601 mins\\\\\n",
       "\t casual & Thu & 239529 & 25.93555 mins\\\\\n",
       "\t casual & Fri & 309043 & 29.05433 mins\\\\\n",
       "\t casual & Sat & 480706 & 33.32501 mins\\\\\n",
       "\t member & Sun & 335435 & 15.19937 mins\\\\\n",
       "\t member & Mon & 373616 & 12.85927 mins\\\\\n",
       "\t member & Tue & 417655 & 12.49693 mins\\\\\n",
       "\t member & Wed & 428347 & 12.55599 mins\\\\\n",
       "\t member & Thu & 400443 & 12.43645 mins\\\\\n",
       "\t member & Fri & 399609 & 12.98213 mins\\\\\n",
       "\t member & Sat & 388239 & 14.85071 mins\\\\\n",
       "\\end{tabular}\n"
      ],
      "text/markdown": [
       "\n",
       "A grouped_df: 14 × 4\n",
       "\n",
       "| member_casual &lt;chr&gt; | weekday &lt;ord&gt; | number_of_rides &lt;int&gt; | average_duration &lt;drtn&gt; |\n",
       "|---|---|---|---|\n",
       "| casual | Sun | 415336 | 35.74283 mins |\n",
       "| casual | Mon | 244476 | 30.58031 mins |\n",
       "| casual | Tue | 233322 | 26.91350 mins |\n",
       "| casual | Wed | 236384 | 26.40601 mins |\n",
       "| casual | Thu | 239529 | 25.93555 mins |\n",
       "| casual | Fri | 309043 | 29.05433 mins |\n",
       "| casual | Sat | 480706 | 33.32501 mins |\n",
       "| member | Sun | 335435 | 15.19937 mins |\n",
       "| member | Mon | 373616 | 12.85927 mins |\n",
       "| member | Tue | 417655 | 12.49693 mins |\n",
       "| member | Wed | 428347 | 12.55599 mins |\n",
       "| member | Thu | 400443 | 12.43645 mins |\n",
       "| member | Fri | 399609 | 12.98213 mins |\n",
       "| member | Sat | 388239 | 14.85071 mins |\n",
       "\n"
      ],
      "text/plain": [
       "   member_casual weekday number_of_rides average_duration\n",
       "1  casual        Sun     415336          35.74283 mins   \n",
       "2  casual        Mon     244476          30.58031 mins   \n",
       "3  casual        Tue     233322          26.91350 mins   \n",
       "4  casual        Wed     236384          26.40601 mins   \n",
       "5  casual        Thu     239529          25.93555 mins   \n",
       "6  casual        Fri     309043          29.05433 mins   \n",
       "7  casual        Sat     480706          33.32501 mins   \n",
       "8  member        Sun     335435          15.19937 mins   \n",
       "9  member        Mon     373616          12.85927 mins   \n",
       "10 member        Tue     417655          12.49693 mins   \n",
       "11 member        Wed     428347          12.55599 mins   \n",
       "12 member        Thu     400443          12.43645 mins   \n",
       "13 member        Fri     399609          12.98213 mins   \n",
       "14 member        Sat     388239          14.85071 mins   "
      ]
     },
     "metadata": {},
     "output_type": "display_data"
    },
    {
     "data": {
      "text/html": [
       "<table class=\"dataframe\">\n",
       "<caption>A data.frame: 1 × 2</caption>\n",
       "<thead>\n",
       "\t<tr><th scope=col>\"ride_id\"</th><th scope=col>n</th></tr>\n",
       "\t<tr><th scope=col>&lt;chr&gt;</th><th scope=col>&lt;int&gt;</th></tr>\n",
       "</thead>\n",
       "<tbody>\n",
       "\t<tr><td>ride_id</td><td>4902140</td></tr>\n",
       "</tbody>\n",
       "</table>\n"
      ],
      "text/latex": [
       "A data.frame: 1 × 2\n",
       "\\begin{tabular}{ll}\n",
       " \"ride\\_id\" & n\\\\\n",
       " <chr> & <int>\\\\\n",
       "\\hline\n",
       "\t ride\\_id & 4902140\\\\\n",
       "\\end{tabular}\n"
      ],
      "text/markdown": [
       "\n",
       "A data.frame: 1 × 2\n",
       "\n",
       "| \"ride_id\" &lt;chr&gt; | n &lt;int&gt; |\n",
       "|---|---|\n",
       "| ride_id | 4902140 |\n",
       "\n"
      ],
      "text/plain": [
       "  \"ride_id\" n      \n",
       "1 ride_id   4902140"
      ]
     },
     "metadata": {},
     "output_type": "display_data"
    }
   ],
   "source": [
    "cyclistic_2021 %>%\n",
    "  mutate(weekday = wday(start_date, label = TRUE)) %>%\n",
    "  group_by(member_casual, weekday) %>%\n",
    "  summarise(number_of_rides = n(),average_duration = mean(duration)) %>%\n",
    "  arrange(member_casual, weekday)\n",
    "count(cyclistic_2021, \"ride_id\")"
   ]
  },
  {
   "cell_type": "markdown",
   "metadata": {
    "id": "P9UW5xvEw1bI"
   },
   "source": [
    "- After analyzing the data, I now see that the average duration for both members and casual riders are highest on weekends (Saturday & Sunday).\n",
    "- I also notice the average duration time for casual riders is always significantly longer than that of members. This tells me that casual riders more likely to use their rides for leisure purposes whereas members probably use their rides to commute to work or someplace regularly as a routine."
   ]
  },
  {
   "cell_type": "markdown",
   "metadata": {
    "id": "JgkdYwyjxGIh"
   },
   "source": [
    "### Share"
   ]
  },
  {
   "cell_type": "code",
   "execution_count": 1,
   "metadata": {
    "id": "iRGRsCzPw-Aj"
   },
   "outputs": [],
   "source": [
    "from google.colab import files\n",
    "from IPython.display import Image"
   ]
  },
  {
   "cell_type": "code",
   "execution_count": 2,
   "metadata": {
    "colab": {
     "base_uri": "https://localhost:8080/",
     "height": 177
    },
    "id": "PAfN5hX6z4uS",
    "outputId": "03bed689-4465-4f90-bc8a-fdb683d75785"
   },
   "outputs": [
    {
     "data": {
      "text/html": [
       "\n",
       "     <input type=\"file\" id=\"files-2c3bd5fa-ddbb-41f7-9357-8aded1d0dcd0\" name=\"files[]\" multiple disabled\n",
       "        style=\"border:none\" />\n",
       "     <output id=\"result-2c3bd5fa-ddbb-41f7-9357-8aded1d0dcd0\">\n",
       "      Upload widget is only available when the cell has been executed in the\n",
       "      current browser session. Please rerun this cell to enable.\n",
       "      </output>\n",
       "      <script>// Copyright 2017 Google LLC\n",
       "//\n",
       "// Licensed under the Apache License, Version 2.0 (the \"License\");\n",
       "// you may not use this file except in compliance with the License.\n",
       "// You may obtain a copy of the License at\n",
       "//\n",
       "//      http://www.apache.org/licenses/LICENSE-2.0\n",
       "//\n",
       "// Unless required by applicable law or agreed to in writing, software\n",
       "// distributed under the License is distributed on an \"AS IS\" BASIS,\n",
       "// WITHOUT WARRANTIES OR CONDITIONS OF ANY KIND, either express or implied.\n",
       "// See the License for the specific language governing permissions and\n",
       "// limitations under the License.\n",
       "\n",
       "/**\n",
       " * @fileoverview Helpers for google.colab Python module.\n",
       " */\n",
       "(function(scope) {\n",
       "function span(text, styleAttributes = {}) {\n",
       "  const element = document.createElement('span');\n",
       "  element.textContent = text;\n",
       "  for (const key of Object.keys(styleAttributes)) {\n",
       "    element.style[key] = styleAttributes[key];\n",
       "  }\n",
       "  return element;\n",
       "}\n",
       "\n",
       "// Max number of bytes which will be uploaded at a time.\n",
       "const MAX_PAYLOAD_SIZE = 100 * 1024;\n",
       "\n",
       "function _uploadFiles(inputId, outputId) {\n",
       "  const steps = uploadFilesStep(inputId, outputId);\n",
       "  const outputElement = document.getElementById(outputId);\n",
       "  // Cache steps on the outputElement to make it available for the next call\n",
       "  // to uploadFilesContinue from Python.\n",
       "  outputElement.steps = steps;\n",
       "\n",
       "  return _uploadFilesContinue(outputId);\n",
       "}\n",
       "\n",
       "// This is roughly an async generator (not supported in the browser yet),\n",
       "// where there are multiple asynchronous steps and the Python side is going\n",
       "// to poll for completion of each step.\n",
       "// This uses a Promise to block the python side on completion of each step,\n",
       "// then passes the result of the previous step as the input to the next step.\n",
       "function _uploadFilesContinue(outputId) {\n",
       "  const outputElement = document.getElementById(outputId);\n",
       "  const steps = outputElement.steps;\n",
       "\n",
       "  const next = steps.next(outputElement.lastPromiseValue);\n",
       "  return Promise.resolve(next.value.promise).then((value) => {\n",
       "    // Cache the last promise value to make it available to the next\n",
       "    // step of the generator.\n",
       "    outputElement.lastPromiseValue = value;\n",
       "    return next.value.response;\n",
       "  });\n",
       "}\n",
       "\n",
       "/**\n",
       " * Generator function which is called between each async step of the upload\n",
       " * process.\n",
       " * @param {string} inputId Element ID of the input file picker element.\n",
       " * @param {string} outputId Element ID of the output display.\n",
       " * @return {!Iterable<!Object>} Iterable of next steps.\n",
       " */\n",
       "function* uploadFilesStep(inputId, outputId) {\n",
       "  const inputElement = document.getElementById(inputId);\n",
       "  inputElement.disabled = false;\n",
       "\n",
       "  const outputElement = document.getElementById(outputId);\n",
       "  outputElement.innerHTML = '';\n",
       "\n",
       "  const pickedPromise = new Promise((resolve) => {\n",
       "    inputElement.addEventListener('change', (e) => {\n",
       "      resolve(e.target.files);\n",
       "    });\n",
       "  });\n",
       "\n",
       "  const cancel = document.createElement('button');\n",
       "  inputElement.parentElement.appendChild(cancel);\n",
       "  cancel.textContent = 'Cancel upload';\n",
       "  const cancelPromise = new Promise((resolve) => {\n",
       "    cancel.onclick = () => {\n",
       "      resolve(null);\n",
       "    };\n",
       "  });\n",
       "\n",
       "  // Wait for the user to pick the files.\n",
       "  const files = yield {\n",
       "    promise: Promise.race([pickedPromise, cancelPromise]),\n",
       "    response: {\n",
       "      action: 'starting',\n",
       "    }\n",
       "  };\n",
       "\n",
       "  cancel.remove();\n",
       "\n",
       "  // Disable the input element since further picks are not allowed.\n",
       "  inputElement.disabled = true;\n",
       "\n",
       "  if (!files) {\n",
       "    return {\n",
       "      response: {\n",
       "        action: 'complete',\n",
       "      }\n",
       "    };\n",
       "  }\n",
       "\n",
       "  for (const file of files) {\n",
       "    const li = document.createElement('li');\n",
       "    li.append(span(file.name, {fontWeight: 'bold'}));\n",
       "    li.append(span(\n",
       "        `(${file.type || 'n/a'}) - ${file.size} bytes, ` +\n",
       "        `last modified: ${\n",
       "            file.lastModifiedDate ? file.lastModifiedDate.toLocaleDateString() :\n",
       "                                    'n/a'} - `));\n",
       "    const percent = span('0% done');\n",
       "    li.appendChild(percent);\n",
       "\n",
       "    outputElement.appendChild(li);\n",
       "\n",
       "    const fileDataPromise = new Promise((resolve) => {\n",
       "      const reader = new FileReader();\n",
       "      reader.onload = (e) => {\n",
       "        resolve(e.target.result);\n",
       "      };\n",
       "      reader.readAsArrayBuffer(file);\n",
       "    });\n",
       "    // Wait for the data to be ready.\n",
       "    let fileData = yield {\n",
       "      promise: fileDataPromise,\n",
       "      response: {\n",
       "        action: 'continue',\n",
       "      }\n",
       "    };\n",
       "\n",
       "    // Use a chunked sending to avoid message size limits. See b/62115660.\n",
       "    let position = 0;\n",
       "    do {\n",
       "      const length = Math.min(fileData.byteLength - position, MAX_PAYLOAD_SIZE);\n",
       "      const chunk = new Uint8Array(fileData, position, length);\n",
       "      position += length;\n",
       "\n",
       "      const base64 = btoa(String.fromCharCode.apply(null, chunk));\n",
       "      yield {\n",
       "        response: {\n",
       "          action: 'append',\n",
       "          file: file.name,\n",
       "          data: base64,\n",
       "        },\n",
       "      };\n",
       "\n",
       "      let percentDone = fileData.byteLength === 0 ?\n",
       "          100 :\n",
       "          Math.round((position / fileData.byteLength) * 100);\n",
       "      percent.textContent = `${percentDone}% done`;\n",
       "\n",
       "    } while (position < fileData.byteLength);\n",
       "  }\n",
       "\n",
       "  // All done.\n",
       "  yield {\n",
       "    response: {\n",
       "      action: 'complete',\n",
       "    }\n",
       "  };\n",
       "}\n",
       "\n",
       "scope.google = scope.google || {};\n",
       "scope.google.colab = scope.google.colab || {};\n",
       "scope.google.colab._files = {\n",
       "  _uploadFiles,\n",
       "  _uploadFilesContinue,\n",
       "};\n",
       "})(self);\n",
       "</script> "
      ],
      "text/plain": [
       "<IPython.core.display.HTML object>"
      ]
     },
     "metadata": {},
     "output_type": "display_data"
    },
    {
     "name": "stdout",
     "output_type": "stream",
     "text": [
      "Saving Share_4.png to Share_4.png\n",
      "Saving Share_3.png to Share_3.png\n",
      "Saving Share_2.png to Share_2.png\n",
      "Saving Share_1.png to Share_1.png\n"
     ]
    }
   ],
   "source": [
    "uploaded = files.upload()"
   ]
  },
  {
   "cell_type": "code",
   "execution_count": 4,
   "metadata": {
    "colab": {
     "base_uri": "https://localhost:8080/",
     "height": 518
    },
    "id": "MEaoBI4Jz80A",
    "outputId": "d81cf832-0d69-4bd9-f9a3-a0d11d7051bb"
   },
   "outputs": [
    {
     "data": {
      "image/png": "[encoded data removed]",
      "text/plain": [
       "<IPython.core.display.Image object>"
      ]
     },
     "execution_count": 4,
     "metadata": {
      "image/png": {
       "width": 525
      }
     },
     "output_type": "execute_result"
    }
   ],
   "source": [
    "Image('Share_1.png', width= 525)"
   ]
  },
  {
   "cell_type": "code",
   "execution_count": 6,
   "metadata": {
    "colab": {
     "base_uri": "https://localhost:8080/",
     "height": 566
    },
    "id": "-VfK4FNl0OhG",
    "outputId": "fc81062a-d92e-4278-fb81-f684468daded"
   },
   "outputs": [
    {
     "data": {
      "image/png": "[encoded data removed]",
      "text/plain": [
       "<IPython.core.display.Image object>"
      ]
     },
     "execution_count": 6,
     "metadata": {
      "image/png": {
       "width": 525
      }
     },
     "output_type": "execute_result"
    }
   ],
   "source": [
    "Image('Share_2.png', width= 525)"
   ]
  },
  {
   "cell_type": "code",
   "execution_count": 7,
   "metadata": {
    "colab": {
     "base_uri": "https://localhost:8080/",
     "height": 241
    },
    "id": "Ss_havNf0VgP",
    "outputId": "05f7b2eb-09a1-447e-d4cc-690a23e56e06"
   },
   "outputs": [
    {
     "data": {
      "image/png": "[encoded data removed]",
      "text/plain": [
       "<IPython.core.display.Image object>"
      ]
     },
     "execution_count": 7,
     "metadata": {
      "image/png": {
       "width": 525
      }
     },
     "output_type": "execute_result"
    }
   ],
   "source": [
    "Image('Share_3.png', width= 525)"
   ]
  },
  {
   "cell_type": "code",
   "execution_count": 8,
   "metadata": {
    "colab": {
     "base_uri": "https://localhost:8080/",
     "height": 263
    },
    "id": "Qb2RNqqB0Zep",
    "outputId": "265723f7-92a9-430b-ddb4-caf326c99d3b"
   },
   "outputs": [
    {
     "data": {
      "image/png": "[encoded data removed]",
      "text/plain": [
       "<IPython.core.display.Image object>"
      ]
     },
     "execution_count": 8,
     "metadata": {
      "image/png": {
       "width": 525
      }
     },
     "output_type": "execute_result"
    }
   ],
   "source": [
    "Image('Share_4.png', width= 525)"
   ]
  },
  {
   "cell_type": "markdown",
   "metadata": {
    "id": "cp7whbCc0zJY"
   },
   "source": [
    "- Firstly, I found that casual riders tend to have an average ride length (duration) of 29 minutes as compared to annual members who have an average ride length of about 13 minutes. This tells us that the average ride length of a casual rider is about 2.2x longer than that of an annual member. This, as proposed earlier, could be due to the differences in usage of these rides. Casual riders probably use these rides for leisure or tourist purposes (will be explained later), whereas members probably use their rides to get to a specific destination routinely (explaining their shorter ride lengths).\n",
    "\n",
    "- As seen in the Tableau visualizations, the highest day in which rides are taken (both casual and annual members) are on Sundays, followed by Saturdays. This could be due to the fact most people don't work on the weekends which allows them to have leisure time with their family. Additionally, the visualization also shows us that during the summer months, ride times for casual users spike drastically which tells us that it is a popular choice for tourists visiting in the summer. We also can see that the casual riders decrease to nearly zero during the winter months.\n",
    "\n",
    "- In terms of bike preferences, the classic bike is the most favoured bike accross the board, followed by the docked bike and lastly the electric bike."
   ]
  },
  {
   "cell_type": "markdown",
   "metadata": {
    "id": "UyXKp5zb080m"
   },
   "source": [
    "### Act"
   ]
  },
  {
   "cell_type": "markdown",
   "metadata": {
    "id": "xaESU2141IPK"
   },
   "source": [
    "In the Act phase, I am tasked to come up with my top three recomendations based on my analysis.\n",
    "\n",
    "1) I would recommend that a weekend pass be implemented as the data suggests users spend more time on the bikes during the weekend and the frequency of rides are higher.\n",
    "\n",
    "2) A summer membership would be beneficial as tourists could tour the city of Chicago during their visits. This would convert the bulk of casual riders who use the bikes in the summer months.\n",
    "\n",
    "3) The classic bikes should be more readily availble as it seems to be preferred by both member types. The electric bikes should be removed, redesigned, or revamped as its usage seems dissapointing in this modern era."
   ]
  }
 ],
 "metadata": {
  "accelerator": "GPU",
  "colab": {
   "gpuType": "T4",
   "provenance": []
  },
  "kernelspec": {
   "display_name": "Python 3 (ipykernel)",
   "language": "python",
   "name": "python3"
  },
  "language_info": {
   "codemirror_mode": {
    "name": "ipython",
    "version": 3
   },
   "file_extension": ".py",
   "mimetype": "text/x-python",
   "name": "python",
   "nbconvert_exporter": "python",
   "pygments_lexer": "ipython3",
   "version": "3.10.9"
  }
 },
 "nbformat": 4,
 "nbformat_minor": 1
}
